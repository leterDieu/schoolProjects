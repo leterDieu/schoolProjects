{
  "cells": [
    {
      "cell_type": "markdown",
      "metadata": {
        "id": "37kCA850kW7I"
      },
      "source": [
        "#1"
      ]
    },
    {
      "cell_type": "code",
      "execution_count": 1,
      "metadata": {
        "id": "2BNBpQBF8tS4"
      },
      "outputs": [],
      "source": [
        "from requests import get\n",
        "import re\n",
        "import string"
      ]
    },
    {
      "cell_type": "code",
      "execution_count": 2,
      "metadata": {
        "id": "fBQ2i4qd8mgF"
      },
      "outputs": [],
      "source": [
        "urls = ['http://lib.ru/PROZA/LIMONOV/r_eastside.txt_Ascii.txt',\n",
        "        'http://lib.ru/PROZA/LIMONOV/mussolini.txt_Ascii.txt',\n",
        "        'http://lib.ru/PROZA/LIMONOV/r_editor.txt_Ascii.txt',\n",
        "        'http://lib.ru/PROZA/LIMONOV/r_excesses.txt_Ascii.txt',\n",
        "        'http://lib.ru/PROZA/LIMONOV/r_holiday.txt_Ascii.txt',\n",
        "        'http://lib.ru/PROZA/LIMONOV/r_izya.txt_Ascii.txt',\n",
        "        'https://lib.ru/PROZA/LIMONOV/r_leutenant.txt',\n",
        "        'http://lib.ru/PROZA/LIMONOV/r_ship.txt_Ascii.txt',\n",
        "        'http://lib.ru/PROZA/LIMONOV/r_those.txt_Ascii.txt',\n",
        "        'http://lib.ru/PROZA/LIMONOV/r_twin.txt_Ascii.txt']"
      ]
    },
    {
      "cell_type": "code",
      "execution_count": 3,
      "metadata": {
        "id": "K4tC2GBC8wQJ"
      },
      "outputs": [],
      "source": [
        "texts = [get(url).text.replace('\\x14', ' ').replace('\\x15', ' ') for url in urls]"
      ]
    },
    {
      "cell_type": "code",
      "execution_count": 4,
      "metadata": {
        "colab": {
          "base_uri": "https://localhost:8080/"
        },
        "id": "x-4xy5YLHtVO",
        "outputId": "7a8cece5-38f3-4188-ad4b-c6aa6e519fdc"
      },
      "outputs": [
        {
          "output_type": "stream",
          "name": "stdout",
          "text": [
            "  Preparing metadata (setup.py) ... \u001b[?25l\u001b[?25hdone\n",
            "\u001b[2K   \u001b[90m━━━━━━━━━━━━━━━━━━━━━━━━━━━━━━━━━━━━━━━━\u001b[0m \u001b[32m55.5/55.5 kB\u001b[0m \u001b[31m2.5 MB/s\u001b[0m eta \u001b[36m0:00:00\u001b[0m\n",
            "\u001b[2K   \u001b[90m━━━━━━━━━━━━━━━━━━━━━━━━━━━━━━━━━━━━━━━━\u001b[0m \u001b[32m8.2/8.2 MB\u001b[0m \u001b[31m20.2 MB/s\u001b[0m eta \u001b[36m0:00:00\u001b[0m\n",
            "\u001b[?25h  Building wheel for docopt (setup.py) ... \u001b[?25l\u001b[?25hdone\n"
          ]
        }
      ],
      "source": [
        "!pip install pymorphy2 --q"
      ]
    },
    {
      "cell_type": "code",
      "execution_count": 5,
      "metadata": {
        "colab": {
          "base_uri": "https://localhost:8080/"
        },
        "id": "PBbRiKqDKK8l",
        "outputId": "d63d7716-92d2-411b-f2e2-1e64164f5b85"
      },
      "outputs": [
        {
          "output_type": "stream",
          "name": "stdout",
          "text": [
            "\u001b[2K     \u001b[90m━━━━━━━━━━━━━━━━━━━━━━━━━━━━━━━━━━━━━━━━\u001b[0m \u001b[32m15.3/15.3 MB\u001b[0m \u001b[31m39.5 MB/s\u001b[0m eta \u001b[36m0:00:00\u001b[0m\n",
            "\u001b[2K   \u001b[90m━━━━━━━━━━━━━━━━━━━━━━━━━━━━━━━━━━━━━━━━\u001b[0m \u001b[32m53.8/53.8 kB\u001b[0m \u001b[31m1.8 MB/s\u001b[0m eta \u001b[36m0:00:00\u001b[0m\n",
            "\u001b[2K   \u001b[90m━━━━━━━━━━━━━━━━━━━━━━━━━━━━━━━━━━━━━━━━\u001b[0m \u001b[32m8.4/8.4 MB\u001b[0m \u001b[31m55.3 MB/s\u001b[0m eta \u001b[36m0:00:00\u001b[0m\n",
            "\u001b[?25h\u001b[38;5;2m✔ Download and installation successful\u001b[0m\n",
            "You can now load the package via spacy.load('ru_core_news_sm')\n",
            "\u001b[38;5;3m⚠ Restart to reload dependencies\u001b[0m\n",
            "If you are in a Jupyter or Colab notebook, you may need to restart Python in\n",
            "order to load all the package's dependencies. You can do this by selecting the\n",
            "'Restart kernel' or 'Restart runtime' option.\n"
          ]
        }
      ],
      "source": [
        "!python -m spacy download ru_core_news_sm --q"
      ]
    },
    {
      "cell_type": "code",
      "execution_count": 6,
      "metadata": {
        "colab": {
          "base_uri": "https://localhost:8080/"
        },
        "id": "BvVeH3bwPmVm",
        "outputId": "dc060546-d815-4f76-8699-30d7bf4004a0"
      },
      "outputs": [
        {
          "output_type": "stream",
          "name": "stdout",
          "text": [
            "Collecting jsonlines\n",
            "  Downloading jsonlines-4.0.0-py3-none-any.whl.metadata (1.6 kB)\n",
            "Requirement already satisfied: attrs>=19.2.0 in /usr/local/lib/python3.10/dist-packages (from jsonlines) (24.3.0)\n",
            "Downloading jsonlines-4.0.0-py3-none-any.whl (8.7 kB)\n",
            "Installing collected packages: jsonlines\n",
            "Successfully installed jsonlines-4.0.0\n"
          ]
        }
      ],
      "source": [
        "!pip install jsonlines"
      ]
    },
    {
      "cell_type": "code",
      "execution_count": 7,
      "metadata": {
        "colab": {
          "base_uri": "https://localhost:8080/"
        },
        "collapsed": true,
        "id": "XzNnhob0-U5_",
        "outputId": "cef1f450-041c-4036-e056-95be99a22d31"
      },
      "outputs": [
        {
          "output_type": "stream",
          "name": "stderr",
          "text": [
            "[nltk_data] Downloading package stopwords to /root/nltk_data...\n",
            "[nltk_data]   Unzipping corpora/stopwords.zip.\n"
          ]
        },
        {
          "output_type": "execute_result",
          "data": {
            "text/plain": [
              "True"
            ]
          },
          "metadata": {},
          "execution_count": 7
        }
      ],
      "source": [
        "import nltk\n",
        "from nltk.corpus import stopwords\n",
        "from nltk.tokenize import wordpunct_tokenize\n",
        "from pymorphy2 import MorphAnalyzer\n",
        "from sklearn.feature_extraction.text import TfidfVectorizer\n",
        "import time\n",
        "import spacy\n",
        "from spacy.lang.ru.examples import sentences\n",
        "import jsonlines\n",
        "\n",
        "nltk.download('stopwords')"
      ]
    },
    {
      "cell_type": "code",
      "execution_count": 8,
      "metadata": {
        "id": "tlJmyA6pKduk"
      },
      "outputs": [],
      "source": [
        "nlp = spacy.load(\"ru_core_news_sm\")"
      ]
    },
    {
      "cell_type": "code",
      "execution_count": 9,
      "metadata": {
        "id": "NPL3BitwIo_t"
      },
      "outputs": [],
      "source": [
        "stops = stopwords.words(\"russian\")\n",
        "\n",
        "tfidf = TfidfVectorizer(\n",
        "    analyzer=\"word\", # анализировать по словам или по символам (char)\n",
        "    stop_words=stops # передаём список стоп-слов для русского из NLTK\n",
        ")"
      ]
    },
    {
      "cell_type": "code",
      "execution_count": 10,
      "metadata": {
        "id": "XhcScL53H3BM"
      },
      "outputs": [],
      "source": [
        "morph = MorphAnalyzer()"
      ]
    },
    {
      "cell_type": "code",
      "execution_count": 11,
      "metadata": {
        "id": "2yNbfZ-8IHCv"
      },
      "outputs": [],
      "source": [
        "texts_preprocessed = ''\n",
        "for a_text in texts:\n",
        "    a_tokens = wordpunct_tokenize(a_text)\n",
        "    a_lemmatized = \" \".join([morph.parse(item)[0].normal_form for item in a_tokens])\n",
        "    texts_preprocessed += a_lemmatized + ' '"
      ]
    },
    {
      "cell_type": "code",
      "execution_count": 12,
      "metadata": {
        "id": "QS2CA1EcIdOd"
      },
      "outputs": [],
      "source": [
        "doc = nlp(texts_preprocessed)"
      ]
    },
    {
      "cell_type": "code",
      "execution_count": 13,
      "metadata": {
        "id": "CbSUYIMfO227"
      },
      "outputs": [],
      "source": [
        "sw = stopwords.words('russian')"
      ]
    },
    {
      "cell_type": "code",
      "execution_count": 14,
      "metadata": {
        "id": "NKO5G9UFI0Y1"
      },
      "outputs": [],
      "source": [
        "sents_list = []\n",
        "for sent in doc.sents:\n",
        "    sentance = sent.text.translate(str.maketrans('', '', string.punctuation))\n",
        "    sents_list.append(' '.join([w.lower() for w in sentance.split(' ') if w.lower() not in sw]))"
      ]
    },
    {
      "cell_type": "code",
      "execution_count": 15,
      "metadata": {
        "id": "loqRL_UzJaiw"
      },
      "outputs": [],
      "source": [
        "with jsonlines.open('texts.jsonl', mode='w') as writer:\n",
        "    writer.write_all(sents_list)"
      ]
    },
    {
      "cell_type": "markdown",
      "metadata": {
        "id": "NcWhpqadkU_R"
      },
      "source": [
        "#2"
      ]
    },
    {
      "cell_type": "markdown",
      "source": [
        "##2.1"
      ],
      "metadata": {
        "id": "NQsWqpZuUsGi"
      }
    },
    {
      "cell_type": "code",
      "source": [
        "import numpy as np"
      ],
      "metadata": {
        "id": "HqfttcDDKUzZ"
      },
      "execution_count": 18,
      "outputs": []
    },
    {
      "cell_type": "code",
      "source": [
        "def get_top_tf_idf_words(tfidf_vector, feature_names, top_n):\n",
        "    sorted_nzs = np.argsort(tfidf_vector.data)[:-(top_n+1):-1]\n",
        "    return [(w, tfidf_vector.indices[sorted_nzs][i]) for i, w in enumerate(feature_names[tfidf_vector.indices[sorted_nzs]])]\n"
      ],
      "metadata": {
        "id": "RaKGpoGgJwzt"
      },
      "execution_count": 48,
      "outputs": []
    },
    {
      "cell_type": "code",
      "source": [
        "tfidf_vec = tfidf.fit_transform(texts)\n",
        "feature_names = np.array(tfidf.get_feature_names_out())\n",
        "n = 110\n",
        "\n",
        "top_words = get_top_tf_idf_words(tfidf_vec, feature_names, n)\n",
        "top_words = dict(sorted(top_words, key=lambda x: x[1], reverse=True))\n",
        "len(top_words)"
      ],
      "metadata": {
        "colab": {
          "base_uri": "https://localhost:8080/"
        },
        "id": "IaZoLRb-Jx4R",
        "outputId": "6e267452-58a7-477f-ee57-f52f9c4342eb"
      },
      "execution_count": 62,
      "outputs": [
        {
          "output_type": "execute_result",
          "data": {
            "text/plain": [
              "100"
            ]
          },
          "metadata": {},
          "execution_count": 62
        }
      ]
    },
    {
      "cell_type": "code",
      "source": [
        "top_words"
      ],
      "metadata": {
        "colab": {
          "base_uri": "https://localhost:8080/"
        },
        "id": "5LVe_W2WLXp6",
        "outputId": "1a407fff-049a-40bf-ae4f-7d2087471c4a"
      },
      "execution_count": 63,
      "outputs": [
        {
          "output_type": "execute_result",
          "data": {
            "text/plain": [
              "{'ян': 13598,\n",
              " 'эф': 13532,\n",
              " 'это': 13530,\n",
              " 'энтони': 13494,\n",
              " 'эмбасси': 13477,\n",
              " 'элен': 13475,\n",
              " 'эдварда': 13430,\n",
              " 'эдвард': 13429,\n",
              " 'эвелин': 13426,\n",
              " 'чаек': 13073,\n",
              " 'хозяина': 12906,\n",
              " 'флагом': 12774,\n",
              " 'флаг': 12770,\n",
              " 'улицы': 12446,\n",
              " 'убрать': 12260,\n",
              " 'товарищи': 12011,\n",
              " 'тип': 11979,\n",
              " 'такси': 11801,\n",
              " 'сэра': 11763,\n",
              " 'странице': 11539,\n",
              " 'стив': 11449,\n",
              " 'стеси': 11440,\n",
              " 'служанки': 10860,\n",
              " 'сказала': 10717,\n",
              " 'сказал': 10716,\n",
              " 'си': 10627,\n",
              " 'севу': 10531,\n",
              " 'севе': 10525,\n",
              " 'сева': 10524,\n",
              " 'русский': 10275,\n",
              " 'ричард': 10140,\n",
              " 'редактора': 10040,\n",
              " 'редактор': 10039,\n",
              " 'пэрэс': 9647,\n",
              " 'посмотреть': 8626,\n",
              " 'полях': 8401,\n",
              " 'полезные': 8275,\n",
              " 'палубу': 7376,\n",
              " 'очень': 7330,\n",
              " 'отец': 7149,\n",
              " 'отеле': 7142,\n",
              " 'океана': 6838,\n",
              " 'общества': 6671,\n",
              " 'набережной': 5701,\n",
              " 'мэн': 5682,\n",
              " 'муссолини': 5660,\n",
              " 'мусор': 5649,\n",
              " 'мишка': 5443,\n",
              " 'матрос': 5274,\n",
              " 'маленький': 5190,\n",
              " 'лос': 5062,\n",
              " 'лицо': 5026,\n",
              " 'лейтенант': 4921,\n",
              " 'леди': 4903,\n",
              " 'лампы': 4873,\n",
              " 'кэн': 4851,\n",
              " 'кэмпбэлл': 4849,\n",
              " 'кудлатый': 4787,\n",
              " 'красным': 4682,\n",
              " 'корова': 4595,\n",
              " 'корабля': 4579,\n",
              " 'корабль': 4578,\n",
              " 'кокаин': 4456,\n",
              " 'козловский': 4452,\n",
              " 'книге': 4419,\n",
              " 'капитан': 4242,\n",
              " 'ист': 4086,\n",
              " 'изя': 3939,\n",
              " 'изи': 3901,\n",
              " 'жизни': 3153,\n",
              " 'жигулина': 3137,\n",
              " 'жигулин': 3136,\n",
              " 'евреи': 2960,\n",
              " 'дядя': 2937,\n",
              " 'дяди': 2933,\n",
              " 'дуче': 2898,\n",
              " 'драг': 2836,\n",
              " 'джули': 2600,\n",
              " 'джоном': 2597,\n",
              " 'джона': 2595,\n",
              " 'джон': 2594,\n",
              " 'джойнт': 2592,\n",
              " 'день': 2508,\n",
              " 'даян': 2375,\n",
              " 'гостей': 2192,\n",
              " 'городок': 2166,\n",
              " 'героя': 2003,\n",
              " 'герой': 2001,\n",
              " 'героини': 1998,\n",
              " 'винслоу': 1287,\n",
              " 'виктора': 1271,\n",
              " 'виктор': 1270,\n",
              " 'ведущий': 1084,\n",
              " 'бэн': 997,\n",
              " 'бассейн': 485,\n",
              " 'андреа': 351,\n",
              " 'value': 197,\n",
              " 'option': 159,\n",
              " 'loft': 142,\n",
              " '175': 21}"
            ]
          },
          "metadata": {},
          "execution_count": 63
        }
      ]
    },
    {
      "cell_type": "markdown",
      "source": [
        "##2.2"
      ],
      "metadata": {
        "id": "fUdVASF2Up0T"
      }
    },
    {
      "cell_type": "code",
      "source": [
        "texts_vecs = [[int(w in text) for w in top_words.keys()] for text in texts]"
      ],
      "metadata": {
        "id": "rYOiFzcCOEy8"
      },
      "execution_count": 65,
      "outputs": []
    },
    {
      "cell_type": "code",
      "source": [
        "for t in texts_vecs:\n",
        "    print(t)"
      ],
      "metadata": {
        "colab": {
          "base_uri": "https://localhost:8080/"
        },
        "id": "f-qBBNz9T1O1",
        "outputId": "a58f31a2-d512-4e9d-83de-f37853ec54ef"
      },
      "execution_count": 69,
      "outputs": [
        {
          "output_type": "stream",
          "name": "stdout",
          "text": [
            "[1, 0, 1, 0, 0, 0, 0, 0, 0, 0, 1, 0, 0, 1, 0, 0, 1, 1, 0, 0, 1, 0, 0, 0, 1, 1, 0, 0, 0, 0, 0, 0, 0, 0, 0, 0, 0, 0, 1, 0, 0, 0, 0, 0, 1, 0, 1, 0, 0, 1, 1, 1, 0, 0, 0, 0, 0, 0, 0, 0, 0, 1, 0, 0, 0, 0, 1, 0, 1, 1, 0, 0, 0, 0, 0, 0, 0, 0, 0, 0, 0, 0, 1, 0, 0, 0, 0, 0, 0, 0, 0, 0, 0, 0, 0, 0, 0, 0, 0, 1]\n",
            "[1, 1, 1, 0, 0, 0, 0, 0, 0, 0, 0, 0, 1, 1, 0, 0, 1, 1, 0, 1, 0, 0, 0, 0, 1, 1, 0, 0, 0, 1, 0, 0, 0, 0, 0, 0, 0, 0, 1, 1, 1, 0, 1, 0, 1, 0, 1, 0, 0, 1, 1, 1, 0, 0, 0, 0, 0, 0, 1, 0, 0, 0, 0, 0, 0, 1, 1, 0, 1, 1, 0, 0, 0, 1, 1, 1, 1, 0, 0, 0, 0, 0, 1, 0, 0, 0, 0, 0, 0, 0, 0, 0, 0, 0, 0, 0, 0, 0, 0, 0]\n",
            "[1, 0, 1, 0, 0, 0, 0, 0, 0, 0, 0, 0, 0, 0, 1, 0, 0, 0, 0, 1, 0, 0, 1, 0, 0, 1, 0, 1, 0, 0, 0, 1, 1, 0, 0, 1, 0, 0, 1, 0, 1, 1, 0, 0, 0, 0, 0, 0, 0, 0, 1, 1, 0, 1, 0, 0, 0, 0, 0, 0, 0, 0, 0, 0, 1, 0, 1, 0, 1, 1, 0, 0, 0, 0, 0, 0, 0, 0, 0, 0, 0, 0, 0, 0, 0, 0, 1, 1, 1, 0, 0, 0, 0, 0, 0, 0, 0, 0, 0, 0]\n",
            "[1, 0, 1, 0, 0, 0, 0, 0, 0, 0, 0, 0, 1, 0, 1, 0, 0, 0, 0, 0, 1, 0, 0, 1, 1, 1, 0, 0, 0, 1, 0, 0, 0, 0, 0, 0, 0, 0, 1, 0, 0, 0, 1, 0, 0, 0, 1, 0, 0, 1, 1, 1, 0, 0, 0, 0, 0, 0, 1, 0, 1, 0, 1, 0, 0, 0, 1, 0, 1, 1, 0, 1, 0, 0, 0, 0, 1, 0, 0, 0, 0, 1, 1, 0, 1, 0, 0, 0, 0, 0, 0, 0, 0, 0, 0, 0, 0, 0, 0, 0]\n",
            "[1, 1, 1, 0, 0, 0, 0, 0, 0, 0, 0, 1, 1, 0, 1, 0, 1, 0, 0, 0, 0, 0, 0, 1, 1, 1, 0, 1, 0, 1, 0, 0, 0, 0, 0, 0, 0, 0, 1, 0, 0, 1, 1, 0, 0, 0, 0, 0, 0, 1, 1, 1, 0, 1, 0, 0, 0, 0, 0, 0, 0, 0, 0, 0, 0, 0, 1, 0, 1, 1, 0, 0, 0, 0, 0, 0, 0, 0, 0, 0, 0, 1, 1, 0, 0, 1, 0, 0, 0, 0, 0, 0, 0, 0, 0, 0, 0, 0, 0, 0]\n",
            "[1, 1, 1, 0, 0, 0, 0, 0, 0, 0, 1, 0, 0, 0, 1, 1, 1, 0, 0, 0, 1, 0, 0, 1, 1, 1, 0, 0, 0, 1, 0, 1, 1, 0, 0, 0, 0, 0, 1, 1, 1, 0, 0, 0, 0, 0, 0, 0, 0, 1, 1, 1, 0, 0, 0, 0, 0, 0, 1, 0, 0, 0, 0, 0, 0, 0, 1, 0, 1, 1, 0, 0, 1, 1, 1, 0, 1, 0, 0, 0, 0, 0, 1, 0, 1, 0, 0, 0, 0, 0, 0, 0, 1, 0, 1, 0, 0, 0, 0, 0]\n",
            "[1, 0, 1, 0, 0, 0, 0, 0, 0, 0, 0, 0, 0, 1, 1, 0, 1, 1, 0, 0, 0, 0, 0, 1, 1, 1, 0, 0, 0, 1, 0, 0, 1, 0, 1, 0, 0, 0, 1, 0, 0, 0, 0, 0, 0, 0, 1, 0, 0, 0, 1, 1, 1, 0, 0, 0, 0, 0, 0, 0, 0, 0, 0, 0, 0, 0, 1, 0, 1, 1, 0, 0, 0, 0, 0, 0, 0, 0, 0, 0, 0, 1, 1, 0, 0, 0, 0, 0, 0, 0, 0, 0, 0, 0, 0, 0, 1, 0, 0, 0]\n",
            "[1, 0, 1, 0, 0, 0, 0, 0, 0, 1, 0, 1, 1, 0, 0, 0, 1, 1, 0, 0, 0, 0, 0, 1, 1, 1, 0, 0, 0, 1, 0, 0, 0, 0, 1, 0, 1, 1, 1, 0, 0, 1, 1, 1, 0, 0, 1, 0, 1, 0, 1, 0, 0, 1, 0, 0, 0, 0, 1, 0, 1, 1, 0, 0, 0, 1, 1, 0, 0, 0, 0, 0, 0, 0, 0, 0, 0, 0, 0, 0, 0, 0, 0, 0, 0, 0, 0, 0, 0, 0, 0, 0, 0, 0, 0, 0, 0, 0, 0, 0]\n",
            "[1, 0, 1, 0, 0, 0, 0, 0, 0, 0, 0, 0, 0, 1, 0, 0, 0, 0, 0, 0, 0, 0, 0, 0, 1, 1, 0, 0, 0, 0, 0, 0, 0, 0, 0, 0, 0, 0, 1, 0, 0, 0, 0, 0, 0, 0, 1, 0, 0, 0, 1, 1, 0, 0, 1, 0, 0, 1, 0, 1, 0, 0, 0, 0, 0, 0, 1, 0, 1, 0, 0, 0, 0, 1, 1, 0, 0, 0, 0, 0, 0, 0, 1, 0, 0, 1, 0, 0, 0, 0, 0, 0, 0, 0, 0, 0, 0, 0, 1, 0]\n",
            "[1, 1, 1, 0, 0, 0, 0, 0, 0, 0, 0, 0, 0, 0, 0, 0, 1, 0, 1, 0, 0, 0, 0, 0, 1, 1, 0, 0, 0, 0, 0, 0, 1, 0, 0, 0, 0, 0, 1, 1, 0, 0, 1, 0, 0, 0, 0, 0, 0, 1, 1, 1, 0, 0, 0, 1, 0, 0, 0, 0, 0, 0, 0, 0, 1, 0, 1, 0, 1, 1, 0, 0, 0, 0, 0, 0, 0, 0, 0, 0, 0, 0, 1, 0, 0, 0, 0, 1, 0, 0, 0, 0, 0, 0, 0, 0, 0, 0, 0, 0]\n"
          ]
        }
      ]
    },
    {
      "cell_type": "markdown",
      "metadata": {
        "id": "XRxxVC6gkaxo"
      },
      "source": [
        "#3"
      ]
    },
    {
      "cell_type": "markdown",
      "source": [
        "##3.1"
      ],
      "metadata": {
        "id": "AGpfcZSAtX9N"
      }
    },
    {
      "cell_type": "code",
      "source": [
        "import gensim\n",
        "import logging\n",
        "import urllib.request\n",
        "\n",
        "import warnings\n",
        "warnings.filterwarnings('ignore')"
      ],
      "metadata": {
        "id": "6Za09yrKU-sa"
      },
      "execution_count": 70,
      "outputs": []
    },
    {
      "cell_type": "code",
      "source": [
        "logging.basicConfig(format='%(asctime)s : %(levelname)s : %(message)s', level=logging.INFO)"
      ],
      "metadata": {
        "id": "XGnDUCViVB6D"
      },
      "execution_count": 72,
      "outputs": []
    },
    {
      "cell_type": "code",
      "source": [
        "f = 'texts.jsonl'\n",
        "data = gensim.models.word2vec.LineSentence(f)"
      ],
      "metadata": {
        "id": "nSBns9IXVGJX"
      },
      "execution_count": 73,
      "outputs": []
    },
    {
      "cell_type": "code",
      "source": [
        "%time model_texts = gensim.models.Word2Vec(data, vector_size=300, window=5, min_count=5, epochs=50)"
      ],
      "metadata": {
        "colab": {
          "base_uri": "https://localhost:8080/"
        },
        "id": "P5vMZ6BJVKqp",
        "outputId": "d7cffe1c-eea7-4b0d-90cc-066671fc612b"
      },
      "execution_count": 74,
      "outputs": [
        {
          "output_type": "stream",
          "name": "stdout",
          "text": [
            "CPU times: user 4.4 s, sys: 94.1 ms, total: 4.49 s\n",
            "Wall time: 4.01 s\n"
          ]
        }
      ]
    },
    {
      "cell_type": "markdown",
      "source": [
        "##3.2"
      ],
      "metadata": {
        "id": "VA_GqOsWVQFJ"
      }
    },
    {
      "cell_type": "code",
      "source": [
        "print(len(model_texts.wv.key_to_index))"
      ],
      "metadata": {
        "colab": {
          "base_uri": "https://localhost:8080/"
        },
        "id": "tq9oaa5yVRb2",
        "outputId": "92f91791-13da-43d0-d4b5-76874f66cf94"
      },
      "execution_count": 75,
      "outputs": [
        {
          "output_type": "stream",
          "name": "stdout",
          "text": [
            "1291\n"
          ]
        }
      ]
    },
    {
      "cell_type": "markdown",
      "source": [
        "маловато"
      ],
      "metadata": {
        "id": "uuCMW4dWVVhr"
      }
    },
    {
      "cell_type": "markdown",
      "source": [
        "##3.3"
      ],
      "metadata": {
        "id": "Lsr7CiMfVbV1"
      }
    },
    {
      "cell_type": "code",
      "source": [
        "love_sim = model_texts.wv.most_similar(\"любовь\", topn=10)\n",
        "love_sim"
      ],
      "metadata": {
        "colab": {
          "base_uri": "https://localhost:8080/"
        },
        "id": "BQvCJZw2VdqX",
        "outputId": "66aabfc3-0666-4004-b8b2-34a67d7b5d2e"
      },
      "execution_count": 76,
      "outputs": [
        {
          "output_type": "execute_result",
          "data": {
            "text/plain": [
              "[('\"думать', 0.8978483080863953),\n",
              " ('понимать', 0.8882246613502502),\n",
              " ('помнить', 0.8824179768562317),\n",
              " ('настаивать', 0.8778743147850037),\n",
              " ('столько', 0.8770933151245117),\n",
              " ('передать', 0.8769043684005737),\n",
              " ('стесняться', 0.8745048642158508),\n",
              " ('заниматься', 0.8715790510177612),\n",
              " ('\"понимать', 0.8713005781173706),\n",
              " ('нюхать', 0.8707858324050903)]"
            ]
          },
          "metadata": {},
          "execution_count": 76
        }
      ]
    },
    {
      "cell_type": "markdown",
      "source": [
        "Вообще неожиданный результат. Но если так подумать, предсказать для такого абстрактного понятия что-либо тяжело. А вот если это слово представить буквально, то очень логично 'заниматься'.\n",
        "\n",
        "Синонимов/антонимов нет.\n",
        "\n",
        "О языке это ничего не говорит. О корпусе - он немного пошлый."
      ],
      "metadata": {
        "id": "EXrNvVwpVy7q"
      }
    },
    {
      "cell_type": "code",
      "source": [
        "pos_neg_sim = model_texts.wv.most_similar(positive=[\"хороший\"], negative=[\"плохой\"], topn=10)\n",
        "pos_neg_sim"
      ],
      "metadata": {
        "colab": {
          "base_uri": "https://localhost:8080/"
        },
        "id": "Sic01pYRVjkE",
        "outputId": "47bd9afd-a095-4aab-ce87-87416922d400"
      },
      "execution_count": 77,
      "outputs": [
        {
          "output_type": "execute_result",
          "data": {
            "text/plain": [
              "[('очень', 0.2837032675743103),\n",
              " ('париж', 0.23415185511112213),\n",
              " ('нью', 0.21927103400230408),\n",
              " ('время', 0.2142374962568283),\n",
              " ('жить', 0.2066187560558319),\n",
              " ('некоторый', 0.18750937283039093),\n",
              " ('йорк', 0.1842970997095108),\n",
              " ('история', 0.1730724424123764),\n",
              " ('знать', 0.16012783348560333),\n",
              " ('город', 0.15698279440402985)]"
            ]
          },
          "metadata": {},
          "execution_count": 77
        }
      ]
    },
    {
      "cell_type": "markdown",
      "source": [
        "Довольно логичные слова. Не оч только: нью, джуля.\n",
        "\n",
        "Синонимы/антонимы: нет (мб нью/история, если хотите. но нью - это прилагательное вообще-то).\n",
        "\n",
        "О языке это ничего не говорит. О корпусе - тоже ничего, разве что есть какая-то Джуля"
      ],
      "metadata": {
        "id": "sOG3VMFrWCGj"
      }
    }
  ],
  "metadata": {
    "colab": {
      "provenance": [],
      "collapsed_sections": [
        "37kCA850kW7I",
        "NcWhpqadkU_R",
        "NQsWqpZuUsGi",
        "fUdVASF2Up0T"
      ]
    },
    "kernelspec": {
      "display_name": "Python 3",
      "name": "python3"
    },
    "language_info": {
      "name": "python"
    }
  },
  "nbformat": 4,
  "nbformat_minor": 0
}