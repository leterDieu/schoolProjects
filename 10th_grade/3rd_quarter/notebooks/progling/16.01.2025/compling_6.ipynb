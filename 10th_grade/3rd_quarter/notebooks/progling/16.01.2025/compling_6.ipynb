{
  "nbformat": 4,
  "nbformat_minor": 0,
  "metadata": {
    "colab": {
      "provenance": []
    },
    "kernelspec": {
      "name": "python3",
      "display_name": "Python 3"
    },
    "language_info": {
      "name": "python"
    }
  },
  "cells": [
    {
      "cell_type": "code",
      "source": [
        "from typing import List, Dict\n",
        "\n",
        "\n",
        "def get_deletions(w: str, freq: float, depth: int = 1, correct_word = None) -> List[Dict[str, str]]:\n",
        "    if correct_word is None:\n",
        "        correct_word = w\n",
        "\n",
        "    first_iter = [{w[:i] + w[(i + 1):]: (correct_word, freq)} for i in range(len(w))]\n",
        "\n",
        "    if depth > 1:\n",
        "        second_iter = []\n",
        "        for deletion in first_iter:\n",
        "            second_iter.extend(get_deletions(list(deletion.keys())[0], freq, depth - 1, correct_word))\n",
        "        first_iter.extend(second_iter)\n",
        "\n",
        "    return first_iter"
      ],
      "metadata": {
        "id": "LiiP89FYP5C9"
      },
      "execution_count": 137,
      "outputs": []
    },
    {
      "cell_type": "code",
      "source": [
        "def get_correct_word(w: str, deletion_words: Dict[str, str], correct_words: List[str], depth: int = 1) -> str | None:\n",
        "    if w in correct_words:\n",
        "        return w\n",
        "\n",
        "    for deletion in get_deletions(w, depth):\n",
        "        ww = list(deletion.keys())[0]\n",
        "        if ww in list(deletion_words.keys()):\n",
        "            return deletion_words[ww][0]\n",
        "\n",
        "    return None\n"
      ],
      "metadata": {
        "id": "i6bhT4DhXBdq"
      },
      "execution_count": 155,
      "outputs": []
    },
    {
      "cell_type": "code",
      "execution_count": 157,
      "metadata": {
        "id": "Abt9ZLM8Noa2"
      },
      "outputs": [],
      "source": [
        "correct_words = {'тест': 0.1, 'тесто': 0.9} # etc."
      ]
    },
    {
      "cell_type": "code",
      "source": [
        "n = 2"
      ],
      "metadata": {
        "id": "9fZcKN3SY-mg"
      },
      "execution_count": null,
      "outputs": []
    },
    {
      "cell_type": "code",
      "source": [
        "deletion_words_list = []\n",
        "for w, freq in correct_words.items():\n",
        "    deletion_words_list.extend(get_deletions(w, freq, n))\n",
        "\n",
        "deletion_words = {}\n",
        "for el in deletion_words_list:\n",
        "    key = list(el.keys())[0]\n",
        "    if key in deletion_words:\n",
        "        if deletion_words[key][1] > el[key][1]:\n",
        "            continue\n",
        "    deletion_words[key] = list(el.values())[0]"
      ],
      "metadata": {
        "id": "0O7Qy3f7O7yg"
      },
      "execution_count": 158,
      "outputs": []
    },
    {
      "cell_type": "code",
      "source": [
        "deletion_words = dict(sorted(deletion_words.items(), key=lambda item: item[1][1], reverse=True))"
      ],
      "metadata": {
        "id": "HnN6PXg5c22d"
      },
      "execution_count": 159,
      "outputs": []
    },
    {
      "cell_type": "code",
      "source": [
        "deletion_words"
      ],
      "metadata": {
        "colab": {
          "base_uri": "https://localhost:8080/"
        },
        "id": "zRYZYwZveT9N",
        "outputId": "3c288292-4604-4691-80c7-4c1ab91c3ace"
      },
      "execution_count": 160,
      "outputs": [
        {
          "output_type": "execute_result",
          "data": {
            "text/plain": [
              "{'ест': ('тесто', 0.9),\n",
              " 'тст': ('тесто', 0.9),\n",
              " 'тет': ('тесто', 0.9),\n",
              " 'тес': ('тесто', 0.9),\n",
              " 'есто': ('тесто', 0.9),\n",
              " 'тсто': ('тесто', 0.9),\n",
              " 'тето': ('тесто', 0.9),\n",
              " 'тесо': ('тесто', 0.9),\n",
              " 'тест': ('тесто', 0.9),\n",
              " 'сто': ('тесто', 0.9),\n",
              " 'ето': ('тесто', 0.9),\n",
              " 'есо': ('тесто', 0.9),\n",
              " 'тто': ('тесто', 0.9),\n",
              " 'тсо': ('тесто', 0.9),\n",
              " 'тео': ('тесто', 0.9),\n",
              " 'ст': ('тест', 0.1),\n",
              " 'ет': ('тест', 0.1),\n",
              " 'ес': ('тест', 0.1),\n",
              " 'тт': ('тест', 0.1),\n",
              " 'тс': ('тест', 0.1),\n",
              " 'те': ('тест', 0.1)}"
            ]
          },
          "metadata": {},
          "execution_count": 160
        }
      ]
    },
    {
      "cell_type": "code",
      "source": [
        "incorrect_word = 'темт'"
      ],
      "metadata": {
        "id": "4JTIAU67T0_B"
      },
      "execution_count": 153,
      "outputs": []
    },
    {
      "cell_type": "code",
      "source": [
        "print(get_correct_word(incorrect_word, deletion_words, correct_words))"
      ],
      "metadata": {
        "colab": {
          "base_uri": "https://localhost:8080/"
        },
        "id": "coHvQt-7YYPs",
        "outputId": "482639ee-93b8-4540-ee41-959cf0285af3"
      },
      "execution_count": 161,
      "outputs": [
        {
          "output_type": "stream",
          "name": "stdout",
          "text": [
            "тесто\n"
          ]
        }
      ]
    }
  ]
}