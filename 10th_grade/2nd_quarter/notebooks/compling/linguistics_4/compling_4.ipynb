{
  "cells": [
    {
      "cell_type": "markdown",
      "metadata": {
        "id": "37kCA850kW7I"
      },
      "source": [
        "#1"
      ]
    },
    {
      "cell_type": "code",
      "execution_count": 1,
      "metadata": {
        "id": "2BNBpQBF8tS4"
      },
      "outputs": [],
      "source": [
        "from requests import get\n",
        "import re\n",
        "import string"
      ]
    },
    {
      "cell_type": "code",
      "execution_count": 2,
      "metadata": {
        "id": "fBQ2i4qd8mgF"
      },
      "outputs": [],
      "source": [
        "urls = ['http://lib.ru/PROZA/LIMONOV/r_eastside.txt_Ascii.txt',\n",
        "        'http://lib.ru/PROZA/LIMONOV/mussolini.txt_Ascii.txt',\n",
        "        'http://lib.ru/PROZA/LIMONOV/r_editor.txt_Ascii.txt',\n",
        "        'http://lib.ru/PROZA/LIMONOV/r_excesses.txt_Ascii.txt',\n",
        "        'http://lib.ru/PROZA/LIMONOV/r_holiday.txt_Ascii.txt',\n",
        "        'http://lib.ru/PROZA/LIMONOV/r_izya.txt_Ascii.txt',\n",
        "        'https://lib.ru/PROZA/LIMONOV/r_leutenant.txt',\n",
        "        'http://lib.ru/PROZA/LIMONOV/r_ship.txt_Ascii.txt',\n",
        "        'http://lib.ru/PROZA/LIMONOV/r_those.txt_Ascii.txt',\n",
        "        'http://lib.ru/PROZA/LIMONOV/r_twin.txt_Ascii.txt']"
      ]
    },
    {
      "cell_type": "code",
      "execution_count": 3,
      "metadata": {
        "id": "K4tC2GBC8wQJ"
      },
      "outputs": [],
      "source": [
        "texts = [get(url).text.replace('\\x14', ' ').replace('\\x15', ' ') for url in urls]"
      ]
    },
    {
      "cell_type": "code",
      "execution_count": 4,
      "metadata": {
        "colab": {
          "base_uri": "https://localhost:8080/"
        },
        "id": "x-4xy5YLHtVO",
        "outputId": "0a39d458-e255-4c7c-ed88-0139177b4013"
      },
      "outputs": [
        {
          "output_type": "stream",
          "name": "stdout",
          "text": [
            "  Preparing metadata (setup.py) ... \u001b[?25l\u001b[?25hdone\n",
            "\u001b[2K   \u001b[90m━━━━━━━━━━━━━━━━━━━━━━━━━━━━━━━━━━━━━━━━\u001b[0m \u001b[32m55.5/55.5 kB\u001b[0m \u001b[31m295.5 kB/s\u001b[0m eta \u001b[36m0:00:00\u001b[0m\n",
            "\u001b[2K   \u001b[90m━━━━━━━━━━━━━━━━━━━━━━━━━━━━━━━━━━━━━━━━\u001b[0m \u001b[32m8.2/8.2 MB\u001b[0m \u001b[31m24.0 MB/s\u001b[0m eta \u001b[36m0:00:00\u001b[0m\n",
            "\u001b[?25h  Building wheel for docopt (setup.py) ... \u001b[?25l\u001b[?25hdone\n"
          ]
        }
      ],
      "source": [
        "!pip install pymorphy2 --q"
      ]
    },
    {
      "cell_type": "code",
      "execution_count": 5,
      "metadata": {
        "colab": {
          "base_uri": "https://localhost:8080/"
        },
        "id": "PBbRiKqDKK8l",
        "outputId": "679e47b5-8154-4c2c-9dee-1e3133fd3805"
      },
      "outputs": [
        {
          "output_type": "stream",
          "name": "stdout",
          "text": [
            "\u001b[2K     \u001b[90m━━━━━━━━━━━━━━━━━━━━━━━━━━━━━━━━━━━━━━━━\u001b[0m \u001b[32m15.3/15.3 MB\u001b[0m \u001b[31m22.6 MB/s\u001b[0m eta \u001b[36m0:00:00\u001b[0m\n",
            "\u001b[2K   \u001b[90m━━━━━━━━━━━━━━━━━━━━━━━━━━━━━━━━━━━━━━━━\u001b[0m \u001b[32m53.8/53.8 kB\u001b[0m \u001b[31m2.4 MB/s\u001b[0m eta \u001b[36m0:00:00\u001b[0m\n",
            "\u001b[2K   \u001b[90m━━━━━━━━━━━━━━━━━━━━━━━━━━━━━━━━━━━━━━━━\u001b[0m \u001b[32m8.4/8.4 MB\u001b[0m \u001b[31m32.0 MB/s\u001b[0m eta \u001b[36m0:00:00\u001b[0m\n",
            "\u001b[?25h\u001b[38;5;2m✔ Download and installation successful\u001b[0m\n",
            "You can now load the package via spacy.load('ru_core_news_sm')\n",
            "\u001b[38;5;3m⚠ Restart to reload dependencies\u001b[0m\n",
            "If you are in a Jupyter or Colab notebook, you may need to restart Python in\n",
            "order to load all the package's dependencies. You can do this by selecting the\n",
            "'Restart kernel' or 'Restart runtime' option.\n"
          ]
        }
      ],
      "source": [
        "!python -m spacy download ru_core_news_sm --q"
      ]
    },
    {
      "cell_type": "code",
      "execution_count": 6,
      "metadata": {
        "colab": {
          "base_uri": "https://localhost:8080/"
        },
        "id": "BvVeH3bwPmVm",
        "outputId": "4b949ac0-45dd-49ee-e3c8-fc7fb3659f8e"
      },
      "outputs": [
        {
          "output_type": "stream",
          "name": "stdout",
          "text": [
            "Collecting jsonlines\n",
            "  Downloading jsonlines-4.0.0-py3-none-any.whl.metadata (1.6 kB)\n",
            "Requirement already satisfied: attrs>=19.2.0 in /usr/local/lib/python3.10/dist-packages (from jsonlines) (24.2.0)\n",
            "Downloading jsonlines-4.0.0-py3-none-any.whl (8.7 kB)\n",
            "Installing collected packages: jsonlines\n",
            "Successfully installed jsonlines-4.0.0\n"
          ]
        }
      ],
      "source": [
        "!pip install jsonlines"
      ]
    },
    {
      "cell_type": "code",
      "execution_count": 7,
      "metadata": {
        "colab": {
          "base_uri": "https://localhost:8080/"
        },
        "collapsed": true,
        "id": "XzNnhob0-U5_",
        "outputId": "964905e0-385f-46e1-8c08-27188e1c300e"
      },
      "outputs": [
        {
          "output_type": "stream",
          "name": "stderr",
          "text": [
            "[nltk_data] Downloading package stopwords to /root/nltk_data...\n",
            "[nltk_data]   Unzipping corpora/stopwords.zip.\n"
          ]
        },
        {
          "output_type": "execute_result",
          "data": {
            "text/plain": [
              "True"
            ]
          },
          "metadata": {},
          "execution_count": 7
        }
      ],
      "source": [
        "import nltk\n",
        "from nltk.corpus import stopwords\n",
        "from nltk.tokenize import wordpunct_tokenize\n",
        "from pymorphy2 import MorphAnalyzer\n",
        "from sklearn.feature_extraction.text import TfidfVectorizer\n",
        "import time\n",
        "import spacy\n",
        "from spacy.lang.ru.examples import sentences\n",
        "import jsonlines\n",
        "\n",
        "nltk.download('stopwords')"
      ]
    },
    {
      "cell_type": "code",
      "execution_count": 8,
      "metadata": {
        "id": "tlJmyA6pKduk"
      },
      "outputs": [],
      "source": [
        "nlp = spacy.load(\"ru_core_news_sm\")"
      ]
    },
    {
      "cell_type": "code",
      "execution_count": 9,
      "metadata": {
        "id": "NPL3BitwIo_t"
      },
      "outputs": [],
      "source": [
        "stops = stopwords.words(\"russian\")\n",
        "\n",
        "tfidf = TfidfVectorizer(\n",
        "    analyzer=\"word\", # анализировать по словам или по символам (char)\n",
        "    stop_words=stops # передаём список стоп-слов для русского из NLTK\n",
        ")"
      ]
    },
    {
      "cell_type": "code",
      "execution_count": 10,
      "metadata": {
        "id": "XhcScL53H3BM"
      },
      "outputs": [],
      "source": [
        "morph = MorphAnalyzer()"
      ]
    },
    {
      "cell_type": "code",
      "execution_count": 11,
      "metadata": {
        "id": "2yNbfZ-8IHCv"
      },
      "outputs": [],
      "source": [
        "texts_preprocessed = ''\n",
        "for a_text in texts:\n",
        "    a_tokens = wordpunct_tokenize(a_text)\n",
        "    a_lemmatized = \" \".join([morph.parse(item)[0].normal_form for item in a_tokens])\n",
        "    texts_preprocessed += a_lemmatized + ' '"
      ]
    },
    {
      "cell_type": "code",
      "execution_count": 12,
      "metadata": {
        "id": "QS2CA1EcIdOd"
      },
      "outputs": [],
      "source": [
        "doc = nlp(texts_preprocessed)"
      ]
    },
    {
      "cell_type": "code",
      "execution_count": 13,
      "metadata": {
        "id": "CbSUYIMfO227"
      },
      "outputs": [],
      "source": [
        "sw = stopwords.words('russian')"
      ]
    },
    {
      "cell_type": "code",
      "execution_count": 14,
      "metadata": {
        "id": "NKO5G9UFI0Y1"
      },
      "outputs": [],
      "source": [
        "sents_list = []\n",
        "for sent in doc.sents:\n",
        "    sentance = sent.text.translate(str.maketrans('', '', string.punctuation))\n",
        "    sents_list.append(' '.join([w.lower() for w in sentance.split(' ') if w.lower() not in sw]))"
      ]
    },
    {
      "cell_type": "code",
      "execution_count": 15,
      "metadata": {
        "id": "loqRL_UzJaiw"
      },
      "outputs": [],
      "source": [
        "with jsonlines.open('texts.jsonl', mode='w') as writer:\n",
        "    writer.write_all(sents_list)"
      ]
    },
    {
      "cell_type": "markdown",
      "metadata": {
        "id": "NcWhpqadkU_R"
      },
      "source": [
        "#2"
      ]
    },
    {
      "cell_type": "code",
      "execution_count": 16,
      "metadata": {
        "id": "iPZ_wBsBM6CU",
        "colab": {
          "base_uri": "https://localhost:8080/"
        },
        "outputId": "3bb1fb0a-e39c-4934-cd40-7fc7caa9953b"
      },
      "outputs": [
        {
          "output_type": "stream",
          "name": "stdout",
          "text": [
            "Матрица на 4222 документов и 7686 термов\n"
          ]
        }
      ],
      "source": [
        "texts_tfidf = tfidf.fit_transform(sents_list)\n",
        "print(f\"Матрица на {texts_tfidf.shape[0]} документов и {texts_tfidf.shape[1]} термов\")"
      ]
    },
    {
      "cell_type": "code",
      "execution_count": 17,
      "metadata": {
        "id": "-Qr0oUo1ZtlG"
      },
      "outputs": [],
      "source": [
        "import gensim\n",
        "import logging\n",
        "import urllib.request\n",
        "\n",
        "import warnings\n",
        "warnings.filterwarnings('ignore')"
      ]
    },
    {
      "cell_type": "code",
      "execution_count": 18,
      "metadata": {
        "id": "Mf5bBRqtaATV"
      },
      "outputs": [],
      "source": [
        "logging.basicConfig(format='%(asctime)s : %(levelname)s : %(message)s', level=logging.INFO)"
      ]
    },
    {
      "cell_type": "code",
      "execution_count": 19,
      "metadata": {
        "id": "oKg_sNeEaBCF"
      },
      "outputs": [],
      "source": [
        "f = 'texts.jsonl'\n",
        "data = gensim.models.word2vec.LineSentence(f)"
      ]
    },
    {
      "cell_type": "code",
      "execution_count": 20,
      "metadata": {
        "id": "9iZjvVOoapsm",
        "colab": {
          "base_uri": "https://localhost:8080/"
        },
        "outputId": "a2b11de1-07da-4bad-cb55-d15c148d27ec"
      },
      "outputs": [
        {
          "output_type": "stream",
          "name": "stdout",
          "text": [
            "CPU times: user 4.35 s, sys: 111 ms, total: 4.46 s\n",
            "Wall time: 3.81 s\n"
          ]
        }
      ],
      "source": [
        "%time model_texts = gensim.models.Word2Vec(data, vector_size=300, window=5, min_count=5, epochs=50)"
      ]
    },
    {
      "cell_type": "code",
      "execution_count": 21,
      "metadata": {
        "id": "8AgXommybJcK"
      },
      "outputs": [],
      "source": [
        "model_path = \"model_texts.bin\"\n",
        "\n",
        "model_texts.wv.save_word2vec_format(model_path, binary=True)"
      ]
    },
    {
      "cell_type": "code",
      "execution_count": 22,
      "metadata": {
        "id": "4veJozfqbcVj",
        "colab": {
          "base_uri": "https://localhost:8080/"
        },
        "outputId": "4f3fb4fa-3ab9-4a12-c706-3995c9a2f7ca"
      },
      "outputs": [
        {
          "output_type": "stream",
          "name": "stdout",
          "text": [
            "1291\n"
          ]
        }
      ],
      "source": [
        "print(len(model_texts.wv.key_to_index))"
      ]
    },
    {
      "cell_type": "markdown",
      "metadata": {
        "id": "ZQr9AcTCcQIh"
      },
      "source": [
        "1291 слово - это мало"
      ]
    },
    {
      "cell_type": "code",
      "execution_count": 23,
      "metadata": {
        "id": "rxGRoFsccaD8",
        "colab": {
          "base_uri": "https://localhost:8080/"
        },
        "outputId": "0a846021-0d9c-4b16-b69d-bd6ebf4e328c"
      },
      "outputs": [
        {
          "output_type": "execute_result",
          "data": {
            "text/plain": [
              "[('заплатить', 0.8927615284919739),\n",
              " ('настаивать', 0.8901990652084351),\n",
              " ('понимать', 0.8889467716217041),\n",
              " ('\"понимать', 0.8867803812026978),\n",
              " ('\"думать', 0.8824338316917419),\n",
              " ('никак', 0.8765752911567688),\n",
              " ('никакой', 0.8762735724449158),\n",
              " ('спокойно', 0.8761200308799744),\n",
              " ('сосед', 0.8753762245178223),\n",
              " ('особенный', 0.8745067119598389)]"
            ]
          },
          "metadata": {},
          "execution_count": 23
        }
      ],
      "source": [
        "love_sim = model_texts.wv.most_similar(\"любовь\", topn=10)\n",
        "love_sim"
      ]
    },
    {
      "cell_type": "markdown",
      "metadata": {
        "id": "LRoQxh4EfWeg"
      },
      "source": [
        "Вообще неожиданный результат. Но если так подумать, предсказать для такого абстрактного понятия что-либо тяжело. А вот если это слово представить буквально, то очень логично 'заниматься'.\n",
        "\n",
        "Синонимов/антонимов нет.\n",
        "\n",
        "О языке это ничего не говорит. О корпусе - он немного пошлый."
      ]
    },
    {
      "cell_type": "code",
      "execution_count": 24,
      "metadata": {
        "id": "zPAtcDkPdHqh",
        "colab": {
          "base_uri": "https://localhost:8080/"
        },
        "outputId": "fd075056-b991-48ff-b07d-fbf7272ba335"
      },
      "outputs": [
        {
          "output_type": "execute_result",
          "data": {
            "text/plain": [
              "[('нюхать', 0.9748967289924622),\n",
              " ('спокойно', 0.974023699760437),\n",
              " ('книжка', 0.9738854765892029),\n",
              " ('осторожно', 0.9730584025382996),\n",
              " ('столько', 0.9703806638717651),\n",
              " ('приезжать', 0.9678375720977783),\n",
              " ('позвонить', 0.9652625918388367),\n",
              " ('\"посмотреть', 0.9624608159065247),\n",
              " ('стесняться', 0.9624598026275635),\n",
              " ('настаивать', 0.9615602493286133)]"
            ]
          },
          "metadata": {},
          "execution_count": 24
        }
      ],
      "source": [
        "god_sim = model_texts.wv.most_similar(\"бог\", topn=10)\n",
        "god_sim"
      ]
    },
    {
      "cell_type": "markdown",
      "metadata": {
        "id": "zmrDM6w5hQ8v"
      },
      "source": [
        "Тоже неожиданный результат. Мб только 'книжка' как-то логично звучит (Библия = книжка про Бога). Мб острожно еще.\n",
        "\n",
        "Синонимы/антонимы: осторожно/равнодушно, спокойно-равнодушно (ну так, с натяжкой).\n",
        "\n",
        "О языке это ничего не говорит. О корпусе - тоже ничего, разве что есть какой-то Луис (мб Луис Бог)."
      ]
    },
    {
      "cell_type": "code",
      "execution_count": 25,
      "metadata": {
        "id": "cI5PeDxoduXt",
        "colab": {
          "base_uri": "https://localhost:8080/"
        },
        "outputId": "01f797cf-4b71-424a-858a-450f434ab540"
      },
      "outputs": [
        {
          "output_type": "execute_result",
          "data": {
            "text/plain": [
              "[('очень', 0.2681337594985962),\n",
              " ('жизнь', 0.21424096822738647),\n",
              " ('время', 0.1877531260251999),\n",
              " ('это', 0.1803121417760849),\n",
              " ('женщина', 0.15618836879730225),\n",
              " ('нью', 0.15421098470687866),\n",
              " ('некоторый', 0.15308520197868347),\n",
              " ('жить', 0.14978471398353577),\n",
              " ('история', 0.1470758467912674),\n",
              " ('знать', 0.146945983171463)]"
            ]
          },
          "metadata": {},
          "execution_count": 25
        }
      ],
      "source": [
        "pos_neg_sim = model_texts.wv.most_similar(positive=[\"хороший\"], negative=[\"плохой\"], topn=10)\n",
        "pos_neg_sim"
      ]
    },
    {
      "cell_type": "markdown",
      "metadata": {
        "id": "fMUf3U70h6mO"
      },
      "source": [
        "Довольно логичные слова. Не оч только: нью, джуля.\n",
        "\n",
        "Синонимы/антонимы: нет (мб нью/история, если хотите. но нью - это прилагательное вообще-то).\n",
        "\n",
        "О языке это ничего не говорит. О корпусе - тоже ничего, разве что есть какая-то Джуля"
      ]
    },
    {
      "cell_type": "code",
      "execution_count": 26,
      "metadata": {
        "id": "thl4WtMRjYwF",
        "colab": {
          "base_uri": "https://localhost:8080/"
        },
        "outputId": "32ec8e30-cf9e-4b6f-e8fb-4fc0736fe72c"
      },
      "outputs": [
        {
          "output_type": "execute_result",
          "data": {
            "text/plain": [
              "('ruscorpora_upos_cbow_300_20_2019.zip',\n",
              " <http.client.HTTPMessage at 0x784f18812a10>)"
            ]
          },
          "metadata": {},
          "execution_count": 26
        }
      ],
      "source": [
        "urllib.request.urlretrieve('http://vectors.nlpl.eu/repository/20/180.zip', 'ruscorpora_upos_cbow_300_20_2019.zip')"
      ]
    },
    {
      "cell_type": "code",
      "execution_count": 27,
      "metadata": {
        "id": "frBeJCE1jcBt"
      },
      "outputs": [],
      "source": [
        "import zipfile\n",
        "\n",
        "src = 'ruscorpora_upos_cbow_300_20_2019.zip'\n",
        "\n",
        "with zipfile.ZipFile(src, 'r') as zip_ref:\n",
        "    zip_ref.extractall('.')"
      ]
    },
    {
      "cell_type": "code",
      "execution_count": 28,
      "metadata": {
        "id": "7lb42tnvjeeI"
      },
      "outputs": [],
      "source": [
        "m = 'model.bin'\n",
        "model = gensim.models.KeyedVectors.load_word2vec_format(m, binary=True)"
      ]
    },
    {
      "cell_type": "code",
      "execution_count": 29,
      "metadata": {
        "id": "tZwgqEMEiY2D",
        "colab": {
          "base_uri": "https://localhost:8080/"
        },
        "outputId": "91cd98b6-43fe-454a-c29c-009d8df8c16f"
      },
      "outputs": [
        {
          "output_type": "stream",
          "name": "stdout",
          "text": [
            "заплатить настаивать понимать \"понимать \"думать никак никакой спокойно сосед особенный\n"
          ]
        }
      ],
      "source": [
        "print(' '.join([el[0] for el in love_sim]))"
      ]
    },
    {
      "cell_type": "code",
      "execution_count": 30,
      "metadata": {
        "id": "2c8w3fKykyuL"
      },
      "outputs": [],
      "source": [
        "love_sim_pos = 'настаивать_VERB понимать_VERB заниматься_VERB никак_PRON спокойно_ADV эпизод_NOUN сосед_NOUN объяснить_VERB спокойный_ADJ'\n",
        "love_sim_pos = love_sim_pos.split()"
      ]
    },
    {
      "cell_type": "code",
      "execution_count": 31,
      "metadata": {
        "id": "MwFRCtcslqhe",
        "colab": {
          "base_uri": "https://localhost:8080/"
        },
        "outputId": "a0113c17-4a23-435f-f056-cf4100a8f083"
      },
      "outputs": [
        {
          "output_type": "stream",
          "name": "stdout",
          "text": [
            "нюхать спокойно книжка осторожно столько приезжать позвонить \"посмотреть стесняться настаивать\n"
          ]
        }
      ],
      "source": [
        "print(' '.join([el[0] for el in god_sim]))"
      ]
    },
    {
      "cell_type": "code",
      "execution_count": 32,
      "metadata": {
        "id": "_mGvO5LQjuuL"
      },
      "outputs": [],
      "source": [
        "god_sim_pos = 'осторожно_ADV нюхать_VERB книжка_NOUN равнодушно_ADV столько_PRON позвонить_VERB спокойно_ADV стесняться_VERB луис_NOUN приезжать_VERB'\n",
        "god_sim_pos = god_sim_pos.split()\n"
      ]
    },
    {
      "cell_type": "code",
      "execution_count": 33,
      "metadata": {
        "id": "VQzwCxlBml4B",
        "colab": {
          "base_uri": "https://localhost:8080/"
        },
        "outputId": "ceee17a5-81ac-4150-824f-87037858d79c"
      },
      "outputs": [
        {
          "output_type": "stream",
          "name": "stdout",
          "text": [
            "очень жизнь время это женщина нью некоторый жить история знать\n"
          ]
        }
      ],
      "source": [
        "print(' '.join([el[0] for el in pos_neg_sim]))"
      ]
    },
    {
      "cell_type": "code",
      "execution_count": 34,
      "metadata": {
        "id": "aK0TKz5jmpmm"
      },
      "outputs": [],
      "source": [
        "pos_neg_sim_pos = 'очень_ADV жить_VERB жизнь_NOUN нью_ADJ время_NOUN это_PRON джуля_NOUN йорк_NOUN история_NOUN некоторый_PRON'\n",
        "pos_neg_sim_pos = pos_neg_sim_pos.split()"
      ]
    },
    {
      "cell_type": "code",
      "execution_count": 35,
      "metadata": {
        "id": "cg5QdT5_nHsg",
        "colab": {
          "base_uri": "https://localhost:8080/"
        },
        "outputId": "804cfbfb-6c2d-427f-b34d-6e88ce974b47"
      },
      "outputs": [
        {
          "output_type": "stream",
          "name": "stderr",
          "text": [
            "WARNING:gensim.models.keyedvectors:vectors for words {'никак_PRON'} are not present in the model, ignoring these words\n"
          ]
        },
        {
          "output_type": "stream",
          "name": "stdout",
          "text": [
            "эпизод_NOUN\n"
          ]
        }
      ],
      "source": [
        "print(model.doesnt_match(love_sim_pos))"
      ]
    },
    {
      "cell_type": "code",
      "execution_count": 36,
      "metadata": {
        "id": "qOGj41v5nWGr",
        "colab": {
          "base_uri": "https://localhost:8080/"
        },
        "outputId": "79a3add7-9416-4533-aa62-10484cab421e"
      },
      "outputs": [
        {
          "output_type": "stream",
          "name": "stderr",
          "text": [
            "WARNING:gensim.models.keyedvectors:vectors for words {'столько_PRON', 'луис_NOUN'} are not present in the model, ignoring these words\n"
          ]
        },
        {
          "output_type": "stream",
          "name": "stdout",
          "text": [
            "книжка_NOUN\n"
          ]
        }
      ],
      "source": [
        "print(model.doesnt_match(god_sim_pos))"
      ]
    },
    {
      "cell_type": "code",
      "execution_count": 37,
      "metadata": {
        "id": "SvRJ_43JnZLe",
        "colab": {
          "base_uri": "https://localhost:8080/"
        },
        "outputId": "f1dfc005-72d8-4bf8-b057-790a9e46cb34"
      },
      "outputs": [
        {
          "output_type": "stream",
          "name": "stderr",
          "text": [
            "WARNING:gensim.models.keyedvectors:vectors for words {'йорк_NOUN', 'джуля_NOUN', 'нью_ADJ', 'это_PRON', 'некоторый_PRON'} are not present in the model, ignoring these words\n"
          ]
        },
        {
          "output_type": "stream",
          "name": "stdout",
          "text": [
            "очень_ADV\n"
          ]
        }
      ],
      "source": [
        "print(model.doesnt_match(pos_neg_sim_pos))"
      ]
    },
    {
      "cell_type": "markdown",
      "metadata": {
        "id": "iQZe7Y2FncUO"
      },
      "source": [
        "Я вообще по-другому думаю насчет последних двух. Ну типа с эпизодом окей, т.к. там все стремное. А вот книжка и очень - соотвественно буквально лучше всего подходят."
      ]
    },
    {
      "cell_type": "markdown",
      "metadata": {
        "id": "XRxxVC6gkaxo"
      },
      "source": [
        "#3"
      ]
    },
    {
      "cell_type": "markdown",
      "source": [
        "##3.1"
      ],
      "metadata": {
        "id": "AGpfcZSAtX9N"
      }
    },
    {
      "cell_type": "code",
      "execution_count": 38,
      "metadata": {
        "id": "SXt-66yTkhdv",
        "colab": {
          "base_uri": "https://localhost:8080/"
        },
        "outputId": "335aca69-0497-4c37-fc98-6e9a714540e8"
      },
      "outputs": [
        {
          "output_type": "execute_result",
          "data": {
            "text/plain": [
              "('195.zip', <http.client.HTTPMessage at 0x784e37d16ad0>)"
            ]
          },
          "metadata": {},
          "execution_count": 38
        }
      ],
      "source": [
        "urllib.request.urlretrieve('http://vectors.nlpl.eu/repository/20/195.zip', '195.zip')"
      ]
    },
    {
      "cell_type": "code",
      "execution_count": 39,
      "metadata": {
        "id": "NON9Ky34koP8"
      },
      "outputs": [],
      "source": [
        "import zipfile\n",
        "\n",
        "src = '195.zip'\n",
        "\n",
        "with zipfile.ZipFile(src, 'r') as zip_ref:\n",
        "    zip_ref.extractall('.')"
      ]
    },
    {
      "cell_type": "code",
      "source": [
        "m_3 = 'model_3.bin'\n",
        "model_3 = gensim.models.KeyedVectors.load_word2vec_format(m, binary=True)"
      ],
      "metadata": {
        "id": "j4KokkSWtmJ4"
      },
      "execution_count": 40,
      "outputs": []
    },
    {
      "cell_type": "code",
      "source": [
        "from sklearn.decomposition import PCA\n",
        "import matplotlib.pyplot as plt\n",
        "%matplotlib inline"
      ],
      "metadata": {
        "id": "m2BC4e3ntr4V"
      },
      "execution_count": 51,
      "outputs": []
    },
    {
      "cell_type": "code",
      "source": [
        "import numpy as np\n",
        "import math\n",
        "from typing import List"
      ],
      "metadata": {
        "id": "Z0MMtbLJ2IUq"
      },
      "execution_count": 52,
      "outputs": []
    },
    {
      "cell_type": "code",
      "source": [
        "word_seq = ['машина_NOUN', 'колесо_NOUN', 'крыло_NOUN', 'самолет_NOUN'] # машина - колесо + крыло = самолет"
      ],
      "metadata": {
        "id": "w1GbDo2uuSzc"
      },
      "execution_count": 102,
      "outputs": []
    },
    {
      "cell_type": "code",
      "source": [
        "X = model_3[word_seq]"
      ],
      "metadata": {
        "id": "F6PiZjyyvAkz"
      },
      "execution_count": 91,
      "outputs": []
    },
    {
      "cell_type": "code",
      "source": [
        "pca = PCA(n_components=2)\n",
        "coords = pca.fit_transform(X)"
      ],
      "metadata": {
        "id": "MLtKIg1PvauI"
      },
      "execution_count": 92,
      "outputs": []
    },
    {
      "cell_type": "code",
      "source": [
        "def return_new_coords(coords: List[List[int]]) -> List[int]:\n",
        "    return [\n",
        "        -1 * (coords[0][0] + coords[1][0] + coords[2][0]),\n",
        "        -1 * (coords[0][1] + coords[1][1] + coords[2][1])\n",
        "    ]"
      ],
      "metadata": {
        "id": "YCcJwUrgGoVx"
      },
      "execution_count": 99,
      "outputs": []
    },
    {
      "cell_type": "code",
      "source": [
        "model_3.most_similar(pca.inverse_transform(return_new_coords(coords)), topn=5)"
      ],
      "metadata": {
        "colab": {
          "base_uri": "https://localhost:8080/"
        },
        "id": "7z2uzlrV2u6N",
        "outputId": "5cbbac2c-846c-4468-c91f-4ace9a3142d7"
      },
      "execution_count": 101,
      "outputs": [
        {
          "output_type": "execute_result",
          "data": {
            "text/plain": [
              "[('самолет_NOUN', 0.9718787670135498),\n",
              " ('вертолет_NOUN', 0.8360581398010254),\n",
              " ('самолет_PROPN', 0.7850913405418396),\n",
              " ('бомбардировщик_NOUN', 0.7528537511825562),\n",
              " ('истребитель_NOUN', 0.7259307503700256)]"
            ]
          },
          "metadata": {},
          "execution_count": 101
        }
      ]
    },
    {
      "cell_type": "markdown",
      "source": [
        "а ой, была функция такая. я проглядел. ну крч снизу по-нормальному"
      ],
      "metadata": {
        "id": "wjFcwlriIZPZ"
      }
    },
    {
      "cell_type": "code",
      "source": [
        "print(model_3.most_similar(positive=['машина_NOUN', 'крыло_NOUN'], negative=['колесо_NOUN'])[0][0])"
      ],
      "metadata": {
        "colab": {
          "base_uri": "https://localhost:8080/"
        },
        "id": "GziuHWGwIIEb",
        "outputId": "c557a19a-6abd-4eb8-ff5c-bc7a89711de4"
      },
      "execution_count": 107,
      "outputs": [
        {
          "output_type": "stream",
          "name": "stdout",
          "text": [
            "самолет_NOUN\n"
          ]
        }
      ]
    },
    {
      "cell_type": "markdown",
      "source": [
        "на правду похоже, одобряю"
      ],
      "metadata": {
        "id": "ccojVwxTI7tq"
      }
    },
    {
      "cell_type": "code",
      "source": [
        "plt.scatter(coords[:, 0], coords[:, 1], color='red')\n",
        "plt.title('Words')\n",
        "\n",
        "for i, word in enumerate(word_seq):\n",
        "    plt.annotate(word, xy=(coords[i, 0], coords[i, 1]))\n",
        "plt.show()"
      ],
      "metadata": {
        "colab": {
          "base_uri": "https://localhost:8080/",
          "height": 472
        },
        "id": "5ryj5CFGHk9A",
        "outputId": "0cd464e8-7b23-4574-9630-e9a9c916a914"
      },
      "execution_count": 106,
      "outputs": [
        {
          "output_type": "display_data",
          "data": {
            "text/plain": [
              "<Figure size 640x480 with 1 Axes>"
            ],
            "image/png": "[encoded data removed]"
          },
          "metadata": {}
        }
      ]
    },
    {
      "cell_type": "markdown",
      "source": [
        "Не похоже на правду :sob:"
      ],
      "metadata": {
        "id": "zvir7jeHKXtn"
      }
    },
    {
      "cell_type": "code",
      "source": [
        "sent = 'математика_NOUN география_NOUN русский_ADJ язык_NOUN литература_NOUN информатика_NOUN физический_ADJ культура_NOUN являться_VERB школьный_ADJ предмет_NOUN'"
      ],
      "metadata": {
        "id": "lySmVOcNJT9g"
      },
      "execution_count": 130,
      "outputs": []
    },
    {
      "cell_type": "code",
      "source": [
        "sent_new = ''\n",
        "for word in sent.split():\n",
        "    sent_new += model_3.most_similar(word, topn=1)[0][0] + ' '\n",
        "\n",
        "print(sent_new)"
      ],
      "metadata": {
        "colab": {
          "base_uri": "https://localhost:8080/"
        },
        "id": "iBpQ-_iZKslM",
        "outputId": "14fe0e0c-7de4-4815-828f-3a61b59044ca"
      },
      "execution_count": 131,
      "outputs": [
        {
          "output_type": "stream",
          "name": "stdout",
          "text": [
            "математический_ADJ землеведение_NOUN русский_PROPN диалект_NOUN литературный_ADJ программирование_NOUN физиологический_ADJ культурный_ADJ составлять_VERB гимназический_ADJ вещь_NOUN \n"
          ]
        }
      ]
    },
    {
      "cell_type": "markdown",
      "source": [
        "##3.2"
      ],
      "metadata": {
        "id": "PyTR_AjQN1rn"
      }
    },
    {
      "cell_type": "code",
      "source": [
        "!pip install wikipedia"
      ],
      "metadata": {
        "colab": {
          "base_uri": "https://localhost:8080/"
        },
        "id": "SmEGBjh2OC3U",
        "outputId": "fcbf7e7f-a4c3-4b35-ef50-651c799100f3"
      },
      "execution_count": 133,
      "outputs": [
        {
          "output_type": "stream",
          "name": "stdout",
          "text": [
            "Collecting wikipedia\n",
            "  Downloading wikipedia-1.4.0.tar.gz (27 kB)\n",
            "  Preparing metadata (setup.py) ... \u001b[?25l\u001b[?25hdone\n",
            "Requirement already satisfied: beautifulsoup4 in /usr/local/lib/python3.10/dist-packages (from wikipedia) (4.12.3)\n",
            "Requirement already satisfied: requests<3.0.0,>=2.0.0 in /usr/local/lib/python3.10/dist-packages (from wikipedia) (2.32.3)\n",
            "Requirement already satisfied: charset-normalizer<4,>=2 in /usr/local/lib/python3.10/dist-packages (from requests<3.0.0,>=2.0.0->wikipedia) (3.4.0)\n",
            "Requirement already satisfied: idna<4,>=2.5 in /usr/local/lib/python3.10/dist-packages (from requests<3.0.0,>=2.0.0->wikipedia) (3.10)\n",
            "Requirement already satisfied: urllib3<3,>=1.21.1 in /usr/local/lib/python3.10/dist-packages (from requests<3.0.0,>=2.0.0->wikipedia) (2.2.3)\n",
            "Requirement already satisfied: certifi>=2017.4.17 in /usr/local/lib/python3.10/dist-packages (from requests<3.0.0,>=2.0.0->wikipedia) (2024.8.30)\n",
            "Requirement already satisfied: soupsieve>1.2 in /usr/local/lib/python3.10/dist-packages (from beautifulsoup4->wikipedia) (2.6)\n",
            "Building wheels for collected packages: wikipedia\n",
            "  Building wheel for wikipedia (setup.py) ... \u001b[?25l\u001b[?25hdone\n",
            "  Created wheel for wikipedia: filename=wikipedia-1.4.0-py3-none-any.whl size=11679 sha256=b348daf7bad4ba3d0519ef1b1cfb63a7082951cdd32ba2fbcc605f04875ac955\n",
            "  Stored in directory: /root/.cache/pip/wheels/5e/b6/c5/93f3dec388ae76edc830cb42901bb0232504dfc0df02fc50de\n",
            "Successfully built wikipedia\n",
            "Installing collected packages: wikipedia\n",
            "Successfully installed wikipedia-1.4.0\n"
          ]
        }
      ]
    },
    {
      "cell_type": "code",
      "source": [
        "import wikipedia"
      ],
      "metadata": {
        "id": "_zVkx_K1MloT"
      },
      "execution_count": 134,
      "outputs": []
    },
    {
      "cell_type": "code",
      "source": [
        "wikipedia.set_lang(\"ru\")"
      ],
      "metadata": {
        "id": "NgBZi92fOWrM"
      },
      "execution_count": 136,
      "outputs": []
    },
    {
      "cell_type": "code",
      "source": [
        "page_titles = [\n",
        "    'Пятдесят седьмая школа',\n",
        "    'Программирование',\n",
        "    'Python',\n",
        "    '1984',\n",
        "    '4chan',\n",
        "    'СССР',\n",
        "    'Фембой',\n",
        "    'Дота 2',\n",
        "    'Сербия',\n",
        "    'Yatoro',\n",
        "    'Интегральная теорема Коши',\n",
        "    '0',\n",
        "    'qwerty',\n",
        "    'Linkin Park',\n",
        "    'Корея',\n",
        "    'Берлин',\n",
        "    'Маори',\n",
        "    'Зло',\n",
        "    'Тургенев',\n",
        "    'Тарутинский маневр'\n",
        "]"
      ],
      "metadata": {
        "id": "8QWXvudmQDa1"
      },
      "execution_count": 180,
      "outputs": []
    },
    {
      "cell_type": "code",
      "source": [
        "for title in page_titles:\n",
        "    text = wikipedia.page(title).content.replace('\\x14', ' ').replace('\\x15', ' ')\n",
        "    tokens = wordpunct_tokenize(text)\n",
        "    lemmed = \" \".join([morph.parse(item)[0].normal_form for item in tokens])\\\n",
        "    .translate(str.maketrans('', '', string.punctuation))\n",
        "    lemmed = ' '.join([w.lower() for w in lemmed.split(' ') if w.lower() not in sw])\n",
        "    with open(f'wiki/{title}.txt', 'w', encoding='utf-8') as f:\n",
        "        f.write(lemmed)\n"
      ],
      "metadata": {
        "id": "rqTCNxDkOyt2"
      },
      "execution_count": 183,
      "outputs": []
    },
    {
      "cell_type": "code",
      "source": [
        "texts = []\n",
        "for title in page_titles:\n",
        "    with open(f'wiki/{title}.txt', 'r', encoding='utf-8') as f:\n",
        "        texts.append(f.read())"
      ],
      "metadata": {
        "id": "IegZtW7sXsK1"
      },
      "execution_count": 184,
      "outputs": []
    },
    {
      "cell_type": "code",
      "source": [
        "tfidf_wiki = TfidfVectorizer(analyzer=\"word\",\n",
        "                             stop_words=stops,\n",
        "                             ngram_range=(1, 3),\n",
        "                             min_df=3)"
      ],
      "metadata": {
        "id": "XceKtRQxYLXK"
      },
      "execution_count": 226,
      "outputs": []
    },
    {
      "cell_type": "code",
      "source": [
        "wikis_tfidf = tfidf_wiki.fit_transform(texts)\n"
      ],
      "metadata": {
        "id": "6_7w_nIvYxo9"
      },
      "execution_count": 227,
      "outputs": []
    },
    {
      "cell_type": "code",
      "source": [
        "def get_top_tf_idf_words(tfidf_vector, feature_names, top_n):\n",
        "    sorted_nzs = np.argsort(tfidf_vector.data)[:-(top_n+1):-1]\n",
        "    return feature_names[tfidf_vector.indices[sorted_nzs]]"
      ],
      "metadata": {
        "id": "WKaGaDddZ3IG"
      },
      "execution_count": 228,
      "outputs": []
    },
    {
      "cell_type": "code",
      "source": [
        "feature_names = np.array(tfidf_wiki.get_feature_names_out())\n",
        "\n",
        "for i, page in enumerate(texts):\n",
        "    wiki_vector = wikis_tfidf[i, :]\n",
        "    words = get_top_tf_idf_words(wiki_vector, feature_names, 10)\n",
        "    print(page_titles[i], '|', words)"
      ],
      "metadata": {
        "colab": {
          "base_uri": "https://localhost:8080/"
        },
        "id": "AcjoL-1kbiEl",
        "outputId": "a78a1b20-d182-4f35-aa8c-2ac5ad79b334"
      },
      "execution_count": 230,
      "outputs": [
        {
          "output_type": "stream",
          "name": "stdout",
          "text": [
            "Пятдесят седьмая школа | ['школа' 'год' 'учитель' 'здание' 'москва' 'преподаватель'\n",
            " 'математический' 'класс' 'кандидат' 'учиться']\n",
            "Программирование | ['программирование' 'язык' 'язык программирование' 'книга' 'машина'\n",
            " 'программа' 'машинный' 'китовый' 'код' 'электронный']\n",
            "Python | ['язык' 'код' 'программирование' 'модуль' 'программа' 'библиотека'\n",
            " 'функция' 'реализация' 'мочь' 'являться']\n",
            "1984 | ['выборы' 'министр' 'премьер' 'премьер министр' 'партия' 'погибнуть'\n",
            " 'парламентский' 'голос' 'ссср' 'президент']\n",
            "4chan | ['пользователь' 'сайт' 'год' 'интернет' 'который' 'сообщение' 'обсуждение'\n",
            " 'the' 'изображение' 'аниме']\n",
            "СССР | ['ссср' 'год' 'советский' 'республика' 'совет' 'государственный' 'союзный'\n",
            " 'союз' 'государство' 'орган']\n",
            "Фембой | ['мужчина' 'термин' 'мочь' 'женщина' 'внешний' 'сообщество' 'контент'\n",
            " 'платформа' 'сексуальный' 'критика']\n",
            "Дота 2 | ['игра' 'герой' 'игрок' 'the' 'год' 'матч' 'команда' 'of the' 'of'\n",
            " 'компания']\n",
            "Сербия | ['год' 'страна' 'территория' 'являться' 'население' 'км' 'часть' 'который'\n",
            " 'республика' 'составлять']\n",
            "Yatoro | ['команда' 'international' 'год' 'the' '2023' '2023 год' 'выиграть' '2024'\n",
            " 'доллар' '12']\n",
            "Интегральная теорема Коши | ['равный' 'область' 'нуль' 'комплексный' 'достаточно' 'функция'\n",
            " 'непрерывный' 'ось' 'любой' 'форма']\n",
            "0 | ['нуль' 'цифра' 'число' 'натуральный' 'любой' 'математика' 'система'\n",
            " 'буква' 'символ' 'единица']\n",
            "qwerty | ['друг' 'машина' 'знак' 'клавиатура' 'друг друг' 'рука' 'печать'\n",
            " 'набирать' 'год' 'ibm']\n",
            "Linkin Park | ['группа' 'песня' 'год' 'the' 'который' 'выпустить' 'новый' 'стать'\n",
            " 'хороший' 'видео']\n",
            "Корея | ['корея' 'лес' 'государство' 'год' 'полуостров' 'наш эра' 'эра' 'японский'\n",
            " 'территория' 'пояс']\n",
            "Берлин | ['берлин' 'город' 'год' 'берлинский' 'западный' 'германия' 'район'\n",
            " 'городской' 'столица' 'восточный']\n",
            "Маори | ['новый' 'год' 'народ' 'язык' 'тысяча' 'численность' 'остров' 'племя'\n",
            " 'коренной' 'лодка']\n",
            "Зло | ['бог' 'человеческий' 'мир' 'человек' 'художественный' 'конец' 'воля'\n",
            " 'смысл' 'понятие' 'представление']\n",
            "Тургенев | ['писатель' 'год' 'русский' 'роман' 'охотник' 'толстой' 'произведение'\n",
            " 'творчество' 'который' 'свой']\n",
            "Тарутинский маневр | ['армия' 'сентябрь' 'русский' 'москва' 'дорога' 'наполеон' 'отряд'\n",
            " 'француз' 'решить' 'калужский']\n"
          ]
        }
      ]
    },
    {
      "cell_type": "code",
      "source": [
        "coord = pca.fit_transform(wikis_tfidf)\n",
        "plt.scatter(coord[:, 0], coord[:, 1], color='red')\n",
        "plt.title('Pages')\n",
        "\n",
        "for i, title in enumerate(page_titles):\n",
        "    plt.annotate(title, xy=(coord[i, 0], coord[i, 1]))\n",
        "plt.show()"
      ],
      "metadata": {
        "colab": {
          "base_uri": "https://localhost:8080/",
          "height": 472
        },
        "id": "w6xvYOoxc-j7",
        "outputId": "40e0a91f-e67e-45b2-ac74-2fe121f393e4"
      },
      "execution_count": 231,
      "outputs": [
        {
          "output_type": "display_data",
          "data": {
            "text/plain": [
              "<Figure size 640x480 with 1 Axes>"
            ],
            "image/png": "[encoded data removed]"
          },
          "metadata": {}
        }
      ]
    },
    {
      "cell_type": "markdown",
      "source": [
        "все оч логично, кроме Linkin Park"
      ],
      "metadata": {
        "id": "Ax46LXG9fJCv"
      }
    },
    {
      "cell_type": "markdown",
      "source": [
        "#4"
      ],
      "metadata": {
        "id": "T9PUzEQuewxR"
      }
    },
    {
      "cell_type": "code",
      "source": [
        "tfidf_wiki_2 = TfidfVectorizer(analyzer=\"word\",\n",
        "                               stop_words=stops,\n",
        "                               ngram_range=(1, 3),\n",
        "                               min_df=3,\n",
        "                               token_pattern=r'(?u)\\b[^\\d\\W]+\\b')"
      ],
      "metadata": {
        "id": "KcuodOhwetZN"
      },
      "execution_count": 268,
      "outputs": []
    },
    {
      "cell_type": "code",
      "source": [
        "wikis_tfidf_2 = tfidf_wiki_2.fit_transform(texts)\n"
      ],
      "metadata": {
        "id": "HaGJxV18gJpm"
      },
      "execution_count": 269,
      "outputs": []
    },
    {
      "cell_type": "code",
      "source": [
        "feature_names = np.array(tfidf_wiki_2.get_feature_names_out())\n",
        "\n",
        "for i, page in enumerate(texts):\n",
        "    wiki_vector = wikis_tfidf_2[i, :]\n",
        "    words = get_top_tf_idf_words(wiki_vector, feature_names, 10)\n",
        "    print(page_titles[i], '|', words)"
      ],
      "metadata": {
        "colab": {
          "base_uri": "https://localhost:8080/"
        },
        "id": "utC2kc8pgNge",
        "outputId": "131568bc-d0a6-4c43-dee3-b9362774ad24"
      },
      "execution_count": 270,
      "outputs": [
        {
          "output_type": "stream",
          "name": "stdout",
          "text": [
            "Пятдесят седьмая школа | ['школа' 'год' 'учитель' 'здание' 'москва' 'преподаватель' 'м'\n",
            " 'математический' 'класс' 'кандидат']\n",
            "Программирование | ['программирование' 'язык' 'язык программирование' 'книга' 'машина'\n",
            " 'программа' 'машинный' 'китовый' 'код' 'электронный']\n",
            "Python | ['язык' 'код' 'программирование' 'модуль' 'программа' 'библиотека'\n",
            " 'функция' 'реализация' 'мочь' 'являться']\n",
            "1984 | ['выборы' 'министр' 'премьер' 'премьер министр' 'партия' 'погибнуть'\n",
            " 'парламентский' 'голос' 'ссср' 'президент']\n",
            "4chan | ['пользователь' 'сайт' 'год' 'интернет' 'который' 'x' 'сообщение'\n",
            " 'обсуждение' 'the' 'изображение']\n",
            "СССР | ['ссср' 'год' 'советский' 'республика' 'совет' 'государственный' 'союзный'\n",
            " 'союз' 'государство' 'орган']\n",
            "Фембой | ['мужчина' 'термин' 'мочь' 'женщина' 'внешний' 'сообщество' 'контент'\n",
            " 'сексуальный' 'платформа' 'критика']\n",
            "Дота 2 | ['игра' 'герой' 'игрок' 'the' 'год' 'матч' 'команда' 'of the' 'of'\n",
            " 'компания']\n",
            "Сербия | ['год' 'страна' 'территория' 'являться' 'население' 'км' 'часть' 'который'\n",
            " 'республика' 'составлять']\n",
            "Yatoro | ['команда' 'international' 'год' 'the' 'выиграть' 'доллар' 'млн' 'играть'\n",
            " 'мир' 'игрок']\n",
            "Интегральная теорема Коши | ['f' 'z' 'p' 'a' 'равный' 'c' 'область' 'нуль' 'комплексный' 'достаточно']\n",
            "0 | ['нуль' 'цифра' 'число' 'n' 'a' 'x' 'натуральный' 'любой' 'математика'\n",
            " 'система']\n",
            "qwerty | ['друг' 'знак' 'машина' 'клавиатура' 'друг друг' 'рука' 'печать'\n",
            " 'набирать' 'год' 'буква']\n",
            "Linkin Park | ['группа' 'песня' 'год' 'the' 'который' 'выпустить' 'новый' 'стать'\n",
            " 'хороший' 'видео']\n",
            "Корея | ['корея' 'лес' 'государство' 'год' 'наш эра' 'полуостров' 'эра' 'японский'\n",
            " 'территория' 'пояс']\n",
            "Берлин | ['берлин' 'город' 'год' 'берлинский' 'западный' 'германия' 'район'\n",
            " 'городской' 'столица' 'восточный']\n",
            "Маори | ['новый' 'год' 'народ' 'язык' 'м' 'тысяча' 'численность' 'остров'\n",
            " 'коренной' 'племя']\n",
            "Зло | ['бог' 'человеческий' 'мир' 'человек' 'художественный' 'конец' 'воля'\n",
            " 'смысл' 'представление' 'понятие']\n",
            "Тургенев | ['писатель' 'год' 'русский' 'роман' 'н' 'охотник' 'толстой' 'произведение'\n",
            " 'м' 'творчество']\n",
            "Тарутинский маневр | ['армия' 'сентябрь' 'русский' 'дорога' 'москва' 'отряд' 'наполеон'\n",
            " 'француз' 'решить' 'м']\n"
          ]
        }
      ]
    },
    {
      "cell_type": "markdown",
      "source": [
        "ура, без цифр!"
      ],
      "metadata": {
        "id": "sghM0lZrhvw6"
      }
    },
    {
      "cell_type": "code",
      "source": [
        "from sklearn.metrics.pairwise import cosine_similarity"
      ],
      "metadata": {
        "id": "Mva5mw4YitB3"
      },
      "execution_count": 271,
      "outputs": []
    },
    {
      "cell_type": "code",
      "source": [
        "texts_length = len(texts)\n",
        "texts_sims = {}\n",
        "for i in range(texts_length):\n",
        "    sims = {}\n",
        "    wiki_vector_1 = wikis_tfidf_2[i]\n",
        "    for j in range(texts_length):\n",
        "        if i == j:\n",
        "            continue\n",
        "        wiki_vector_2 = wikis_tfidf_2[j]\n",
        "        sims[page_titles[j]] = cosine_similarity(wiki_vector_1, wiki_vector_2)[0][0]\n",
        "    texts_sims[page_titles[i]] = sorted(sims.items(), key=lambda x: x[1], reverse=True)"
      ],
      "metadata": {
        "id": "sYNb52MXhxgY"
      },
      "execution_count": 319,
      "outputs": []
    },
    {
      "cell_type": "code",
      "source": [
        "texts_sims"
      ],
      "metadata": {
        "colab": {
          "base_uri": "https://localhost:8080/"
        },
        "id": "xJ7annuVnAnS",
        "outputId": "fe9a97a1-fdd6-4b39-a37c-bf5153dcc2eb"
      },
      "execution_count": 312,
      "outputs": [
        {
          "output_type": "execute_result",
          "data": {
            "text/plain": [
              "{'Пятдесят седьмая школа': [('Сербия', 0.23021435075829816),\n",
              "  ('Тургенев', 0.21358000392699045),\n",
              "  ('Маори', 0.15656383887867656),\n",
              "  ('СССР', 0.1553025785109775),\n",
              "  ('Yatoro', 0.13585384182003876),\n",
              "  ('4chan', 0.13060177109743534),\n",
              "  ('Тарутинский маневр', 0.12187256872158934),\n",
              "  ('Linkin Park', 0.11874847556102563),\n",
              "  ('Дота 2', 0.10378272764308293),\n",
              "  ('Берлин', 0.10236871608131964),\n",
              "  ('Программирование', 0.08783974827006841),\n",
              "  ('1984', 0.07972546819261353),\n",
              "  ('qwerty', 0.07678858889544113),\n",
              "  ('Python', 0.0722812009498746),\n",
              "  ('Корея', 0.0687913311785663),\n",
              "  ('Фембой', 0.06412890209782228),\n",
              "  ('0', 0.05559108419202451),\n",
              "  ('Зло', 0.04853950212798838),\n",
              "  ('Интегральная теорема Коши', 0.008928442269896164)],\n",
              " 'Программирование': [('Python', 0.5089045632273619),\n",
              "  ('СССР', 0.1841278949556361),\n",
              "  ('qwerty', 0.1796375486549907),\n",
              "  ('Маори', 0.17429725332123044),\n",
              "  ('Сербия', 0.1698021254168651),\n",
              "  ('Тургенев', 0.166567272657462),\n",
              "  ('4chan', 0.12875853142400517),\n",
              "  ('Linkin Park', 0.1047506810649341),\n",
              "  ('Дота 2', 0.10201249738255021),\n",
              "  ('0', 0.09908536362649657),\n",
              "  ('1984', 0.08887215806380168),\n",
              "  ('Пятдесят седьмая школа', 0.08783974827006841),\n",
              "  ('Yatoro', 0.08156256889499525),\n",
              "  ('Зло', 0.07114203228422185),\n",
              "  ('Корея', 0.06683915363927885),\n",
              "  ('Берлин', 0.058999728522708655),\n",
              "  ('Фембой', 0.05806781171365127),\n",
              "  ('Тарутинский маневр', 0.052210838604521956),\n",
              "  ('Интегральная теорема Коши', 0.009803391167959707)],\n",
              " 'Python': [('Программирование', 0.5089045632273619),\n",
              "  ('Маори', 0.20840772847103525),\n",
              "  ('4chan', 0.20314931486831778),\n",
              "  ('Сербия', 0.18804101881032723),\n",
              "  ('qwerty', 0.1793035090293925),\n",
              "  ('0', 0.17304276218394277),\n",
              "  ('Дота 2', 0.16837992223839104),\n",
              "  ('Фембой', 0.155955548517285),\n",
              "  ('Тургенев', 0.1537523213787772),\n",
              "  ('Linkin Park', 0.12111000628030828),\n",
              "  ('СССР', 0.10505531596642546),\n",
              "  ('Зло', 0.09561324427591435),\n",
              "  ('Берлин', 0.0769950662977019),\n",
              "  ('Пятдесят седьмая школа', 0.0722812009498746),\n",
              "  ('1984', 0.05832982694036029),\n",
              "  ('Yatoro', 0.05092008466993928),\n",
              "  ('Интегральная теорема Коши', 0.050072847326564716),\n",
              "  ('Корея', 0.043032158298155584),\n",
              "  ('Тарутинский маневр', 0.03768640334590044)],\n",
              " '1984': [('Сербия', 0.3155921627123827),\n",
              "  ('СССР', 0.3132331134355929),\n",
              "  ('Маори', 0.18539217636096164),\n",
              "  ('Linkin Park', 0.17657112888622545),\n",
              "  ('Тургенев', 0.1593749893180968),\n",
              "  ('4chan', 0.13057911292996635),\n",
              "  ('Дота 2', 0.11354095047949085),\n",
              "  ('Берлин', 0.10980185481436228),\n",
              "  ('Yatoro', 0.10887318941098158),\n",
              "  ('Тарутинский маневр', 0.10430107666922289),\n",
              "  ('Корея', 0.09616924289483941),\n",
              "  ('Программирование', 0.08887215806380168),\n",
              "  ('Пятдесят седьмая школа', 0.07972546819261353),\n",
              "  ('Зло', 0.0769476926386907),\n",
              "  ('qwerty', 0.07669026567214482),\n",
              "  ('Фембой', 0.06076155088177686),\n",
              "  ('Python', 0.05832982694036029),\n",
              "  ('0', 0.03507734072467825),\n",
              "  ('Интегральная теорема Коши', 0.01101161813003727)],\n",
              " '4chan': [('Linkin Park', 0.32311106999721395),\n",
              "  ('Сербия', 0.2880685848383534),\n",
              "  ('Тургенев', 0.25430495518214136),\n",
              "  ('Дота 2', 0.24620461001533328),\n",
              "  ('Маори', 0.2370967095211091),\n",
              "  ('Фембой', 0.2237423571357264),\n",
              "  ('Python', 0.20314931486831778),\n",
              "  ('qwerty', 0.17952586391271608),\n",
              "  ('СССР', 0.16273750861701766),\n",
              "  ('Yatoro', 0.15292871172199307),\n",
              "  ('0', 0.14575834719100267),\n",
              "  ('Пятдесят седьмая школа', 0.13060177109743534),\n",
              "  ('1984', 0.13057911292996635),\n",
              "  ('Программирование', 0.12875853142400517),\n",
              "  ('Берлин', 0.12155126486801965),\n",
              "  ('Зло', 0.10888924788959747),\n",
              "  ('Корея', 0.10845862837924476),\n",
              "  ('Тарутинский маневр', 0.07965693193221),\n",
              "  ('Интегральная теорема Коши', 0.022058685106763697)],\n",
              " 'СССР': [('Сербия', 0.45304396795326),\n",
              "  ('1984', 0.3132331134355929),\n",
              "  ('Тургенев', 0.23622835268880296),\n",
              "  ('Маори', 0.23508237673354626),\n",
              "  ('Берлин', 0.19020267513947012),\n",
              "  ('Программирование', 0.1841278949556361),\n",
              "  ('Корея', 0.18403173933770967),\n",
              "  ('Linkin Park', 0.1745771974112314),\n",
              "  ('4chan', 0.16273750861701766),\n",
              "  ('Пятдесят седьмая школа', 0.1553025785109775),\n",
              "  ('Дота 2', 0.1428179943296604),\n",
              "  ('Yatoro', 0.1306198376097313),\n",
              "  ('Тарутинский маневр', 0.10830499151231754),\n",
              "  ('Зло', 0.10544419265146962),\n",
              "  ('Python', 0.10505531596642546),\n",
              "  ('qwerty', 0.09982108276429252),\n",
              "  ('Фембой', 0.09945285790137373),\n",
              "  ('0', 0.06991678252390288),\n",
              "  ('Интегральная теорема Коши', 0.013757206240987386)],\n",
              " 'Фембой': [('4chan', 0.2237423571357264),\n",
              "  ('Маори', 0.1802172008454143),\n",
              "  ('Тургенев', 0.17570110087848942),\n",
              "  ('Сербия', 0.1747510936591491),\n",
              "  ('Python', 0.155955548517285),\n",
              "  ('Дота 2', 0.1307911216956622),\n",
              "  ('Зло', 0.11549962747256594),\n",
              "  ('Linkin Park', 0.11413158216295236),\n",
              "  ('СССР', 0.09945285790137373),\n",
              "  ('qwerty', 0.07631546628462818),\n",
              "  ('Корея', 0.07454600034391283),\n",
              "  ('Берлин', 0.07226290765265359),\n",
              "  ('0', 0.07225490221850585),\n",
              "  ('Пятдесят седьмая школа', 0.06412890209782228),\n",
              "  ('1984', 0.06076155088177686),\n",
              "  ('Программирование', 0.05806781171365127),\n",
              "  ('Yatoro', 0.0529045921659065),\n",
              "  ('Тарутинский маневр', 0.03979151276470139),\n",
              "  ('Интегральная теорема Коши', 0.01241194902595748)],\n",
              " 'Дота 2': [('Yatoro', 0.40770892834994815),\n",
              "  ('Linkin Park', 0.2794519835971459),\n",
              "  ('Сербия', 0.24877207648468),\n",
              "  ('4chan', 0.24620461001533328),\n",
              "  ('Тургенев', 0.20391244674163556),\n",
              "  ('Маори', 0.18878651262437526),\n",
              "  ('Python', 0.16837992223839104),\n",
              "  ('qwerty', 0.1618731034560959),\n",
              "  ('СССР', 0.1428179943296604),\n",
              "  ('Фембой', 0.1307911216956622),\n",
              "  ('1984', 0.11354095047949085),\n",
              "  ('Берлин', 0.1122635350505194),\n",
              "  ('Пятдесят седьмая школа', 0.10378272764308293),\n",
              "  ('Программирование', 0.10201249738255021),\n",
              "  ('0', 0.08347207148413147),\n",
              "  ('Тарутинский маневр', 0.08118598366172898),\n",
              "  ('Корея', 0.07850566079702372),\n",
              "  ('Зло', 0.06717291960075168),\n",
              "  ('Интегральная теорема Коши', 0.012428503765999138)],\n",
              " 'Сербия': [('СССР', 0.45304396795326),\n",
              "  ('Маори', 0.4414031561885651),\n",
              "  ('Тургенев', 0.3562944109937231),\n",
              "  ('Берлин', 0.3487479128788884),\n",
              "  ('Корея', 0.3228339065962965),\n",
              "  ('1984', 0.3155921627123827),\n",
              "  ('4chan', 0.2880685848383534),\n",
              "  ('Linkin Park', 0.2740132287799473),\n",
              "  ('Дота 2', 0.24877207648468),\n",
              "  ('Пятдесят седьмая школа', 0.23021435075829816),\n",
              "  ('Yatoro', 0.21082603395754973),\n",
              "  ('Python', 0.18804101881032723),\n",
              "  ('qwerty', 0.1776259368335927),\n",
              "  ('Фембой', 0.1747510936591491),\n",
              "  ('Программирование', 0.1698021254168651),\n",
              "  ('Зло', 0.1542976992000639),\n",
              "  ('Тарутинский маневр', 0.14527650307469786),\n",
              "  ('0', 0.11744408471562902),\n",
              "  ('Интегральная теорема Коши', 0.02291541456710656)],\n",
              " 'Yatoro': [('Дота 2', 0.40770892834994815),\n",
              "  ('Сербия', 0.21082603395754973),\n",
              "  ('Linkin Park', 0.20301348474542127),\n",
              "  ('4chan', 0.15292871172199307),\n",
              "  ('Тургенев', 0.14633408211621327),\n",
              "  ('Пятдесят седьмая школа', 0.13585384182003876),\n",
              "  ('СССР', 0.1306198376097313),\n",
              "  ('Маори', 0.10984449803123307),\n",
              "  ('1984', 0.10887318941098158),\n",
              "  ('qwerty', 0.09383730419347874),\n",
              "  ('Берлин', 0.08433583836201176),\n",
              "  ('Тарутинский маневр', 0.08283823460582525),\n",
              "  ('Программирование', 0.08156256889499525),\n",
              "  ('Корея', 0.061387129778731266),\n",
              "  ('Фембой', 0.0529045921659065),\n",
              "  ('Зло', 0.0526430678268205),\n",
              "  ('Python', 0.05092008466993928),\n",
              "  ('0', 0.02887745923149121),\n",
              "  ('Интегральная теорема Коши', 0.003927672210471411)],\n",
              " 'Интегральная теорема Коши': [('0', 0.13193321931980007),\n",
              "  ('Python', 0.050072847326564716),\n",
              "  ('qwerty', 0.03675798688212702),\n",
              "  ('Linkin Park', 0.025426215623966075),\n",
              "  ('Сербия', 0.02291541456710656),\n",
              "  ('4chan', 0.022058685106763697),\n",
              "  ('Маори', 0.020705586647402213),\n",
              "  ('Тургенев', 0.014074305017825858),\n",
              "  ('СССР', 0.013757206240987386),\n",
              "  ('Дота 2', 0.012428503765999138),\n",
              "  ('Фембой', 0.01241194902595748),\n",
              "  ('1984', 0.01101161813003727),\n",
              "  ('Зло', 0.010286811820919204),\n",
              "  ('Программирование', 0.009803391167959707),\n",
              "  ('Пятдесят седьмая школа', 0.008928442269896164),\n",
              "  ('Берлин', 0.007540541945999728),\n",
              "  ('Корея', 0.005153421129492018),\n",
              "  ('Тарутинский маневр', 0.004798288027973595),\n",
              "  ('Yatoro', 0.003927672210471411)],\n",
              " '0': [('Python', 0.17304276218394277),\n",
              "  ('4chan', 0.14575834719100267),\n",
              "  ('Интегральная теорема Коши', 0.13193321931980007),\n",
              "  ('Маори', 0.11872852880305775),\n",
              "  ('Сербия', 0.11744408471562902),\n",
              "  ('qwerty', 0.11573144584230942),\n",
              "  ('Программирование', 0.09908536362649657),\n",
              "  ('Тургенев', 0.09562446474029516),\n",
              "  ('Linkin Park', 0.0918550726573028),\n",
              "  ('Дота 2', 0.08347207148413147),\n",
              "  ('Зло', 0.07646677694496927),\n",
              "  ('Фембой', 0.07225490221850585),\n",
              "  ('СССР', 0.06991678252390288),\n",
              "  ('Пятдесят седьмая школа', 0.05559108419202451),\n",
              "  ('Корея', 0.05362287368910063),\n",
              "  ('Берлин', 0.044400529268132996),\n",
              "  ('Тарутинский маневр', 0.03732363759343832),\n",
              "  ('1984', 0.03507734072467825),\n",
              "  ('Yatoro', 0.02887745923149121)],\n",
              " 'qwerty': [('Программирование', 0.1796375486549907),\n",
              "  ('4chan', 0.17952586391271608),\n",
              "  ('Python', 0.1793035090293925),\n",
              "  ('Сербия', 0.1776259368335927),\n",
              "  ('Дота 2', 0.1618731034560959),\n",
              "  ('Тургенев', 0.16111612013698678),\n",
              "  ('Маори', 0.1595065503473735),\n",
              "  ('Linkin Park', 0.1527496869095926),\n",
              "  ('0', 0.11573144584230942),\n",
              "  ('СССР', 0.09982108276429252),\n",
              "  ('Берлин', 0.09482508823013101),\n",
              "  ('Yatoro', 0.09383730419347874),\n",
              "  ('Пятдесят седьмая школа', 0.07678858889544113),\n",
              "  ('1984', 0.07669026567214482),\n",
              "  ('Фембой', 0.07631546628462818),\n",
              "  ('Зло', 0.07530339614914759),\n",
              "  ('Тарутинский маневр', 0.06327786238232792),\n",
              "  ('Корея', 0.06218141690588724),\n",
              "  ('Интегральная теорема Коши', 0.03675798688212702)],\n",
              " 'Linkin Park': [('4chan', 0.32311106999721395),\n",
              "  ('Дота 2', 0.2794519835971459),\n",
              "  ('Сербия', 0.2740132287799473),\n",
              "  ('Маори', 0.2484272684056963),\n",
              "  ('Тургенев', 0.2475306638794279),\n",
              "  ('Yatoro', 0.20301348474542127),\n",
              "  ('1984', 0.17657112888622545),\n",
              "  ('СССР', 0.1745771974112314),\n",
              "  ('qwerty', 0.1527496869095926),\n",
              "  ('Берлин', 0.12778859970745232),\n",
              "  ('Python', 0.12111000628030828),\n",
              "  ('Пятдесят седьмая школа', 0.11874847556102563),\n",
              "  ('Фембой', 0.11413158216295236),\n",
              "  ('Программирование', 0.1047506810649341),\n",
              "  ('Корея', 0.10225926760948637),\n",
              "  ('Зло', 0.09234364625835227),\n",
              "  ('Тарутинский маневр', 0.09189168138083909),\n",
              "  ('0', 0.0918550726573028),\n",
              "  ('Интегральная теорема Коши', 0.025426215623966075)],\n",
              " 'Корея': [('Сербия', 0.3228339065962965),\n",
              "  ('Маори', 0.18694778065103482),\n",
              "  ('СССР', 0.18403173933770967),\n",
              "  ('Тургенев', 0.1312490782618779),\n",
              "  ('Берлин', 0.12158978834565536),\n",
              "  ('4chan', 0.10845862837924476),\n",
              "  ('Linkin Park', 0.10225926760948637),\n",
              "  ('1984', 0.09616924289483941),\n",
              "  ('Дота 2', 0.07850566079702372),\n",
              "  ('Фембой', 0.07454600034391283),\n",
              "  ('Зло', 0.07108228822125706),\n",
              "  ('Пятдесят седьмая школа', 0.0687913311785663),\n",
              "  ('Программирование', 0.06683915363927885),\n",
              "  ('qwerty', 0.06218141690588724),\n",
              "  ('Yatoro', 0.061387129778731266),\n",
              "  ('0', 0.05362287368910063),\n",
              "  ('Тарутинский маневр', 0.050757614967239725),\n",
              "  ('Python', 0.043032158298155584),\n",
              "  ('Интегральная теорема Коши', 0.005153421129492018)],\n",
              " 'Берлин': [('Сербия', 0.3487479128788884),\n",
              "  ('Маори', 0.19062518634708853),\n",
              "  ('СССР', 0.19020267513947012),\n",
              "  ('Тургенев', 0.18551954929354586),\n",
              "  ('Linkin Park', 0.12778859970745232),\n",
              "  ('Корея', 0.12158978834565536),\n",
              "  ('4chan', 0.12155126486801965),\n",
              "  ('Дота 2', 0.1122635350505194),\n",
              "  ('1984', 0.10980185481436228),\n",
              "  ('Пятдесят седьмая школа', 0.10236871608131964),\n",
              "  ('qwerty', 0.09482508823013101),\n",
              "  ('Тарутинский маневр', 0.08774636841585291),\n",
              "  ('Yatoro', 0.08433583836201176),\n",
              "  ('Python', 0.0769950662977019),\n",
              "  ('Фембой', 0.07226290765265359),\n",
              "  ('Программирование', 0.058999728522708655),\n",
              "  ('Зло', 0.058384839917681015),\n",
              "  ('0', 0.044400529268132996),\n",
              "  ('Интегральная теорема Коши', 0.007540541945999728)],\n",
              " 'Маори': [('Сербия', 0.4414031561885651),\n",
              "  ('Тургенев', 0.31412279607860555),\n",
              "  ('Linkin Park', 0.2484272684056963),\n",
              "  ('4chan', 0.2370967095211091),\n",
              "  ('СССР', 0.23508237673354626),\n",
              "  ('Python', 0.20840772847103525),\n",
              "  ('Зло', 0.2081189554822076),\n",
              "  ('Берлин', 0.19062518634708853),\n",
              "  ('Дота 2', 0.18878651262437526),\n",
              "  ('Корея', 0.18694778065103482),\n",
              "  ('1984', 0.18539217636096164),\n",
              "  ('Фембой', 0.1802172008454143),\n",
              "  ('Программирование', 0.17429725332123044),\n",
              "  ('qwerty', 0.1595065503473735),\n",
              "  ('Пятдесят седьмая школа', 0.15656383887867656),\n",
              "  ('Тарутинский маневр', 0.12617018372306038),\n",
              "  ('0', 0.11872852880305775),\n",
              "  ('Yatoro', 0.10984449803123307),\n",
              "  ('Интегральная теорема Коши', 0.020705586647402213)],\n",
              " 'Зло': [('Маори', 0.2081189554822076),\n",
              "  ('Тургенев', 0.1926892068716062),\n",
              "  ('Сербия', 0.1542976992000639),\n",
              "  ('Фембой', 0.11549962747256594),\n",
              "  ('4chan', 0.10888924788959747),\n",
              "  ('СССР', 0.10544419265146962),\n",
              "  ('Python', 0.09561324427591435),\n",
              "  ('Linkin Park', 0.09234364625835227),\n",
              "  ('1984', 0.0769476926386907),\n",
              "  ('0', 0.07646677694496927),\n",
              "  ('qwerty', 0.07530339614914759),\n",
              "  ('Программирование', 0.07114203228422185),\n",
              "  ('Корея', 0.07108228822125706),\n",
              "  ('Дота 2', 0.06717291960075168),\n",
              "  ('Тарутинский маневр', 0.06165715709934103),\n",
              "  ('Берлин', 0.058384839917681015),\n",
              "  ('Yatoro', 0.0526430678268205),\n",
              "  ('Пятдесят седьмая школа', 0.04853950212798838),\n",
              "  ('Интегральная теорема Коши', 0.010286811820919204)],\n",
              " 'Тургенев': [('Сербия', 0.3562944109937231),\n",
              "  ('Маори', 0.31412279607860555),\n",
              "  ('4chan', 0.25430495518214136),\n",
              "  ('Linkin Park', 0.2475306638794279),\n",
              "  ('СССР', 0.23622835268880296),\n",
              "  ('Тарутинский маневр', 0.23426209382167143),\n",
              "  ('Пятдесят седьмая школа', 0.21358000392699045),\n",
              "  ('Дота 2', 0.20391244674163556),\n",
              "  ('Зло', 0.1926892068716062),\n",
              "  ('Берлин', 0.18551954929354586),\n",
              "  ('Фембой', 0.17570110087848942),\n",
              "  ('Программирование', 0.166567272657462),\n",
              "  ('qwerty', 0.16111612013698678),\n",
              "  ('1984', 0.1593749893180968),\n",
              "  ('Python', 0.1537523213787772),\n",
              "  ('Yatoro', 0.14633408211621327),\n",
              "  ('Корея', 0.1312490782618779),\n",
              "  ('0', 0.09562446474029516),\n",
              "  ('Интегральная теорема Коши', 0.014074305017825858)],\n",
              " 'Тарутинский маневр': [('Тургенев', 0.23426209382167143),\n",
              "  ('Сербия', 0.14527650307469786),\n",
              "  ('Маори', 0.12617018372306038),\n",
              "  ('Пятдесят седьмая школа', 0.12187256872158934),\n",
              "  ('СССР', 0.10830499151231754),\n",
              "  ('1984', 0.10430107666922289),\n",
              "  ('Linkin Park', 0.09189168138083909),\n",
              "  ('Берлин', 0.08774636841585291),\n",
              "  ('Yatoro', 0.08283823460582525),\n",
              "  ('Дота 2', 0.08118598366172898),\n",
              "  ('4chan', 0.07965693193221),\n",
              "  ('qwerty', 0.06327786238232792),\n",
              "  ('Зло', 0.06165715709934103),\n",
              "  ('Программирование', 0.052210838604521956),\n",
              "  ('Корея', 0.050757614967239725),\n",
              "  ('Фембой', 0.03979151276470139),\n",
              "  ('Python', 0.03768640334590044),\n",
              "  ('0', 0.03732363759343832),\n",
              "  ('Интегральная теорема Коши', 0.004798288027973595)]}"
            ]
          },
          "metadata": {},
          "execution_count": 312
        }
      ]
    },
    {
      "cell_type": "code",
      "source": [
        "texts_sims_2 = {}\n",
        "for i in range(texts_length):\n",
        "    sims = {}\n",
        "    wiki_vector_1 = wikis_tfidf_2[i]\n",
        "    for j in range(texts_length):\n",
        "        wiki_vector_2 = wikis_tfidf_2[j]\n",
        "        sims[page_titles[j]] = cosine_similarity(wiki_vector_1, wiki_vector_2)[0][0]\n",
        "    texts_sims_2[page_titles[i]] = sims"
      ],
      "metadata": {
        "id": "Fh6ZsSvQpeDR"
      },
      "execution_count": 323,
      "outputs": []
    },
    {
      "cell_type": "code",
      "source": [
        "texts_sims_2"
      ],
      "metadata": {
        "colab": {
          "base_uri": "https://localhost:8080/"
        },
        "id": "xScZcEPWp0sN",
        "outputId": "676589cc-da92-4fbf-bab2-084318078ddc"
      },
      "execution_count": 324,
      "outputs": [
        {
          "output_type": "execute_result",
          "data": {
            "text/plain": [
              "{'Пятдесят седьмая школа': {'Пятдесят седьмая школа': 1.0000000000000004,\n",
              "  'Программирование': 0.08783974827006841,\n",
              "  'Python': 0.0722812009498746,\n",
              "  '1984': 0.07972546819261353,\n",
              "  '4chan': 0.13060177109743534,\n",
              "  'СССР': 0.1553025785109775,\n",
              "  'Фембой': 0.06412890209782228,\n",
              "  'Дота 2': 0.10378272764308293,\n",
              "  'Сербия': 0.23021435075829816,\n",
              "  'Yatoro': 0.13585384182003876,\n",
              "  'Интегральная теорема Коши': 0.008928442269896164,\n",
              "  '0': 0.05559108419202451,\n",
              "  'qwerty': 0.07678858889544113,\n",
              "  'Linkin Park': 0.11874847556102563,\n",
              "  'Корея': 0.0687913311785663,\n",
              "  'Берлин': 0.10236871608131964,\n",
              "  'Маори': 0.15656383887867656,\n",
              "  'Зло': 0.04853950212798838,\n",
              "  'Тургенев': 0.21358000392699045,\n",
              "  'Тарутинский маневр': 0.12187256872158934},\n",
              " 'Программирование': {'Пятдесят седьмая школа': 0.08783974827006841,\n",
              "  'Программирование': 0.9999999999999996,\n",
              "  'Python': 0.5089045632273619,\n",
              "  '1984': 0.08887215806380168,\n",
              "  '4chan': 0.12875853142400517,\n",
              "  'СССР': 0.1841278949556361,\n",
              "  'Фембой': 0.05806781171365127,\n",
              "  'Дота 2': 0.10201249738255021,\n",
              "  'Сербия': 0.1698021254168651,\n",
              "  'Yatoro': 0.08156256889499525,\n",
              "  'Интегральная теорема Коши': 0.009803391167959707,\n",
              "  '0': 0.09908536362649657,\n",
              "  'qwerty': 0.1796375486549907,\n",
              "  'Linkin Park': 0.1047506810649341,\n",
              "  'Корея': 0.06683915363927885,\n",
              "  'Берлин': 0.058999728522708655,\n",
              "  'Маори': 0.17429725332123044,\n",
              "  'Зло': 0.07114203228422185,\n",
              "  'Тургенев': 0.166567272657462,\n",
              "  'Тарутинский маневр': 0.052210838604521956},\n",
              " 'Python': {'Пятдесят седьмая школа': 0.0722812009498746,\n",
              "  'Программирование': 0.5089045632273619,\n",
              "  'Python': 0.9999999999999994,\n",
              "  '1984': 0.05832982694036029,\n",
              "  '4chan': 0.20314931486831778,\n",
              "  'СССР': 0.10505531596642546,\n",
              "  'Фембой': 0.155955548517285,\n",
              "  'Дота 2': 0.16837992223839104,\n",
              "  'Сербия': 0.18804101881032723,\n",
              "  'Yatoro': 0.05092008466993928,\n",
              "  'Интегральная теорема Коши': 0.050072847326564716,\n",
              "  '0': 0.17304276218394277,\n",
              "  'qwerty': 0.1793035090293925,\n",
              "  'Linkin Park': 0.12111000628030828,\n",
              "  'Корея': 0.043032158298155584,\n",
              "  'Берлин': 0.0769950662977019,\n",
              "  'Маори': 0.20840772847103525,\n",
              "  'Зло': 0.09561324427591435,\n",
              "  'Тургенев': 0.1537523213787772,\n",
              "  'Тарутинский маневр': 0.03768640334590044},\n",
              " '1984': {'Пятдесят седьмая школа': 0.07972546819261353,\n",
              "  'Программирование': 0.08887215806380168,\n",
              "  'Python': 0.05832982694036029,\n",
              "  '1984': 0.9999999999999998,\n",
              "  '4chan': 0.13057911292996635,\n",
              "  'СССР': 0.3132331134355929,\n",
              "  'Фембой': 0.06076155088177686,\n",
              "  'Дота 2': 0.11354095047949085,\n",
              "  'Сербия': 0.3155921627123827,\n",
              "  'Yatoro': 0.10887318941098158,\n",
              "  'Интегральная теорема Коши': 0.01101161813003727,\n",
              "  '0': 0.03507734072467825,\n",
              "  'qwerty': 0.07669026567214482,\n",
              "  'Linkin Park': 0.17657112888622545,\n",
              "  'Корея': 0.09616924289483941,\n",
              "  'Берлин': 0.10980185481436228,\n",
              "  'Маори': 0.18539217636096164,\n",
              "  'Зло': 0.0769476926386907,\n",
              "  'Тургенев': 0.1593749893180968,\n",
              "  'Тарутинский маневр': 0.10430107666922289},\n",
              " '4chan': {'Пятдесят седьмая школа': 0.13060177109743534,\n",
              "  'Программирование': 0.12875853142400517,\n",
              "  'Python': 0.20314931486831778,\n",
              "  '1984': 0.13057911292996635,\n",
              "  '4chan': 0.9999999999999994,\n",
              "  'СССР': 0.16273750861701766,\n",
              "  'Фембой': 0.2237423571357264,\n",
              "  'Дота 2': 0.24620461001533328,\n",
              "  'Сербия': 0.2880685848383534,\n",
              "  'Yatoro': 0.15292871172199307,\n",
              "  'Интегральная теорема Коши': 0.022058685106763697,\n",
              "  '0': 0.14575834719100267,\n",
              "  'qwerty': 0.17952586391271608,\n",
              "  'Linkin Park': 0.32311106999721395,\n",
              "  'Корея': 0.10845862837924476,\n",
              "  'Берлин': 0.12155126486801965,\n",
              "  'Маори': 0.2370967095211091,\n",
              "  'Зло': 0.10888924788959747,\n",
              "  'Тургенев': 0.25430495518214136,\n",
              "  'Тарутинский маневр': 0.07965693193221},\n",
              " 'СССР': {'Пятдесят седьмая школа': 0.1553025785109775,\n",
              "  'Программирование': 0.1841278949556361,\n",
              "  'Python': 0.10505531596642546,\n",
              "  '1984': 0.3132331134355929,\n",
              "  '4chan': 0.16273750861701766,\n",
              "  'СССР': 1.0000000000000002,\n",
              "  'Фембой': 0.09945285790137373,\n",
              "  'Дота 2': 0.1428179943296604,\n",
              "  'Сербия': 0.45304396795326,\n",
              "  'Yatoro': 0.1306198376097313,\n",
              "  'Интегральная теорема Коши': 0.013757206240987386,\n",
              "  '0': 0.06991678252390288,\n",
              "  'qwerty': 0.09982108276429252,\n",
              "  'Linkin Park': 0.1745771974112314,\n",
              "  'Корея': 0.18403173933770967,\n",
              "  'Берлин': 0.19020267513947012,\n",
              "  'Маори': 0.23508237673354626,\n",
              "  'Зло': 0.10544419265146962,\n",
              "  'Тургенев': 0.23622835268880296,\n",
              "  'Тарутинский маневр': 0.10830499151231754},\n",
              " 'Фембой': {'Пятдесят седьмая школа': 0.06412890209782228,\n",
              "  'Программирование': 0.05806781171365127,\n",
              "  'Python': 0.155955548517285,\n",
              "  '1984': 0.06076155088177686,\n",
              "  '4chan': 0.2237423571357264,\n",
              "  'СССР': 0.09945285790137373,\n",
              "  'Фембой': 1.0000000000000007,\n",
              "  'Дота 2': 0.1307911216956622,\n",
              "  'Сербия': 0.1747510936591491,\n",
              "  'Yatoro': 0.0529045921659065,\n",
              "  'Интегральная теорема Коши': 0.01241194902595748,\n",
              "  '0': 0.07225490221850585,\n",
              "  'qwerty': 0.07631546628462818,\n",
              "  'Linkin Park': 0.11413158216295236,\n",
              "  'Корея': 0.07454600034391283,\n",
              "  'Берлин': 0.07226290765265359,\n",
              "  'Маори': 0.1802172008454143,\n",
              "  'Зло': 0.11549962747256594,\n",
              "  'Тургенев': 0.17570110087848942,\n",
              "  'Тарутинский маневр': 0.03979151276470139},\n",
              " 'Дота 2': {'Пятдесят седьмая школа': 0.10378272764308293,\n",
              "  'Программирование': 0.10201249738255021,\n",
              "  'Python': 0.16837992223839104,\n",
              "  '1984': 0.11354095047949085,\n",
              "  '4chan': 0.24620461001533328,\n",
              "  'СССР': 0.1428179943296604,\n",
              "  'Фембой': 0.1307911216956622,\n",
              "  'Дота 2': 0.9999999999999999,\n",
              "  'Сербия': 0.24877207648468,\n",
              "  'Yatoro': 0.40770892834994815,\n",
              "  'Интегральная теорема Коши': 0.012428503765999138,\n",
              "  '0': 0.08347207148413147,\n",
              "  'qwerty': 0.1618731034560959,\n",
              "  'Linkin Park': 0.2794519835971459,\n",
              "  'Корея': 0.07850566079702372,\n",
              "  'Берлин': 0.1122635350505194,\n",
              "  'Маори': 0.18878651262437526,\n",
              "  'Зло': 0.06717291960075168,\n",
              "  'Тургенев': 0.20391244674163556,\n",
              "  'Тарутинский маневр': 0.08118598366172898},\n",
              " 'Сербия': {'Пятдесят седьмая школа': 0.23021435075829816,\n",
              "  'Программирование': 0.1698021254168651,\n",
              "  'Python': 0.18804101881032723,\n",
              "  '1984': 0.3155921627123827,\n",
              "  '4chan': 0.2880685848383534,\n",
              "  'СССР': 0.45304396795326,\n",
              "  'Фембой': 0.1747510936591491,\n",
              "  'Дота 2': 0.24877207648468,\n",
              "  'Сербия': 0.9999999999999991,\n",
              "  'Yatoro': 0.21082603395754973,\n",
              "  'Интегральная теорема Коши': 0.02291541456710656,\n",
              "  '0': 0.11744408471562902,\n",
              "  'qwerty': 0.1776259368335927,\n",
              "  'Linkin Park': 0.2740132287799473,\n",
              "  'Корея': 0.3228339065962965,\n",
              "  'Берлин': 0.3487479128788884,\n",
              "  'Маори': 0.4414031561885651,\n",
              "  'Зло': 0.1542976992000639,\n",
              "  'Тургенев': 0.3562944109937231,\n",
              "  'Тарутинский маневр': 0.14527650307469786},\n",
              " 'Yatoro': {'Пятдесят седьмая школа': 0.13585384182003876,\n",
              "  'Программирование': 0.08156256889499525,\n",
              "  'Python': 0.05092008466993928,\n",
              "  '1984': 0.10887318941098158,\n",
              "  '4chan': 0.15292871172199307,\n",
              "  'СССР': 0.1306198376097313,\n",
              "  'Фембой': 0.0529045921659065,\n",
              "  'Дота 2': 0.40770892834994815,\n",
              "  'Сербия': 0.21082603395754973,\n",
              "  'Yatoro': 1.0000000000000002,\n",
              "  'Интегральная теорема Коши': 0.003927672210471411,\n",
              "  '0': 0.02887745923149121,\n",
              "  'qwerty': 0.09383730419347874,\n",
              "  'Linkin Park': 0.20301348474542127,\n",
              "  'Корея': 0.061387129778731266,\n",
              "  'Берлин': 0.08433583836201176,\n",
              "  'Маори': 0.10984449803123307,\n",
              "  'Зло': 0.0526430678268205,\n",
              "  'Тургенев': 0.14633408211621327,\n",
              "  'Тарутинский маневр': 0.08283823460582525},\n",
              " 'Интегральная теорема Коши': {'Пятдесят седьмая школа': 0.008928442269896164,\n",
              "  'Программирование': 0.009803391167959707,\n",
              "  'Python': 0.050072847326564716,\n",
              "  '1984': 0.01101161813003727,\n",
              "  '4chan': 0.022058685106763697,\n",
              "  'СССР': 0.013757206240987386,\n",
              "  'Фембой': 0.01241194902595748,\n",
              "  'Дота 2': 0.012428503765999138,\n",
              "  'Сербия': 0.02291541456710656,\n",
              "  'Yatoro': 0.003927672210471411,\n",
              "  'Интегральная теорема Коши': 1.0000000000000002,\n",
              "  '0': 0.13193321931980007,\n",
              "  'qwerty': 0.03675798688212702,\n",
              "  'Linkin Park': 0.025426215623966075,\n",
              "  'Корея': 0.005153421129492018,\n",
              "  'Берлин': 0.007540541945999728,\n",
              "  'Маори': 0.020705586647402213,\n",
              "  'Зло': 0.010286811820919204,\n",
              "  'Тургенев': 0.014074305017825858,\n",
              "  'Тарутинский маневр': 0.004798288027973595},\n",
              " '0': {'Пятдесят седьмая школа': 0.05559108419202451,\n",
              "  'Программирование': 0.09908536362649657,\n",
              "  'Python': 0.17304276218394277,\n",
              "  '1984': 0.03507734072467825,\n",
              "  '4chan': 0.14575834719100267,\n",
              "  'СССР': 0.06991678252390288,\n",
              "  'Фембой': 0.07225490221850585,\n",
              "  'Дота 2': 0.08347207148413147,\n",
              "  'Сербия': 0.11744408471562902,\n",
              "  'Yatoro': 0.02887745923149121,\n",
              "  'Интегральная теорема Коши': 0.13193321931980007,\n",
              "  '0': 0.9999999999999999,\n",
              "  'qwerty': 0.11573144584230942,\n",
              "  'Linkin Park': 0.0918550726573028,\n",
              "  'Корея': 0.05362287368910063,\n",
              "  'Берлин': 0.044400529268132996,\n",
              "  'Маори': 0.11872852880305775,\n",
              "  'Зло': 0.07646677694496927,\n",
              "  'Тургенев': 0.09562446474029516,\n",
              "  'Тарутинский маневр': 0.03732363759343832},\n",
              " 'qwerty': {'Пятдесят седьмая школа': 0.07678858889544113,\n",
              "  'Программирование': 0.1796375486549907,\n",
              "  'Python': 0.1793035090293925,\n",
              "  '1984': 0.07669026567214482,\n",
              "  '4chan': 0.17952586391271608,\n",
              "  'СССР': 0.09982108276429252,\n",
              "  'Фембой': 0.07631546628462818,\n",
              "  'Дота 2': 0.1618731034560959,\n",
              "  'Сербия': 0.1776259368335927,\n",
              "  'Yatoro': 0.09383730419347874,\n",
              "  'Интегральная теорема Коши': 0.03675798688212702,\n",
              "  '0': 0.11573144584230942,\n",
              "  'qwerty': 1.0000000000000002,\n",
              "  'Linkin Park': 0.1527496869095926,\n",
              "  'Корея': 0.06218141690588724,\n",
              "  'Берлин': 0.09482508823013101,\n",
              "  'Маори': 0.1595065503473735,\n",
              "  'Зло': 0.07530339614914759,\n",
              "  'Тургенев': 0.16111612013698678,\n",
              "  'Тарутинский маневр': 0.06327786238232792},\n",
              " 'Linkin Park': {'Пятдесят седьмая школа': 0.11874847556102563,\n",
              "  'Программирование': 0.1047506810649341,\n",
              "  'Python': 0.12111000628030828,\n",
              "  '1984': 0.17657112888622545,\n",
              "  '4chan': 0.32311106999721395,\n",
              "  'СССР': 0.1745771974112314,\n",
              "  'Фембой': 0.11413158216295236,\n",
              "  'Дота 2': 0.2794519835971459,\n",
              "  'Сербия': 0.2740132287799473,\n",
              "  'Yatoro': 0.20301348474542127,\n",
              "  'Интегральная теорема Коши': 0.025426215623966075,\n",
              "  '0': 0.0918550726573028,\n",
              "  'qwerty': 0.1527496869095926,\n",
              "  'Linkin Park': 1.0000000000000004,\n",
              "  'Корея': 0.10225926760948637,\n",
              "  'Берлин': 0.12778859970745232,\n",
              "  'Маори': 0.2484272684056963,\n",
              "  'Зло': 0.09234364625835227,\n",
              "  'Тургенев': 0.2475306638794279,\n",
              "  'Тарутинский маневр': 0.09189168138083909},\n",
              " 'Корея': {'Пятдесят седьмая школа': 0.0687913311785663,\n",
              "  'Программирование': 0.06683915363927885,\n",
              "  'Python': 0.043032158298155584,\n",
              "  '1984': 0.09616924289483941,\n",
              "  '4chan': 0.10845862837924476,\n",
              "  'СССР': 0.18403173933770967,\n",
              "  'Фембой': 0.07454600034391283,\n",
              "  'Дота 2': 0.07850566079702372,\n",
              "  'Сербия': 0.3228339065962965,\n",
              "  'Yatoro': 0.061387129778731266,\n",
              "  'Интегральная теорема Коши': 0.005153421129492018,\n",
              "  '0': 0.05362287368910063,\n",
              "  'qwerty': 0.06218141690588724,\n",
              "  'Linkin Park': 0.10225926760948637,\n",
              "  'Корея': 0.9999999999999997,\n",
              "  'Берлин': 0.12158978834565536,\n",
              "  'Маори': 0.18694778065103482,\n",
              "  'Зло': 0.07108228822125706,\n",
              "  'Тургенев': 0.1312490782618779,\n",
              "  'Тарутинский маневр': 0.050757614967239725},\n",
              " 'Берлин': {'Пятдесят седьмая школа': 0.10236871608131964,\n",
              "  'Программирование': 0.058999728522708655,\n",
              "  'Python': 0.0769950662977019,\n",
              "  '1984': 0.10980185481436228,\n",
              "  '4chan': 0.12155126486801965,\n",
              "  'СССР': 0.19020267513947012,\n",
              "  'Фембой': 0.07226290765265359,\n",
              "  'Дота 2': 0.1122635350505194,\n",
              "  'Сербия': 0.3487479128788884,\n",
              "  'Yatoro': 0.08433583836201176,\n",
              "  'Интегральная теорема Коши': 0.007540541945999728,\n",
              "  '0': 0.044400529268132996,\n",
              "  'qwerty': 0.09482508823013101,\n",
              "  'Linkin Park': 0.12778859970745232,\n",
              "  'Корея': 0.12158978834565536,\n",
              "  'Берлин': 1.0,\n",
              "  'Маори': 0.19062518634708853,\n",
              "  'Зло': 0.058384839917681015,\n",
              "  'Тургенев': 0.18551954929354586,\n",
              "  'Тарутинский маневр': 0.08774636841585291},\n",
              " 'Маори': {'Пятдесят седьмая школа': 0.15656383887867656,\n",
              "  'Программирование': 0.17429725332123044,\n",
              "  'Python': 0.20840772847103525,\n",
              "  '1984': 0.18539217636096164,\n",
              "  '4chan': 0.2370967095211091,\n",
              "  'СССР': 0.23508237673354626,\n",
              "  'Фембой': 0.1802172008454143,\n",
              "  'Дота 2': 0.18878651262437526,\n",
              "  'Сербия': 0.4414031561885651,\n",
              "  'Yatoro': 0.10984449803123307,\n",
              "  'Интегральная теорема Коши': 0.020705586647402213,\n",
              "  '0': 0.11872852880305775,\n",
              "  'qwerty': 0.1595065503473735,\n",
              "  'Linkin Park': 0.2484272684056963,\n",
              "  'Корея': 0.18694778065103482,\n",
              "  'Берлин': 0.19062518634708853,\n",
              "  'Маори': 1.0000000000000002,\n",
              "  'Зло': 0.2081189554822076,\n",
              "  'Тургенев': 0.31412279607860555,\n",
              "  'Тарутинский маневр': 0.12617018372306038},\n",
              " 'Зло': {'Пятдесят седьмая школа': 0.04853950212798838,\n",
              "  'Программирование': 0.07114203228422185,\n",
              "  'Python': 0.09561324427591435,\n",
              "  '1984': 0.0769476926386907,\n",
              "  '4chan': 0.10888924788959747,\n",
              "  'СССР': 0.10544419265146962,\n",
              "  'Фембой': 0.11549962747256594,\n",
              "  'Дота 2': 0.06717291960075168,\n",
              "  'Сербия': 0.1542976992000639,\n",
              "  'Yatoro': 0.0526430678268205,\n",
              "  'Интегральная теорема Коши': 0.010286811820919204,\n",
              "  '0': 0.07646677694496927,\n",
              "  'qwerty': 0.07530339614914759,\n",
              "  'Linkin Park': 0.09234364625835227,\n",
              "  'Корея': 0.07108228822125706,\n",
              "  'Берлин': 0.058384839917681015,\n",
              "  'Маори': 0.2081189554822076,\n",
              "  'Зло': 0.9999999999999997,\n",
              "  'Тургенев': 0.1926892068716062,\n",
              "  'Тарутинский маневр': 0.06165715709934103},\n",
              " 'Тургенев': {'Пятдесят седьмая школа': 0.21358000392699045,\n",
              "  'Программирование': 0.166567272657462,\n",
              "  'Python': 0.1537523213787772,\n",
              "  '1984': 0.1593749893180968,\n",
              "  '4chan': 0.25430495518214136,\n",
              "  'СССР': 0.23622835268880296,\n",
              "  'Фембой': 0.17570110087848942,\n",
              "  'Дота 2': 0.20391244674163556,\n",
              "  'Сербия': 0.3562944109937231,\n",
              "  'Yatoro': 0.14633408211621327,\n",
              "  'Интегральная теорема Коши': 0.014074305017825858,\n",
              "  '0': 0.09562446474029516,\n",
              "  'qwerty': 0.16111612013698678,\n",
              "  'Linkin Park': 0.2475306638794279,\n",
              "  'Корея': 0.1312490782618779,\n",
              "  'Берлин': 0.18551954929354586,\n",
              "  'Маори': 0.31412279607860555,\n",
              "  'Зло': 0.1926892068716062,\n",
              "  'Тургенев': 0.9999999999999969,\n",
              "  'Тарутинский маневр': 0.23426209382167143},\n",
              " 'Тарутинский маневр': {'Пятдесят седьмая школа': 0.12187256872158934,\n",
              "  'Программирование': 0.052210838604521956,\n",
              "  'Python': 0.03768640334590044,\n",
              "  '1984': 0.10430107666922289,\n",
              "  '4chan': 0.07965693193221,\n",
              "  'СССР': 0.10830499151231754,\n",
              "  'Фембой': 0.03979151276470139,\n",
              "  'Дота 2': 0.08118598366172898,\n",
              "  'Сербия': 0.14527650307469786,\n",
              "  'Yatoro': 0.08283823460582525,\n",
              "  'Интегральная теорема Коши': 0.004798288027973595,\n",
              "  '0': 0.03732363759343832,\n",
              "  'qwerty': 0.06327786238232792,\n",
              "  'Linkin Park': 0.09189168138083909,\n",
              "  'Корея': 0.050757614967239725,\n",
              "  'Берлин': 0.08774636841585291,\n",
              "  'Маори': 0.12617018372306038,\n",
              "  'Зло': 0.06165715709934103,\n",
              "  'Тургенев': 0.23426209382167143,\n",
              "  'Тарутинский маневр': 1.0}}"
            ]
          },
          "metadata": {},
          "execution_count": 324
        }
      ]
    },
    {
      "cell_type": "code",
      "source": [
        "import seaborn as sns"
      ],
      "metadata": {
        "id": "-vDkobBOpXJP"
      },
      "execution_count": 297,
      "outputs": []
    },
    {
      "cell_type": "code",
      "source": [
        "sns.clustermap(texts_sims_2)"
      ],
      "metadata": {
        "colab": {
          "base_uri": "https://localhost:8080/",
          "height": 810
        },
        "id": "jXa2Qv7xpT-x",
        "outputId": "d76dcfef-de2d-4511-8ace-bb03153cd461"
      },
      "execution_count": 325,
      "outputs": [
        {
          "output_type": "execute_result",
          "data": {
            "text/plain": [
              "<seaborn.matrix.ClusterGrid at 0x784e37c8e080>"
            ]
          },
          "metadata": {},
          "execution_count": 325
        },
        {
          "output_type": "display_data",
          "data": {
            "text/plain": [
              "<Figure size 1000x1000 with 4 Axes>"
            ],
            "image/png": "[encoded data removed]"
          },
          "metadata": {}
        }
      ]
    },
    {
      "cell_type": "code",
      "source": [
        "iris = sns.load_dataset(\"iris\")\n",
        "species = iris.pop(\"species\")\n",
        "iris"
      ],
      "metadata": {
        "colab": {
          "base_uri": "https://localhost:8080/",
          "height": 444
        },
        "id": "m54bU0AdqJD8",
        "outputId": "ac2a7a01-2c56-4bf2-c075-daf41e173ab7"
      },
      "execution_count": 307,
      "outputs": [
        {
          "output_type": "execute_result",
          "data": {
            "text/plain": [
              "     sepal_length  sepal_width  petal_length  petal_width\n",
              "0             5.1          3.5           1.4          0.2\n",
              "1             4.9          3.0           1.4          0.2\n",
              "2             4.7          3.2           1.3          0.2\n",
              "3             4.6          3.1           1.5          0.2\n",
              "4             5.0          3.6           1.4          0.2\n",
              "..            ...          ...           ...          ...\n",
              "145           6.7          3.0           5.2          2.3\n",
              "146           6.3          2.5           5.0          1.9\n",
              "147           6.5          3.0           5.2          2.0\n",
              "148           6.2          3.4           5.4          2.3\n",
              "149           5.9          3.0           5.1          1.8\n",
              "\n",
              "[150 rows x 4 columns]"
            ],
            "text/html": [
              "\n",
              "  <div id=\"df-9a8b9221-6844-4955-a7eb-570c39fe729e\" class=\"colab-df-container\">\n",
              "    <div>\n",
              "<style scoped>\n",
              "    .dataframe tbody tr th:only-of-type {\n",
              "        vertical-align: middle;\n",
              "    }\n",
              "\n",
              "    .dataframe tbody tr th {\n",
              "        vertical-align: top;\n",
              "    }\n",
              "\n",
              "    .dataframe thead th {\n",
              "        text-align: right;\n",
              "    }\n",
              "</style>\n",
              "<table border=\"1\" class=\"dataframe\">\n",
              "  <thead>\n",
              "    <tr style=\"text-align: right;\">\n",
              "      <th></th>\n",
              "      <th>sepal_length</th>\n",
              "      <th>sepal_width</th>\n",
              "      <th>petal_length</th>\n",
              "      <th>petal_width</th>\n",
              "    </tr>\n",
              "  </thead>\n",
              "  <tbody>\n",
              "    <tr>\n",
              "      <th>0</th>\n",
              "      <td>5.1</td>\n",
              "      <td>3.5</td>\n",
              "      <td>1.4</td>\n",
              "      <td>0.2</td>\n",
              "    </tr>\n",
              "    <tr>\n",
              "      <th>1</th>\n",
              "      <td>4.9</td>\n",
              "      <td>3.0</td>\n",
              "      <td>1.4</td>\n",
              "      <td>0.2</td>\n",
              "    </tr>\n",
              "    <tr>\n",
              "      <th>2</th>\n",
              "      <td>4.7</td>\n",
              "      <td>3.2</td>\n",
              "      <td>1.3</td>\n",
              "      <td>0.2</td>\n",
              "    </tr>\n",
              "    <tr>\n",
              "      <th>3</th>\n",
              "      <td>4.6</td>\n",
              "      <td>3.1</td>\n",
              "      <td>1.5</td>\n",
              "      <td>0.2</td>\n",
              "    </tr>\n",
              "    <tr>\n",
              "      <th>4</th>\n",
              "      <td>5.0</td>\n",
              "      <td>3.6</td>\n",
              "      <td>1.4</td>\n",
              "      <td>0.2</td>\n",
              "    </tr>\n",
              "    <tr>\n",
              "      <th>...</th>\n",
              "      <td>...</td>\n",
              "      <td>...</td>\n",
              "      <td>...</td>\n",
              "      <td>...</td>\n",
              "    </tr>\n",
              "    <tr>\n",
              "      <th>145</th>\n",
              "      <td>6.7</td>\n",
              "      <td>3.0</td>\n",
              "      <td>5.2</td>\n",
              "      <td>2.3</td>\n",
              "    </tr>\n",
              "    <tr>\n",
              "      <th>146</th>\n",
              "      <td>6.3</td>\n",
              "      <td>2.5</td>\n",
              "      <td>5.0</td>\n",
              "      <td>1.9</td>\n",
              "    </tr>\n",
              "    <tr>\n",
              "      <th>147</th>\n",
              "      <td>6.5</td>\n",
              "      <td>3.0</td>\n",
              "      <td>5.2</td>\n",
              "      <td>2.0</td>\n",
              "    </tr>\n",
              "    <tr>\n",
              "      <th>148</th>\n",
              "      <td>6.2</td>\n",
              "      <td>3.4</td>\n",
              "      <td>5.4</td>\n",
              "      <td>2.3</td>\n",
              "    </tr>\n",
              "    <tr>\n",
              "      <th>149</th>\n",
              "      <td>5.9</td>\n",
              "      <td>3.0</td>\n",
              "      <td>5.1</td>\n",
              "      <td>1.8</td>\n",
              "    </tr>\n",
              "  </tbody>\n",
              "</table>\n",
              "<p>150 rows × 4 columns</p>\n",
              "</div>\n",
              "    <div class=\"colab-df-buttons\">\n",
              "\n",
              "  <div class=\"colab-df-container\">\n",
              "    <button class=\"colab-df-convert\" onclick=\"convertToInteractive('df-9a8b9221-6844-4955-a7eb-570c39fe729e')\"\n",
              "            title=\"Convert this dataframe to an interactive table.\"\n",
              "            style=\"display:none;\">\n",
              "\n",
              "  <svg xmlns=\"http://www.w3.org/2000/svg\" height=\"24px\" viewBox=\"0 -960 960 960\">\n",
              "    <path d=\"M120-120v-720h720v720H120Zm60-500h600v-160H180v160Zm220 220h160v-160H400v160Zm0 220h160v-160H400v160ZM180-400h160v-160H180v160Zm440 0h160v-160H620v160ZM180-180h160v-160H180v160Zm440 0h160v-160H620v160Z\"/>\n",
              "  </svg>\n",
              "    </button>\n",
              "\n",
              "  <style>\n",
              "    .colab-df-container {\n",
              "      display:flex;\n",
              "      gap: 12px;\n",
              "    }\n",
              "\n",
              "    .colab-df-convert {\n",
              "      background-color: #E8F0FE;\n",
              "      border: none;\n",
              "      border-radius: 50%;\n",
              "      cursor: pointer;\n",
              "      display: none;\n",
              "      fill: #1967D2;\n",
              "      height: 32px;\n",
              "      padding: 0 0 0 0;\n",
              "      width: 32px;\n",
              "    }\n",
              "\n",
              "    .colab-df-convert:hover {\n",
              "      background-color: #E2EBFA;\n",
              "      box-shadow: 0px 1px 2px rgba(60, 64, 67, 0.3), 0px 1px 3px 1px rgba(60, 64, 67, 0.15);\n",
              "      fill: #174EA6;\n",
              "    }\n",
              "\n",
              "    .colab-df-buttons div {\n",
              "      margin-bottom: 4px;\n",
              "    }\n",
              "\n",
              "    [theme=dark] .colab-df-convert {\n",
              "      background-color: #3B4455;\n",
              "      fill: #D2E3FC;\n",
              "    }\n",
              "\n",
              "    [theme=dark] .colab-df-convert:hover {\n",
              "      background-color: #434B5C;\n",
              "      box-shadow: 0px 1px 3px 1px rgba(0, 0, 0, 0.15);\n",
              "      filter: drop-shadow(0px 1px 2px rgba(0, 0, 0, 0.3));\n",
              "      fill: #FFFFFF;\n",
              "    }\n",
              "  </style>\n",
              "\n",
              "    <script>\n",
              "      const buttonEl =\n",
              "        document.querySelector('#df-9a8b9221-6844-4955-a7eb-570c39fe729e button.colab-df-convert');\n",
              "      buttonEl.style.display =\n",
              "        google.colab.kernel.accessAllowed ? 'block' : 'none';\n",
              "\n",
              "      async function convertToInteractive(key) {\n",
              "        const element = document.querySelector('#df-9a8b9221-6844-4955-a7eb-570c39fe729e');\n",
              "        const dataTable =\n",
              "          await google.colab.kernel.invokeFunction('convertToInteractive',\n",
              "                                                    [key], {});\n",
              "        if (!dataTable) return;\n",
              "\n",
              "        const docLinkHtml = 'Like what you see? Visit the ' +\n",
              "          '<a target=\"_blank\" href=https://colab.research.google.com/notebooks/data_table.ipynb>data table notebook</a>'\n",
              "          + ' to learn more about interactive tables.';\n",
              "        element.innerHTML = '';\n",
              "        dataTable['output_type'] = 'display_data';\n",
              "        await google.colab.output.renderOutput(dataTable, element);\n",
              "        const docLink = document.createElement('div');\n",
              "        docLink.innerHTML = docLinkHtml;\n",
              "        element.appendChild(docLink);\n",
              "      }\n",
              "    </script>\n",
              "  </div>\n",
              "\n",
              "\n",
              "<div id=\"df-255d63ac-c14b-4d1f-bc1d-f43ad8585bf7\">\n",
              "  <button class=\"colab-df-quickchart\" onclick=\"quickchart('df-255d63ac-c14b-4d1f-bc1d-f43ad8585bf7')\"\n",
              "            title=\"Suggest charts\"\n",
              "            style=\"display:none;\">\n",
              "\n",
              "<svg xmlns=\"http://www.w3.org/2000/svg\" height=\"24px\"viewBox=\"0 0 24 24\"\n",
              "     width=\"24px\">\n",
              "    <g>\n",
              "        <path d=\"M19 3H5c-1.1 0-2 .9-2 2v14c0 1.1.9 2 2 2h14c1.1 0 2-.9 2-2V5c0-1.1-.9-2-2-2zM9 17H7v-7h2v7zm4 0h-2V7h2v10zm4 0h-2v-4h2v4z\"/>\n",
              "    </g>\n",
              "</svg>\n",
              "  </button>\n",
              "\n",
              "<style>\n",
              "  .colab-df-quickchart {\n",
              "      --bg-color: #E8F0FE;\n",
              "      --fill-color: #1967D2;\n",
              "      --hover-bg-color: #E2EBFA;\n",
              "      --hover-fill-color: #174EA6;\n",
              "      --disabled-fill-color: #AAA;\n",
              "      --disabled-bg-color: #DDD;\n",
              "  }\n",
              "\n",
              "  [theme=dark] .colab-df-quickchart {\n",
              "      --bg-color: #3B4455;\n",
              "      --fill-color: #D2E3FC;\n",
              "      --hover-bg-color: #434B5C;\n",
              "      --hover-fill-color: #FFFFFF;\n",
              "      --disabled-bg-color: #3B4455;\n",
              "      --disabled-fill-color: #666;\n",
              "  }\n",
              "\n",
              "  .colab-df-quickchart {\n",
              "    background-color: var(--bg-color);\n",
              "    border: none;\n",
              "    border-radius: 50%;\n",
              "    cursor: pointer;\n",
              "    display: none;\n",
              "    fill: var(--fill-color);\n",
              "    height: 32px;\n",
              "    padding: 0;\n",
              "    width: 32px;\n",
              "  }\n",
              "\n",
              "  .colab-df-quickchart:hover {\n",
              "    background-color: var(--hover-bg-color);\n",
              "    box-shadow: 0 1px 2px rgba(60, 64, 67, 0.3), 0 1px 3px 1px rgba(60, 64, 67, 0.15);\n",
              "    fill: var(--button-hover-fill-color);\n",
              "  }\n",
              "\n",
              "  .colab-df-quickchart-complete:disabled,\n",
              "  .colab-df-quickchart-complete:disabled:hover {\n",
              "    background-color: var(--disabled-bg-color);\n",
              "    fill: var(--disabled-fill-color);\n",
              "    box-shadow: none;\n",
              "  }\n",
              "\n",
              "  .colab-df-spinner {\n",
              "    border: 2px solid var(--fill-color);\n",
              "    border-color: transparent;\n",
              "    border-bottom-color: var(--fill-color);\n",
              "    animation:\n",
              "      spin 1s steps(1) infinite;\n",
              "  }\n",
              "\n",
              "  @keyframes spin {\n",
              "    0% {\n",
              "      border-color: transparent;\n",
              "      border-bottom-color: var(--fill-color);\n",
              "      border-left-color: var(--fill-color);\n",
              "    }\n",
              "    20% {\n",
              "      border-color: transparent;\n",
              "      border-left-color: var(--fill-color);\n",
              "      border-top-color: var(--fill-color);\n",
              "    }\n",
              "    30% {\n",
              "      border-color: transparent;\n",
              "      border-left-color: var(--fill-color);\n",
              "      border-top-color: var(--fill-color);\n",
              "      border-right-color: var(--fill-color);\n",
              "    }\n",
              "    40% {\n",
              "      border-color: transparent;\n",
              "      border-right-color: var(--fill-color);\n",
              "      border-top-color: var(--fill-color);\n",
              "    }\n",
              "    60% {\n",
              "      border-color: transparent;\n",
              "      border-right-color: var(--fill-color);\n",
              "    }\n",
              "    80% {\n",
              "      border-color: transparent;\n",
              "      border-right-color: var(--fill-color);\n",
              "      border-bottom-color: var(--fill-color);\n",
              "    }\n",
              "    90% {\n",
              "      border-color: transparent;\n",
              "      border-bottom-color: var(--fill-color);\n",
              "    }\n",
              "  }\n",
              "</style>\n",
              "\n",
              "  <script>\n",
              "    async function quickchart(key) {\n",
              "      const quickchartButtonEl =\n",
              "        document.querySelector('#' + key + ' button');\n",
              "      quickchartButtonEl.disabled = true;  // To prevent multiple clicks.\n",
              "      quickchartButtonEl.classList.add('colab-df-spinner');\n",
              "      try {\n",
              "        const charts = await google.colab.kernel.invokeFunction(\n",
              "            'suggestCharts', [key], {});\n",
              "      } catch (error) {\n",
              "        console.error('Error during call to suggestCharts:', error);\n",
              "      }\n",
              "      quickchartButtonEl.classList.remove('colab-df-spinner');\n",
              "      quickchartButtonEl.classList.add('colab-df-quickchart-complete');\n",
              "    }\n",
              "    (() => {\n",
              "      let quickchartButtonEl =\n",
              "        document.querySelector('#df-255d63ac-c14b-4d1f-bc1d-f43ad8585bf7 button');\n",
              "      quickchartButtonEl.style.display =\n",
              "        google.colab.kernel.accessAllowed ? 'block' : 'none';\n",
              "    })();\n",
              "  </script>\n",
              "</div>\n",
              "    </div>\n",
              "  </div>\n"
            ],
            "application/vnd.google.colaboratory.intrinsic+json": {
              "type": "dataframe",
              "variable_name": "iris",
              "summary": "{\n  \"name\": \"iris\",\n  \"rows\": 150,\n  \"fields\": [\n    {\n      \"column\": \"sepal_length\",\n      \"properties\": {\n        \"dtype\": \"number\",\n        \"std\": 0.8280661279778629,\n        \"min\": 4.3,\n        \"max\": 7.9,\n        \"num_unique_values\": 35,\n        \"samples\": [\n          6.2,\n          4.5,\n          5.6\n        ],\n        \"semantic_type\": \"\",\n        \"description\": \"\"\n      }\n    },\n    {\n      \"column\": \"sepal_width\",\n      \"properties\": {\n        \"dtype\": \"number\",\n        \"std\": 0.435866284936698,\n        \"min\": 2.0,\n        \"max\": 4.4,\n        \"num_unique_values\": 23,\n        \"samples\": [\n          2.3,\n          4.0,\n          3.5\n        ],\n        \"semantic_type\": \"\",\n        \"description\": \"\"\n      }\n    },\n    {\n      \"column\": \"petal_length\",\n      \"properties\": {\n        \"dtype\": \"number\",\n        \"std\": 1.7652982332594667,\n        \"min\": 1.0,\n        \"max\": 6.9,\n        \"num_unique_values\": 43,\n        \"samples\": [\n          6.7,\n          3.8,\n          3.7\n        ],\n        \"semantic_type\": \"\",\n        \"description\": \"\"\n      }\n    },\n    {\n      \"column\": \"petal_width\",\n      \"properties\": {\n        \"dtype\": \"number\",\n        \"std\": 0.7622376689603465,\n        \"min\": 0.1,\n        \"max\": 2.5,\n        \"num_unique_values\": 22,\n        \"samples\": [\n          0.2,\n          1.2,\n          1.3\n        ],\n        \"semantic_type\": \"\",\n        \"description\": \"\"\n      }\n    }\n  ]\n}"
            }
          },
          "metadata": {},
          "execution_count": 307
        }
      ]
    }
  ],
  "metadata": {
    "colab": {
      "provenance": []
    },
    "kernelspec": {
      "display_name": "Python 3",
      "name": "python3"
    },
    "language_info": {
      "name": "python"
    }
  },
  "nbformat": 4,
  "nbformat_minor": 0
}