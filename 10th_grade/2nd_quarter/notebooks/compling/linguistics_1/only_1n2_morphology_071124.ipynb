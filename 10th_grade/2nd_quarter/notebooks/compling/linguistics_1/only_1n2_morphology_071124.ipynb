{
  "cells": [
    {
      "cell_type": "markdown",
      "metadata": {
        "id": "DTQdwWbq5Fvj"
      },
      "source": [
        "## Морфология\n",
        "#### План семинара:\n",
        "\n",
        "1. Mystem\n",
        "2. Pymorphy\n",
        "3. NLTK\n",
        "4. SpaCy\n"
      ]
    },
    {
      "cell_type": "markdown",
      "metadata": {
        "id": "RfvPBMcK5Fvl"
      },
      "source": [
        "Нужные пакеты для этого семинара:\n",
        "\n",
        "```python\n",
        "pip install pymystem3\n",
        "pip install pymorphy2\n",
        "pip install nltk\n",
        "pip install spacy\n",
        "```\n",
        "\n",
        "Если вы хотите побыстрее и у вас Linux или Mac\n",
        "\n",
        "``pip install pymorphy2[fast]``\n",
        "\n",
        "Если вы работаете с Python версии 3.11+, то устанавливайте `pymorphy3`. Это то же самое, но поддерживаются более новые версии Python. Если вы работаете в Google Colab, то он на версии 3.10.\n",
        "\n",
        "```python\n",
        "!pip install pymorphy3 --q\n",
        "\n",
        "from pymorphy3 import MorphAnalyzer\n",
        "```\n",
        "\n"
      ]
    },
    {
      "cell_type": "markdown",
      "metadata": {
        "id": "dld-D_6G5Fvn"
      },
      "source": [
        "### Mystem"
      ]
    },
    {
      "cell_type": "markdown",
      "metadata": {
        "id": "a7YKvRur5Fvm"
      },
      "source": [
        "Mystem $-$ это свободно распространяемый морфологический анализатор для русского языка с закрытым исходным кодом.\n",
        "\n",
        "My-stem значит my stemmer, стемминг $-$ это разбиение формы на основу и флексию. На самом деле Mystem может гораздо больше: устанавливать словарную форму слова, определять часть речи и грамматическую форму слова. В последних версиях Mystem умеет и выбирать из нескольких возможных грамматических разборов один, наиболее верный.\n",
        "\n",
        "У Mystem нет графического оконного интерфейса."
      ]
    },
    {
      "cell_type": "markdown",
      "metadata": {
        "id": "ALQxwR__5Fvr"
      },
      "source": [
        "Можно запускать mystem через консоль (см. [документацию](https://yandex.ru/dev/mystem) и про запуск [тут](https://irmn.space/?go=all/lemmatizaciya-zaprosov-v-mystem/)), а можно с помощью специального модуля, **pymystem3**. Это проще и удобнее, потому что с тем, что выдаёт mystem, можно сразу работать как с питоновскими структурами данных. Но медленнее. Иногда гораздо-гораздо медленнее, чем разметить один файл mystem'ом сразу."
      ]
    },
    {
      "cell_type": "code",
      "execution_count": null,
      "metadata": {
        "colab": {
          "background_save": true
        },
        "id": "_9fSVMQzrNGP"
      },
      "outputs": [],
      "source": [
        "!pip install pymystem3 --q"
      ]
    },
    {
      "cell_type": "code",
      "execution_count": null,
      "metadata": {
        "colab": {
          "base_uri": "https://localhost:8080/"
        },
        "id": "SQMgcBAW5Fvr",
        "outputId": "9241901d-206d-4111-fa5c-2a0e929309f3",
        "scrolled": true
      },
      "outputs": [
        {
          "name": "stderr",
          "output_type": "stream",
          "text": [
            "Installing mystem to /root/.local/bin/mystem from http://download.cdn.yandex.net/mystem/mystem-3.1-linux-64bit.tar.gz\n"
          ]
        }
      ],
      "source": [
        "from pymystem3 import Mystem\n",
        "\n",
        "m_stem = Mystem()"
      ]
    },
    {
      "cell_type": "markdown",
      "metadata": {
        "id": "mxPL8r9W5Fvr"
      },
      "source": [
        "Небходимо создать экземпляр класса `Mystem`. У него есть два метода:\n",
        "\n",
        "* `lemmatize`, возвращающий список лемм,\n",
        "* `analyze`, возвращающий полные разборы в виде словаря.\n",
        "\n",
        "Возьмем небольшой текст и опробуем на нем эти два метода:"
      ]
    },
    {
      "cell_type": "code",
      "execution_count": null,
      "metadata": {
        "id": "hVwJQpvm5Fvr"
      },
      "outputs": [],
      "source": [
        "text = '''Но не становится ли событие тем значительнее и исключительнее,\n",
        "чем большее число случайностей приводит к нему?\n",
        "Лишь случайность может предстать перед нами как послание.\n",
        "Все, что происходит по необходимости, что ожидаемо, что повторяется всякий день, то немо.\n",
        "Лишь случайность о чем-то говорит нам. Мы стремимся прочесть ее,\n",
        "как читают цыганки по узорам, начертанным кофейной гущей на дне чашки.'''"
      ]
    },
    {
      "cell_type": "code",
      "execution_count": null,
      "metadata": {
        "colab": {
          "base_uri": "https://localhost:8080/"
        },
        "id": "Dx6nJImD5Fvs",
        "outputId": "fe91f09e-a627-4ec6-94ab-10d3ae96feb0"
      },
      "outputs": [
        {
          "data": {
            "text/plain": [
              "['тем', ' ', 'значительный', ' ', 'и', ' ', 'исключительный', ',', 'чем', ' ']"
            ]
          },
          "execution_count": 104,
          "metadata": {},
          "output_type": "execute_result"
        }
      ],
      "source": [
        "lemmas = m_stem.lemmatize(text)\n",
        "lemmas[10:20]"
      ]
    },
    {
      "cell_type": "markdown",
      "metadata": {
        "id": "-mWTwtCR5Fvs"
      },
      "source": [
        "Можно собрать лемматизированный текст обратно:"
      ]
    },
    {
      "cell_type": "code",
      "execution_count": null,
      "metadata": {
        "colab": {
          "base_uri": "https://localhost:8080/"
        },
        "id": "Or3WZysj5Fvs",
        "outputId": "7d66a33a-4364-42cc-c007-0456c1530ebe"
      },
      "outputs": [
        {
          "name": "stdout",
          "output_type": "stream",
          "text": [
            "но не становиться ли событие тем значительный и исключительный,чем больший число случайность приводить к он? лишь случайность мочь представать перед мы как послание. все, что происходить по необходимость, что ожидать, что повторяться всякий день, то немо. лишь случайность о что-то говорить мы. мы стремиться прочитывать она, как читать цыганка по узор, начертать кофейный гуща на дно чашка.\n",
            "\n"
          ]
        }
      ],
      "source": [
        "print(''.join(lemmas))"
      ]
    },
    {
      "cell_type": "code",
      "execution_count": null,
      "metadata": {
        "id": "K5MOolzG5Fvs"
      },
      "outputs": [],
      "source": [
        "from pprint import pprint"
      ]
    },
    {
      "cell_type": "code",
      "execution_count": null,
      "metadata": {
        "colab": {
          "base_uri": "https://localhost:8080/"
        },
        "id": "SnGhKM2w5Fvs",
        "outputId": "9678a3de-0b29-449d-e75e-e0f3474ed60e"
      },
      "outputs": [
        {
          "name": "stdout",
          "output_type": "stream",
          "text": [
            "[{'analysis': [{'gr': 'CONJ=', 'lex': 'но', 'wt': 0.9998906299}], 'text': 'Но'},\n",
            " {'text': ' '},\n",
            " {'analysis': [{'gr': 'PART=', 'lex': 'не', 'wt': 1}], 'text': 'не'},\n",
            " {'text': ' '},\n",
            " {'analysis': [{'gr': 'V,нп=непрош,ед,изъяв,3-л,несов',\n",
            "                'lex': 'становиться',\n",
            "                'wt': 1}],\n",
            "  'text': 'становится'},\n",
            " {'text': ' '},\n",
            " {'analysis': [{'gr': 'PART=', 'lex': 'ли', 'wt': 0.7719288688}], 'text': 'ли'},\n",
            " {'text': ' '},\n",
            " {'analysis': [{'gr': 'S,сред,неод=(вин,ед|им,ед)', 'lex': 'событие', 'wt': 1}],\n",
            "  'text': 'событие'},\n",
            " {'text': ' '},\n",
            " {'analysis': [{'gr': 'CONJ=', 'lex': 'тем', 'wt': 0.0857739759}],\n",
            "  'text': 'тем'},\n",
            " {'text': ' '},\n",
            " {'analysis': [{'gr': 'A=срав', 'lex': 'значительный', 'wt': 0.2062520859}],\n",
            "  'text': 'значительнее'},\n",
            " {'text': ' '},\n",
            " {'analysis': [{'gr': 'CONJ=', 'lex': 'и', 'wt': 0.9999770357}], 'text': 'и'},\n",
            " {'text': ' '},\n",
            " {'analysis': [{'gr': 'A=срав', 'lex': 'исключительный', 'wt': 1}],\n",
            "  'text': 'исключительнее'},\n",
            " {'text': ','},\n",
            " {'analysis': [{'gr': 'CONJ=', 'lex': 'чем', 'wt': 0.8023791472}],\n",
            "  'text': 'чем'},\n",
            " {'text': ' '}]\n"
          ]
        }
      ],
      "source": [
        "ana = m_stem.analyze(text)\n",
        "pprint(ana[:20])"
      ]
    },
    {
      "cell_type": "markdown",
      "metadata": {
        "id": "20I2B4BZ5Fvt"
      },
      "source": [
        "Разбор для каждого слова является элементом массива:"
      ]
    },
    {
      "cell_type": "code",
      "execution_count": null,
      "metadata": {
        "colab": {
          "base_uri": "https://localhost:8080/"
        },
        "id": "Fqi6TcWR5Fvt",
        "outputId": "a05ea719-b394-419b-d6d6-c7ae025e72b8"
      },
      "outputs": [
        {
          "name": "stdout",
          "output_type": "stream",
          "text": [
            "{'analysis': [{'lex': 'но', 'wt': 0.9998906299, 'gr': 'CONJ='}], 'text': 'Но'}\n",
            "{'text': ' '}\n",
            "{'analysis': [{'lex': 'не', 'wt': 1, 'gr': 'PART='}], 'text': 'не'}\n",
            "{'text': ' '}\n",
            "{'analysis': [{'lex': 'становиться', 'wt': 1, 'gr': 'V,нп=непрош,ед,изъяв,3-л,несов'}], 'text': 'становится'}\n",
            "{'text': ' '}\n",
            "{'analysis': [{'lex': 'ли', 'wt': 0.7719288688, 'gr': 'PART='}], 'text': 'ли'}\n",
            "{'text': ' '}\n",
            "{'analysis': [{'lex': 'событие', 'wt': 1, 'gr': 'S,сред,неод=(вин,ед|им,ед)'}], 'text': 'событие'}\n",
            "{'text': ' '}\n",
            "{'analysis': [{'lex': 'тем', 'wt': 0.0857739759, 'gr': 'CONJ='}], 'text': 'тем'}\n",
            "{'text': ' '}\n",
            "{'analysis': [{'lex': 'значительный', 'wt': 0.2062520859, 'gr': 'A=срав'}], 'text': 'значительнее'}\n",
            "{'text': ' '}\n",
            "{'analysis': [{'lex': 'и', 'wt': 0.9999770357, 'gr': 'CONJ='}], 'text': 'и'}\n",
            "{'text': ' '}\n",
            "{'analysis': [{'lex': 'исключительный', 'wt': 1, 'gr': 'A=срав'}], 'text': 'исключительнее'}\n",
            "{'text': ','}\n",
            "{'analysis': [{'lex': 'чем', 'wt': 0.8023791472, 'gr': 'CONJ='}], 'text': 'чем'}\n",
            "{'text': ' '}\n"
          ]
        }
      ],
      "source": [
        "for word in ana[:20]:\n",
        "    print(word)"
      ]
    },
    {
      "cell_type": "markdown",
      "metadata": {
        "id": "RhhVeu895Fvt"
      },
      "source": [
        "В этом разборе в поле `text` можно найти исходное слово, а в поле `analysis` (которого может и не быть) $-$ грамматические характеристики и леммы.\n",
        "\n",
        "В грамматическом разборе знаком `=` отделяются изменяемые характеристики от неизменяемых. Знаком `|` отделяются омонимичные разборы.\n",
        "\n",
        "Достанем все части речи:"
      ]
    },
    {
      "cell_type": "code",
      "execution_count": null,
      "metadata": {
        "colab": {
          "base_uri": "https://localhost:8080/"
        },
        "id": "fOeLkZGe5Fvt",
        "outputId": "2721a1bd-17f3-4097-dc14-1e2d0bc8f677"
      },
      "outputs": [
        {
          "name": "stdout",
          "output_type": "stream",
          "text": [
            "Но CONJ\n",
            "не PART\n",
            "становится V\n",
            "ли PART\n",
            "событие S\n",
            "тем CONJ\n",
            "значительнее A\n",
            "и CONJ\n",
            "исключительнее A\n",
            "чем CONJ\n"
          ]
        }
      ],
      "source": [
        "for word in ana[:20]:\n",
        "    if 'analysis' in word:\n",
        "        gr = word['analysis'][0]['gr']\n",
        "        pos = gr.split('=')[0].split(',')[0]\n",
        "        print(word['text'], pos)"
      ]
    },
    {
      "cell_type": "markdown",
      "metadata": {
        "id": "WE5H9OGH5Fvt"
      },
      "source": [
        "#### Саммари\n",
        "\n",
        "**Достоинства Mystem'a:**\n",
        "\n",
        "- хорошее качество разбора\n",
        "- по умолчанию разрешается частеречная омонимия (внутри части речи остается)\n",
        "- при разборе учитывается контекст\n",
        "- совместим с разметкой НКРЯ\n",
        "\n",
        "**Недостатки Mystem'a:**\n",
        "\n",
        "- медленный\n",
        "- `analyze` возвращает неудобный JSON"
      ]
    },
    {
      "cell_type": "markdown",
      "metadata": {
        "id": "5y0GERqF5Fvu"
      },
      "source": [
        "### Pymorphy"
      ]
    },
    {
      "cell_type": "markdown",
      "metadata": {
        "id": "zKjwkRqP5Fvu"
      },
      "source": [
        "Может делать то же, что и `pymystem3`, и даже больше: изменять слова в нужную форму (спрягать и склонять). При этом `pymorphy2` справляется и с незнакомыми словами.\n",
        "\n",
        "[**Документация**](https://pymorphy2.readthedocs.io/en/latest/)\n",
        "\n",
        "Для работы точно так же надо создать экземпляр класса `MorphAnalyzer`. Рекомендуется создать один экземпляр и дальше с ним и работать, поскольку он занимает достаточно много памяти, и если создать несколько экземпляров анализаторов, то они будут тормозить программу."
      ]
    },
    {
      "cell_type": "code",
      "execution_count": null,
      "metadata": {
        "id": "j_79P2wfHvn4"
      },
      "outputs": [],
      "source": [
        "!pip install pymorphy2 --q"
      ]
    },
    {
      "cell_type": "code",
      "execution_count": null,
      "metadata": {
        "id": "03_xyOm15Fvu"
      },
      "outputs": [],
      "source": [
        "from pymorphy2 import MorphAnalyzer\n",
        "\n",
        "morph = MorphAnalyzer()"
      ]
    },
    {
      "cell_type": "markdown",
      "metadata": {
        "id": "rGEqYOhT5Fvu"
      },
      "source": [
        "Разбор слова делается при помощи метода `parse`:"
      ]
    },
    {
      "cell_type": "code",
      "execution_count": null,
      "metadata": {
        "colab": {
          "base_uri": "https://localhost:8080/"
        },
        "id": "uiR-kiyi5Fvu",
        "outputId": "d443bee9-98fe-4199-ba47-b0e82b8ed719"
      },
      "outputs": [
        {
          "data": {
            "text/plain": [
              "[Parse(word='стекла', tag=OpencorporaTag('NOUN,inan,neut sing,gent'), normal_form='стекло', score=0.828282, methods_stack=((DictionaryAnalyzer(), 'стекла', 157, 1),)),\n",
              " Parse(word='стёкла', tag=OpencorporaTag('NOUN,inan,neut plur,nomn'), normal_form='стекло', score=0.080808, methods_stack=((DictionaryAnalyzer(), 'стёкла', 157, 6),)),\n",
              " Parse(word='стёкла', tag=OpencorporaTag('NOUN,inan,neut plur,accs'), normal_form='стекло', score=0.080808, methods_stack=((DictionaryAnalyzer(), 'стёкла', 157, 9),)),\n",
              " Parse(word='стекла', tag=OpencorporaTag('VERB,perf,intr femn,sing,past,indc'), normal_form='стечь', score=0.010101, methods_stack=((DictionaryAnalyzer(), 'стекла', 1015, 2),))]"
            ]
          },
          "execution_count": 48,
          "metadata": {},
          "output_type": "execute_result"
        }
      ],
      "source": [
        "ana = morph.parse('стекла')\n",
        "ana"
      ]
    },
    {
      "cell_type": "markdown",
      "metadata": {
        "id": "iu009Wvw5Fvu"
      },
      "source": [
        "Как видно, анализатор вернул все возможные разборы этого слова, отранжировав их по вероятности.\n",
        "\n",
        "У каждого разбора есть атрибуты:\n",
        "* исходное слово,\n",
        "* тэг,\n",
        "* лемма,\n",
        "* вероятность разбора."
      ]
    },
    {
      "cell_type": "code",
      "execution_count": null,
      "metadata": {
        "colab": {
          "base_uri": "https://localhost:8080/"
        },
        "id": "1JJRNkVz5Fvu",
        "outputId": "49640e53-ac73-45c0-8e5c-20a3fc16cbe4"
      },
      "outputs": [
        {
          "name": "stdout",
          "output_type": "stream",
          "text": [
            "Слово: стекла\n",
            "Тэг: NOUN,inan,neut sing,gent\n",
            "Лемма: стекло\n",
            "Вероятность: 0.828282\n"
          ]
        }
      ],
      "source": [
        "first = ana[0]  # первый разбор\n",
        "print('Слово:', first.word)\n",
        "print('Тэг:', first.tag)\n",
        "print('Лемма:', first.normal_form)\n",
        "print('Вероятность:', first.score)"
      ]
    },
    {
      "cell_type": "markdown",
      "metadata": {
        "id": "7j8Brqrk5Fvv"
      },
      "source": [
        "Для каждого разбора можно получить лемму и всю информацию о ней (т.е. еще один разбор, только уже для леммы):"
      ]
    },
    {
      "cell_type": "code",
      "execution_count": null,
      "metadata": {
        "colab": {
          "base_uri": "https://localhost:8080/"
        },
        "id": "hgCj_B4P5Fvv",
        "outputId": "ce02fc14-ef67-4ed6-ef54-b67c4e658597"
      },
      "outputs": [
        {
          "data": {
            "text/plain": [
              "Parse(word='стекло', tag=OpencorporaTag('NOUN,inan,neut sing,nomn'), normal_form='стекло', score=1.0, methods_stack=((DictionaryAnalyzer(), 'стекло', 157, 0),))"
            ]
          },
          "execution_count": 50,
          "metadata": {},
          "output_type": "execute_result"
        }
      ],
      "source": [
        "first.normalized"
      ]
    },
    {
      "cell_type": "code",
      "execution_count": null,
      "metadata": {
        "colab": {
          "base_uri": "https://localhost:8080/"
        },
        "id": "th6n7d6Y5Fvv",
        "outputId": "e281a695-4f55-47dc-a662-631822866071"
      },
      "outputs": [
        {
          "name": "stdout",
          "output_type": "stream",
          "text": [
            "Разбор слова:  Parse(word='стекла', tag=OpencorporaTag('VERB,perf,intr femn,sing,past,indc'), normal_form='стечь', score=0.010101, methods_stack=((DictionaryAnalyzer(), 'стекла', 1015, 2),))\n",
            "\n",
            "Разбор леммы:  Parse(word='стечь', tag=OpencorporaTag('INFN,perf,intr'), normal_form='стечь', score=1.0, methods_stack=((DictionaryAnalyzer(), 'стечь', 1015, 0),))\n"
          ]
        }
      ],
      "source": [
        "last = ana[-1] # последний разбор\n",
        "print('Разбор слова: ', last)\n",
        "print()\n",
        "print('Разбор леммы: ', last.normalized)"
      ]
    },
    {
      "cell_type": "markdown",
      "metadata": {
        "id": "kWsyuI3K5Fvv"
      },
      "source": [
        "Если распечатать тег разбора, то может показаться, что это строка:"
      ]
    },
    {
      "cell_type": "code",
      "execution_count": null,
      "metadata": {
        "colab": {
          "base_uri": "https://localhost:8080/"
        },
        "id": "m2OdesUj5Fvv",
        "outputId": "3690909c-c905-423e-de1f-adc113567875"
      },
      "outputs": [
        {
          "name": "stdout",
          "output_type": "stream",
          "text": [
            "NOUN,inan,neut sing,gent\n"
          ]
        }
      ],
      "source": [
        "first = ana[0]  # первый разбор\n",
        "print(first.tag)"
      ]
    },
    {
      "cell_type": "markdown",
      "metadata": {
        "id": "1ixIAxSt5Fvw"
      },
      "source": [
        "Но на самом деле это объект класса `OpencorporaTag`, так что некоторые вещи, которые можно делать со строками, с тэгами делать нельзя. А некоторые все-таки можно.\n",
        "\n",
        "Например, можно проверить, есть ли какая-то граммема в теге:"
      ]
    },
    {
      "cell_type": "code",
      "execution_count": null,
      "metadata": {
        "colab": {
          "base_uri": "https://localhost:8080/"
        },
        "id": "TXhRlU6l5Fvx",
        "outputId": "c7076163-9ccc-4e06-914c-af096747646a"
      },
      "outputs": [
        {
          "data": {
            "text/plain": [
              "True"
            ]
          },
          "execution_count": 53,
          "metadata": {},
          "output_type": "execute_result"
        }
      ],
      "source": [
        "'NOUN' in first.tag"
      ]
    },
    {
      "cell_type": "code",
      "execution_count": null,
      "metadata": {
        "colab": {
          "base_uri": "https://localhost:8080/"
        },
        "id": "D9rk8Mr_5Fvx",
        "outputId": "8c3ab427-de51-4fdd-fa37-b5844f604c0f"
      },
      "outputs": [
        {
          "data": {
            "text/plain": [
              "False"
            ]
          },
          "execution_count": 54,
          "metadata": {},
          "output_type": "execute_result"
        }
      ],
      "source": [
        "'VERB' in first.tag"
      ]
    },
    {
      "cell_type": "code",
      "execution_count": null,
      "metadata": {
        "colab": {
          "base_uri": "https://localhost:8080/"
        },
        "id": "kzEBAGHm5Fvx",
        "outputId": "53ab7588-45e0-4ee5-e2ff-12194fddd08f"
      },
      "outputs": [
        {
          "data": {
            "text/plain": [
              "True"
            ]
          },
          "execution_count": 55,
          "metadata": {},
          "output_type": "execute_result"
        }
      ],
      "source": [
        "{'NOUN', 'inan'} in first.tag"
      ]
    },
    {
      "cell_type": "markdown",
      "metadata": {
        "id": "H0O67-7J5Fvy"
      },
      "source": [
        "Из каждого тега можно достать более дробную информацию. Если граммема есть в разборе, то вернется ее значение, если ее нет, то вернется `None`.\n",
        "\n",
        "| Граммема                | Значение                                  |\n",
        "|-------------------------|-------------------------------------------|\n",
        "| `p.tag.POS`             | Part of Speech, часть речи                |\n",
        "| `p.tag.animacy`         | одушевленность                            |\n",
        "| `p.tag.aspect`          | вид: совершенный или несовершенный        |\n",
        "| `p.tag.case`            | падеж                                     |\n",
        "| `p.tag.gender`          | род (мужской, женский, средний)           |\n",
        "| `p.tag.involvement`     | включенность говорящего в действие        |\n",
        "| `p.tag.mood`            | наклонение (повелительное, изъявительное) |\n",
        "| `p.tag.number`          | число (единственное, множественное)       |\n",
        "| `p.tag.person`          | лицо (1, 2, 3)                            |\n",
        "| `p.tag.tense`           | время (настоящее, прошедшее, будущее)     |\n",
        "| `p.tag.transitivity`    | переходность (переходный, непереходный)   |\n",
        "| `p.tag.voice`           | залог (действительный, страдательный)     |\n",
        "| и др.                   |                                           |"
      ]
    },
    {
      "cell_type": "code",
      "execution_count": null,
      "metadata": {
        "colab": {
          "base_uri": "https://localhost:8080/"
        },
        "id": "rv4EJFTS5Fvy",
        "outputId": "2c553c8c-82df-4538-f40f-95c09d37f583"
      },
      "outputs": [
        {
          "name": "stdout",
          "output_type": "stream",
          "text": [
            "VERB,perf,intr femn,sing,past,indc\n",
            "Время:  past\n",
            "Падеж:  None\n"
          ]
        }
      ],
      "source": [
        "print(last.tag)\n",
        "print('Время: ', last.tag.tense)\n",
        "print('Падеж: ', last.tag.case)"
      ]
    },
    {
      "cell_type": "markdown",
      "metadata": {
        "id": "8dhAg82t5Fvy"
      },
      "source": [
        "Список граммем, которые используются в модуле, находится [здесь](https://pymorphy2.readthedocs.io/en/latest/user/grammemes.html).\n",
        "\n",
        "Если искать какую-то граммему, которой нет в этом списке, возникнет ошибка.\n",
        "\n",
        "Можно получить строку с кириллическими обозначениями граммем:"
      ]
    },
    {
      "cell_type": "code",
      "execution_count": null,
      "metadata": {
        "colab": {
          "base_uri": "https://localhost:8080/",
          "height": 36
        },
        "id": "kvs3_S1G5Fvy",
        "outputId": "1ea827f7-782d-4e10-ba51-56cbe2cfc93b"
      },
      "outputs": [
        {
          "data": {
            "application/vnd.google.colaboratory.intrinsic+json": {
              "type": "string"
            },
            "text/plain": [
              "'СУЩ,неод,ср ед,рд'"
            ]
          },
          "execution_count": 57,
          "metadata": {},
          "output_type": "execute_result"
        }
      ],
      "source": [
        "first.tag.cyr_repr"
      ]
    },
    {
      "cell_type": "markdown",
      "metadata": {
        "id": "ARwv2PQw5Fvz"
      },
      "source": [
        "**Словоизменение**\n",
        "\n",
        "Если у нас есть разбор слова, то мы можем это слово поставить в другую форму с помощью функции `inflect`. Эта функция получает на вход множество граммем и пытается применить их к нашему разбору."
      ]
    },
    {
      "cell_type": "code",
      "execution_count": null,
      "metadata": {
        "id": "6HW8V7Kzsjbl"
      },
      "outputs": [],
      "source": [
        "prog = morph.parse('программирую')[0]"
      ]
    },
    {
      "cell_type": "code",
      "execution_count": null,
      "metadata": {
        "colab": {
          "base_uri": "https://localhost:8080/"
        },
        "id": "M7BC41LT5Fvz",
        "outputId": "0c87cb68-c105-4832-bf8b-9c98880e91cc"
      },
      "outputs": [
        {
          "data": {
            "text/plain": [
              "Parse(word='программируем', tag=OpencorporaTag('VERB,impf,tran plur,1per,pres,indc'), normal_form='программировать', score=1.0, methods_stack=((DictionaryAnalyzer(), 'программируем', 171, 2),))"
            ]
          },
          "execution_count": 114,
          "metadata": {},
          "output_type": "execute_result"
        }
      ],
      "source": [
        "prog.inflect({'plur'})"
      ]
    },
    {
      "cell_type": "code",
      "execution_count": null,
      "metadata": {
        "colab": {
          "base_uri": "https://localhost:8080/"
        },
        "id": "Js2oquwv5Fvz",
        "outputId": "5570e82f-8582-45b1-a7cb-866e2bf2fb1c"
      },
      "outputs": [
        {
          "data": {
            "text/plain": [
              "Parse(word='программировали', tag=OpencorporaTag('VERB,impf,tran plur,past,indc'), normal_form='программировать', score=1.0, methods_stack=((DictionaryAnalyzer(), 'программировали', 171, 10),))"
            ]
          },
          "execution_count": 115,
          "metadata": {},
          "output_type": "execute_result"
        }
      ],
      "source": [
        "prog.inflect({'plur', 'past'})"
      ]
    },
    {
      "cell_type": "code",
      "execution_count": null,
      "metadata": {
        "colab": {
          "base_uri": "https://localhost:8080/"
        },
        "id": "TDhzS0775Fv0",
        "outputId": "4a59933b-eefa-4b78-b519-84744faf456a"
      },
      "outputs": [
        {
          "data": {
            "text/plain": [
              "Parse(word='программировал', tag=OpencorporaTag('VERB,impf,tran masc,sing,past,indc'), normal_form='программировать', score=1.0, methods_stack=((DictionaryAnalyzer(), 'программировал', 171, 7),))"
            ]
          },
          "execution_count": 116,
          "metadata": {},
          "output_type": "execute_result"
        }
      ],
      "source": [
        "prog.inflect({'past'})"
      ]
    },
    {
      "cell_type": "code",
      "execution_count": null,
      "metadata": {
        "colab": {
          "base_uri": "https://localhost:8080/",
          "height": 36
        },
        "id": "aTHms7zh5Fv0",
        "outputId": "65d5551e-351d-4df4-f147-797381d897e7"
      },
      "outputs": [
        {
          "data": {
            "application/vnd.google.colaboratory.intrinsic+json": {
              "type": "string"
            },
            "text/plain": [
              "'программировала'"
            ]
          },
          "execution_count": 117,
          "metadata": {},
          "output_type": "execute_result"
        }
      ],
      "source": [
        "prog.inflect({'past', 'femn'})[0]"
      ]
    },
    {
      "cell_type": "markdown",
      "metadata": {
        "id": "A-0i_toJ5Fv0"
      },
      "source": [
        "**Формы слова**\n",
        "\n",
        "С помощью атрибута `lexeme` можно получить массив всех форм слова:"
      ]
    },
    {
      "cell_type": "code",
      "execution_count": null,
      "metadata": {
        "colab": {
          "base_uri": "https://localhost:8080/"
        },
        "id": "P38hIOfO5Fv0",
        "outputId": "b42da74f-0892-47f6-d9ec-f5d3a1e74332"
      },
      "outputs": [
        {
          "data": {
            "text/plain": [
              "[Parse(word='программировать', tag=OpencorporaTag('INFN,impf,tran'), normal_form='программировать', score=1.0, methods_stack=((DictionaryAnalyzer(), 'программировать', 171, 0),)),\n",
              " Parse(word='программирую', tag=OpencorporaTag('VERB,impf,tran sing,1per,pres,indc'), normal_form='программировать', score=1.0, methods_stack=((DictionaryAnalyzer(), 'программирую', 171, 1),)),\n",
              " Parse(word='программируем', tag=OpencorporaTag('VERB,impf,tran plur,1per,pres,indc'), normal_form='программировать', score=1.0, methods_stack=((DictionaryAnalyzer(), 'программируем', 171, 2),)),\n",
              " Parse(word='программируешь', tag=OpencorporaTag('VERB,impf,tran sing,2per,pres,indc'), normal_form='программировать', score=1.0, methods_stack=((DictionaryAnalyzer(), 'программируешь', 171, 3),)),\n",
              " Parse(word='программируете', tag=OpencorporaTag('VERB,impf,tran plur,2per,pres,indc'), normal_form='программировать', score=1.0, methods_stack=((DictionaryAnalyzer(), 'программируете', 171, 4),))]"
            ]
          },
          "execution_count": 63,
          "metadata": {},
          "output_type": "execute_result"
        }
      ],
      "source": [
        "prog.lexeme[:5]"
      ]
    },
    {
      "cell_type": "markdown",
      "metadata": {
        "id": "TOavcpUR5Fv1"
      },
      "source": [
        "**Согласование слов с числительными**\n",
        "\n",
        "Из документации:\n",
        "\n",
        "> Слово нужно ставить в разные формы в зависимости от числительного, к которому оно относится.<br>Например: “1 бутявка”, “2 бутявки”, “5 бутявок” Для этих целей используйте метод `Parse.make_agree_with_number()`:\n",
        "\n",
        "\n"
      ]
    },
    {
      "cell_type": "code",
      "execution_count": null,
      "metadata": {
        "id": "ws1WJgiB5Fv1"
      },
      "outputs": [],
      "source": [
        "butyavka = morph.parse('бутявка')[0]"
      ]
    },
    {
      "cell_type": "code",
      "execution_count": null,
      "metadata": {
        "colab": {
          "base_uri": "https://localhost:8080/",
          "height": 36
        },
        "id": "uuy25eWC5Fv1",
        "outputId": "a75cd85e-27bc-4050-e7fc-ae489ab490a8"
      },
      "outputs": [
        {
          "data": {
            "application/vnd.google.colaboratory.intrinsic+json": {
              "type": "string"
            },
            "text/plain": [
              "'бутявка'"
            ]
          },
          "execution_count": 65,
          "metadata": {},
          "output_type": "execute_result"
        }
      ],
      "source": [
        "butyavka.make_agree_with_number(1).word"
      ]
    },
    {
      "cell_type": "code",
      "execution_count": null,
      "metadata": {
        "colab": {
          "base_uri": "https://localhost:8080/",
          "height": 36
        },
        "id": "C1PqtRSH5Fv2",
        "outputId": "b1894c48-55b3-4e4b-b67d-0ef189e190fa"
      },
      "outputs": [
        {
          "data": {
            "application/vnd.google.colaboratory.intrinsic+json": {
              "type": "string"
            },
            "text/plain": [
              "'бутявки'"
            ]
          },
          "execution_count": 66,
          "metadata": {},
          "output_type": "execute_result"
        }
      ],
      "source": [
        "butyavka.make_agree_with_number(2).word"
      ]
    },
    {
      "cell_type": "code",
      "execution_count": null,
      "metadata": {
        "colab": {
          "base_uri": "https://localhost:8080/",
          "height": 36
        },
        "id": "42I0DJct5Fv3",
        "outputId": "6979a8a6-75fc-40de-a9e2-cd368621bec9"
      },
      "outputs": [
        {
          "data": {
            "application/vnd.google.colaboratory.intrinsic+json": {
              "type": "string"
            },
            "text/plain": [
              "'бутявок'"
            ]
          },
          "execution_count": 67,
          "metadata": {},
          "output_type": "execute_result"
        }
      ],
      "source": [
        "butyavka.make_agree_with_number(5).word"
      ]
    },
    {
      "cell_type": "markdown",
      "metadata": {
        "id": "bKZjCxV3K84R"
      },
      "source": [
        "**Приколы**\n",
        "\n",
        "При помощи `pymorphy2` даже можно делать самое простенькое NER (*Named Entity Recognition*, распознавание именованных сущностей), так как в разборах есть теги:\n",
        "* `Geox`"
      ]
    },
    {
      "cell_type": "code",
      "execution_count": null,
      "metadata": {
        "colab": {
          "base_uri": "https://localhost:8080/"
        },
        "id": "A9sHHuKZK7rG",
        "outputId": "88ed1901-4e81-43c2-e7fc-ad8a92d8e85e"
      },
      "outputs": [
        {
          "name": "stdout",
          "output_type": "stream",
          "text": [
            "[Parse(word='санкт-петербург', tag=OpencorporaTag('NOUN,inan,masc,Geox sing,nomn'), normal_form='санкт-петербург', score=0.615384, methods_stack=((DictionaryAnalyzer(), 'санкт-петербург', 74, 0),)), Parse(word='санкт-петербург', tag=OpencorporaTag('NOUN,inan,masc,Geox sing,accs'), normal_form='санкт-петербург', score=0.384615, methods_stack=((DictionaryAnalyzer(), 'санкт-петербург', 74, 3),))]\n",
            "[Parse(word='москва', tag=OpencorporaTag('NOUN,inan,femn,Sgtm,Geox sing,nomn'), normal_form='москва', score=1.0, methods_stack=((DictionaryAnalyzer(), 'москва', 36, 0),))]\n"
          ]
        }
      ],
      "source": [
        "print(morph.parse('Санкт-Петербург'))\n",
        "print(morph.parse('Москва'))"
      ]
    },
    {
      "cell_type": "markdown",
      "metadata": {
        "id": "dejvL4RpMEfx"
      },
      "source": [
        "* `Surn`"
      ]
    },
    {
      "cell_type": "code",
      "execution_count": null,
      "metadata": {
        "colab": {
          "base_uri": "https://localhost:8080/"
        },
        "id": "JluevIf6Ltvw",
        "outputId": "27948409-a35e-4ef3-ba0a-e288f7d1094b"
      },
      "outputs": [
        {
          "name": "stdout",
          "output_type": "stream",
          "text": [
            "[Parse(word='набоков', tag=OpencorporaTag('NOUN,anim,masc,Sgtm,Surn sing,nomn'), normal_form='набоков', score=1.0, methods_stack=((DictionaryAnalyzer(), 'набоков', 37, 0),))]\n",
            "[Parse(word='чичиков', tag=OpencorporaTag('NOUN,anim,masc,Sgtm,Surn sing,nomn'), normal_form='чичиков', score=1.0, methods_stack=((DictionaryAnalyzer(), 'чичиков', 37, 0),))]\n"
          ]
        }
      ],
      "source": [
        "print(morph.parse('Набоков'))\n",
        "print(morph.parse('Чичиков'))"
      ]
    },
    {
      "cell_type": "markdown",
      "metadata": {
        "id": "SuNtg4swMHIF"
      },
      "source": [
        "* `Name`"
      ]
    },
    {
      "cell_type": "code",
      "execution_count": null,
      "metadata": {
        "colab": {
          "base_uri": "https://localhost:8080/"
        },
        "id": "YpUB7o1JLzdT",
        "outputId": "843e91b9-ebec-4875-9278-d2936c2a90a8"
      },
      "outputs": [
        {
          "name": "stdout",
          "output_type": "stream",
          "text": [
            "[Parse(word='владимир', tag=OpencorporaTag('NOUN,anim,masc,Name sing,nomn'), normal_form='владимир', score=0.979452, methods_stack=((DictionaryAnalyzer(), 'владимир', 27, 0),)), Parse(word='владимир', tag=OpencorporaTag('NOUN,inan,masc,Geox sing,nomn'), normal_form='владимир', score=0.013698, methods_stack=((DictionaryAnalyzer(), 'владимир', 33, 0),)), Parse(word='владимир', tag=OpencorporaTag('NOUN,inan,masc,Geox sing,accs'), normal_form='владимир', score=0.006849, methods_stack=((DictionaryAnalyzer(), 'владимир', 33, 3),))]\n",
            "[Parse(word='павел', tag=OpencorporaTag('NOUN,anim,masc,Name sing,nomn'), normal_form='павел', score=1.0, methods_stack=((DictionaryAnalyzer(), 'павел', 2371, 0),))]\n"
          ]
        }
      ],
      "source": [
        "print(morph.parse('Владимир'))\n",
        "print(morph.parse('Павел'))"
      ]
    },
    {
      "cell_type": "markdown",
      "metadata": {
        "id": "1Bj9H5lW5Fv3"
      },
      "source": [
        "#### Саммари\n",
        "\n",
        "**Достоинства Pymorphy:**\n",
        "\n",
        "- умеет составлять разборы, находить лемму, склонять и спрягать\n",
        "- генерирует гипотезы для незнакомых слов\n",
        "- написан полностью на питоне и быстрее, чем Mystem (и есть ускоренная версия с вставками на C++)\n",
        "- может работать с украинским языком (но словари нужно отдельно устанавливать)\n",
        "\n",
        "**Недостатки Pymorphy:**\n",
        "\n",
        "- качество хуже, чем у Mystem\n",
        "- работает только на уровне отдельных слов (и естественно, не учитывает контекст)"
      ]
    },
    {
      "cell_type": "markdown",
      "metadata": {
        "id": "Xws2raTl5Fv3"
      },
      "source": [
        "**Небольшой хак**\n",
        "\n",
        "Pymorphy и так работает очень быстро, но можно еще быстрее, если мы будем сохранять разборы для очень популярных слов"
      ]
    },
    {
      "cell_type": "code",
      "execution_count": null,
      "metadata": {
        "id": "h5M3mych5Fv4"
      },
      "outputs": [],
      "source": [
        "from string import punctuation"
      ]
    },
    {
      "cell_type": "code",
      "execution_count": null,
      "metadata": {
        "id": "HiZGOB2f5Fv4"
      },
      "outputs": [],
      "source": [
        "with open('nabokov.txt', encoding=\"utf-8\") as file:\n",
        "    text = file.read()\n",
        "text = [word.lower().strip(punctuation) for word in text.split()]\n",
        "text = [word for word in text if word != '']"
      ]
    },
    {
      "cell_type": "code",
      "execution_count": null,
      "metadata": {
        "colab": {
          "base_uri": "https://localhost:8080/"
        },
        "id": "sGul5U4s5Fv4",
        "outputId": "9224cf39-1782-4556-c3bd-81098f960217"
      },
      "outputs": [
        {
          "name": "stdout",
          "output_type": "stream",
          "text": [
            "6.87 s ± 1.09 s per loop (mean ± std. dev. of 7 runs, 1 loop each)\n"
          ]
        }
      ],
      "source": [
        "%%timeit\n",
        "lemmas = []\n",
        "\n",
        "for word in text:\n",
        "    lemmas.append(morph.parse(word)[0].normal_form)"
      ]
    },
    {
      "cell_type": "code",
      "execution_count": null,
      "metadata": {
        "colab": {
          "base_uri": "https://localhost:8080/"
        },
        "id": "rCE1PhFp5Fv5",
        "outputId": "47ecd33b-be86-4ed5-a8ad-9d290f57c99d"
      },
      "outputs": [
        {
          "name": "stdout",
          "output_type": "stream",
          "text": [
            "1.87 s ± 511 ms per loop (mean ± std. dev. of 7 runs, 1 loop each)\n"
          ]
        }
      ],
      "source": [
        "%%timeit\n",
        "lemmas = []\n",
        "known_words = {}\n",
        "\n",
        "for word in text:\n",
        "    if word in known_words:\n",
        "        lemmas.append(known_words[word])\n",
        "    else:\n",
        "        result = morph.parse(word)[0].normal_form\n",
        "        lemmas.append(result)\n",
        "        known_words[word] = result"
      ]
    },
    {
      "cell_type": "markdown",
      "metadata": {
        "id": "b3LWsrWx5Fv5"
      },
      "source": [
        "Мы просто запоминаем леммы и поэтому не парсим слово каждый раз, а берем из быстрого хранилища готовый результат. Это может серьезно загружать память (при больших объемах), но значительно сократит время работы."
      ]
    },
    {
      "cell_type": "markdown",
      "metadata": {
        "id": "8Q-BGMZd5Fv7"
      },
      "source": [
        "### NLTK"
      ]
    },
    {
      "cell_type": "markdown",
      "metadata": {
        "id": "MR2Ea8285Fv7"
      },
      "source": [
        "Это уже не просто морфологический анализатор, а целая NLP библиотека!\n",
        "\n",
        "[**Документация**](https://www.nltk.org/)\n",
        "\n",
        "Что мы тут можем делать? Можем токенизировать какой-нибудь текст:"
      ]
    },
    {
      "cell_type": "code",
      "execution_count": null,
      "metadata": {
        "id": "5hgq-KgI5Fv7"
      },
      "outputs": [],
      "source": [
        "text = '''\n",
        "В. В. Набоков \"Как я люблю тебя\".\n",
        "\n",
        "Такой зеленый, серый, то есть\n",
        "весь заштрихованный дождем,\n",
        "и липовое, столь густое,\n",
        "что я перенести - уйдем!\n",
        "Уйдем и этот сад оставим\n",
        "и дождь, кипящий на тропах\n",
        "между тяжелыми цветами,\n",
        "целующими липкий прах.\n",
        "Уйдем, уйдем, пока не поздно,\n",
        "скорее, под плащом, домой,\n",
        "пока еще ты не опознан,\n",
        "безумный мой, безумный мой!\n",
        "'''"
      ]
    },
    {
      "cell_type": "code",
      "execution_count": null,
      "metadata": {
        "colab": {
          "base_uri": "https://localhost:8080/"
        },
        "id": "CWFeuroE5Fv7",
        "outputId": "b053ac47-fbd2-45cc-80f0-1ffede6d8dbe"
      },
      "outputs": [
        {
          "name": "stderr",
          "output_type": "stream",
          "text": [
            "[nltk_data] Downloading package punkt to /root/nltk_data...\n",
            "[nltk_data]   Unzipping tokenizers/punkt.zip.\n"
          ]
        },
        {
          "data": {
            "text/plain": [
              "True"
            ]
          },
          "execution_count": 5,
          "metadata": {},
          "output_type": "execute_result"
        }
      ],
      "source": [
        "import nltk\n",
        "from nltk.tokenize import word_tokenize\n",
        "\n",
        "nltk.download('punkt')"
      ]
    },
    {
      "cell_type": "code",
      "execution_count": null,
      "metadata": {
        "colab": {
          "base_uri": "https://localhost:8080/"
        },
        "id": "yXNUSKSWJbnC",
        "outputId": "289dea14-c0ab-4099-bce1-32c51c34c6eb"
      },
      "outputs": [
        {
          "name": "stdout",
          "output_type": "stream",
          "text": [
            "['В.', 'В.', 'Набоков', '``', 'Как', 'я', 'люблю', 'тебя', \"''\", '.', 'Такой', 'зеленый', ',', 'серый', ',', 'то', 'есть', 'весь', 'заштрихованный', 'дождем', ',', 'и', 'липовое', ',', 'столь', 'густое', ',', 'что', 'я', 'перенести', '-', 'уйдем', '!', 'Уйдем', 'и', 'этот', 'сад', 'оставим', 'и', 'дождь', ',', 'кипящий', 'на', 'тропах', 'между', 'тяжелыми', 'цветами', ',', 'целующими', 'липкий', 'прах', '.', 'Уйдем', ',', 'уйдем', ',', 'пока', 'не', 'поздно', ',', 'скорее', ',', 'под', 'плащом', ',', 'домой', ',', 'пока', 'еще', 'ты', 'не', 'опознан', ',', 'безумный', 'мой', ',', 'безумный', 'мой', '!']\n",
            "CPU times: user 960 µs, sys: 0 ns, total: 960 µs\n",
            "Wall time: 953 µs\n"
          ]
        }
      ],
      "source": [
        "%time print(word_tokenize(text, language='russian'))"
      ]
    },
    {
      "cell_type": "markdown",
      "metadata": {
        "id": "R-m5HSmj5Fv8"
      },
      "source": [
        "Можем разделить текст на предложения (сплиттинг):"
      ]
    },
    {
      "cell_type": "code",
      "execution_count": null,
      "metadata": {
        "id": "12W6cHEVJiOC"
      },
      "outputs": [],
      "source": [
        "from nltk.tokenize import sent_tokenize"
      ]
    },
    {
      "cell_type": "code",
      "execution_count": null,
      "metadata": {
        "colab": {
          "base_uri": "https://localhost:8080/"
        },
        "id": "EX3GolHF5Fv8",
        "outputId": "86a7b7fc-44fe-41bb-c6f8-a6a5df72beb6"
      },
      "outputs": [
        {
          "data": {
            "text/plain": [
              "['\\nВ. В. Набоков \"Как я люблю тебя\".',\n",
              " 'Такой зеленый, серый, то есть\\nвесь заштрихованный дождем,\\nи липовое, столь густое,\\nчто я перенести - уйдем!',\n",
              " 'Уйдем и этот сад оставим\\nи дождь, кипящий на тропах\\nмежду тяжелыми цветами,\\nцелующими липкий прах.',\n",
              " 'Уйдем, уйдем, пока не поздно,\\nскорее, под плащом, домой,\\nпока еще ты не опознан,\\nбезумный мой, безумный мой!']"
            ]
          },
          "execution_count": 46,
          "metadata": {},
          "output_type": "execute_result"
        }
      ],
      "source": [
        "sent_tokenize(text, language='russian')"
      ]
    },
    {
      "cell_type": "markdown",
      "metadata": {
        "id": "f87izxJQ5Fv8"
      },
      "source": [
        "NLTK может удалять стоп слова. Стоп-слова - это высокочастотные союзы, предлоги и другие служебные части речи, которые не дают нам никакой информации о конкретном тексте. В NLTK есть готовые списки стоп-слов (да-да, и для русского тоже есть)."
      ]
    },
    {
      "cell_type": "code",
      "execution_count": null,
      "metadata": {
        "colab": {
          "base_uri": "https://localhost:8080/"
        },
        "id": "y0BvE2saJkLh",
        "outputId": "9c155126-ec0c-4d08-acbf-7de763dd337f"
      },
      "outputs": [
        {
          "name": "stderr",
          "output_type": "stream",
          "text": [
            "[nltk_data] Downloading package stopwords to /root/nltk_data...\n",
            "[nltk_data]   Package stopwords is already up-to-date!\n"
          ]
        },
        {
          "data": {
            "text/plain": [
              "True"
            ]
          },
          "execution_count": 24,
          "metadata": {},
          "output_type": "execute_result"
        }
      ],
      "source": [
        "from nltk.corpus import stopwords\n",
        "\n",
        "nltk.download('stopwords')"
      ]
    },
    {
      "cell_type": "code",
      "execution_count": null,
      "metadata": {
        "colab": {
          "base_uri": "https://localhost:8080/"
        },
        "id": "5oAoLVlH5Fv8",
        "outputId": "6748bf13-e404-46f5-f22a-6427e4568a9b"
      },
      "outputs": [
        {
          "name": "stdout",
          "output_type": "stream",
          "text": [
            "['и', 'в', 'во', 'не', 'что', 'он', 'на', 'я', 'с', 'со', 'как', 'а', 'то', 'все', 'она']\n"
          ]
        }
      ],
      "source": [
        "# загружаем нужный список стоп-слов\n",
        "sw = stopwords.words('russian')\n",
        "\n",
        "# смотрим, что внутри\n",
        "print(sw[:15])"
      ]
    },
    {
      "cell_type": "code",
      "execution_count": null,
      "metadata": {
        "colab": {
          "base_uri": "https://localhost:8080/"
        },
        "id": "ttFXUp0D5Fv8",
        "outputId": "cb1657a3-55f1-4656-ad74-18e541f2195f"
      },
      "outputs": [
        {
          "name": "stdout",
          "output_type": "stream",
          "text": [
            "['набоков', 'люблю', 'зеленый', 'серый', 'весь', 'заштрихованный', 'дождем', 'липовое', 'столь', 'густое', 'перенести', 'уйдем', 'уйдем', 'сад', 'оставим']\n"
          ]
        }
      ],
      "source": [
        "# токенизируем текст, приводим к нижнему регистру и оставляем только последовательности из букв,\n",
        "# т.е. все токены, где были знаки препинания и числа, исчезнут\n",
        "words = [w.lower() for w in word_tokenize(text, language='russian') if w.isalpha()]\n",
        "\n",
        "# какие слова исчезли?\n",
        "filtered = [w for w in words if w not in sw]\n",
        "print(filtered[:15])"
      ]
    },
    {
      "cell_type": "markdown",
      "metadata": {
        "id": "DPJlPxvd5Fv9"
      },
      "source": [
        "И наконец-то стемминг"
      ]
    },
    {
      "cell_type": "code",
      "execution_count": null,
      "metadata": {
        "id": "wbJ9w-SY5Fv9"
      },
      "outputs": [],
      "source": [
        "# умеет работать не только с английским текстом\n",
        "from nltk.stem.snowball import SnowballStemmer\n",
        "\n",
        "snowball = SnowballStemmer(\"russian\")"
      ]
    },
    {
      "cell_type": "code",
      "execution_count": null,
      "metadata": {
        "colab": {
          "base_uri": "https://localhost:8080/"
        },
        "id": "LR1o9YG45Fv9",
        "outputId": "042036d0-1fe8-4f77-cf0a-e8ca35e7ae9e"
      },
      "outputs": [
        {
          "name": "stdout",
          "output_type": "stream",
          "text": [
            "Уйдем: уйд\n",
            "безумный: безумн\n",
            "весь: ве\n",
            "густое: густ\n",
            "дождем: дожд\n",
            "дождь: дожд\n",
            "домой: дом\n",
            "есть: ест\n",
            "еще: ещ\n",
            "заштрихованный: заштрихова\n",
            "зеленый: зелен\n",
            "и: и\n",
            "кипящий: кипя\n",
            "липкий: липк\n",
            "липовое: липов\n",
            "люблю: любл\n",
            "между: межд\n",
            "мой: мо\n",
            "на: на\n",
            "не: не\n"
          ]
        }
      ],
      "source": [
        "ruswords = set(word_tokenize(text, language='russian'))\n",
        "\n",
        "for w in sorted(ruswords)[10:30]:\n",
        "    print(\"%s: %s\" % (w, snowball.stem(w)))"
      ]
    },
    {
      "cell_type": "markdown",
      "metadata": {
        "id": "kDaPcOCd5Fv9"
      },
      "source": [
        "По-моему, качество $-$ просто дно.\n",
        "\n",
        "А в лемматизации тут нет русского, но в целом good to know."
      ]
    },
    {
      "cell_type": "code",
      "execution_count": null,
      "metadata": {
        "colab": {
          "base_uri": "https://localhost:8080/"
        },
        "id": "Up81IWsW5Fv-",
        "outputId": "0d81b986-88af-4510-b3a5-f5dd3fab85ac"
      },
      "outputs": [
        {
          "name": "stderr",
          "output_type": "stream",
          "text": [
            "[nltk_data] Downloading package wordnet to /root/nltk_data...\n",
            "[nltk_data]   Package wordnet is already up-to-date!\n",
            "[nltk_data] Downloading package omw-1.4 to /root/nltk_data...\n",
            "[nltk_data]   Package omw-1.4 is already up-to-date!\n"
          ]
        }
      ],
      "source": [
        "from nltk import WordNetLemmatizer\n",
        "\n",
        "\n",
        "nltk.download('wordnet')\n",
        "nltk.download('omw-1.4')\n",
        "\n",
        "\n",
        "wnl = WordNetLemmatizer()"
      ]
    },
    {
      "cell_type": "code",
      "execution_count": null,
      "metadata": {
        "colab": {
          "base_uri": "https://localhost:8080/",
          "height": 36
        },
        "id": "8VfqsUOK5Fv-",
        "outputId": "a3442e25-7818-48b7-882c-655f9fdd8a00"
      },
      "outputs": [
        {
          "data": {
            "application/vnd.google.colaboratory.intrinsic+json": {
              "type": "string"
            },
            "text/plain": [
              "'run'"
            ]
          },
          "execution_count": 96,
          "metadata": {},
          "output_type": "execute_result"
        }
      ],
      "source": [
        "wnl.lemmatize('running', pos='v')"
      ]
    },
    {
      "cell_type": "markdown",
      "metadata": {
        "id": "p9TV7Kdhzz1f"
      },
      "source": [
        "#### Саммари\n",
        "\n",
        "**Достоинства NLTK**:\n",
        "* хорош для токенизации и разделении на предложения (даже для русского)\n",
        "* справляется с лемматизацией и стеммингом английского\n",
        "* большая библиотека с разным функционалом\n",
        "\n",
        "**Недостатки NLTK**:\n",
        "* в основном, разработана для английского\n",
        "* нет лемматизации на русском\n",
        "* очень некачественный стемминг на русском\n"
      ]
    },
    {
      "cell_type": "markdown",
      "metadata": {
        "id": "zZEiNG9m5Fv5"
      },
      "source": [
        "### SpaCy"
      ]
    },
    {
      "cell_type": "markdown",
      "metadata": {
        "id": "j5ak8aGCuhUK"
      },
      "source": [
        "[**Документация**](https://spacy.io/)\n",
        "\n",
        "Мультиязыковая модель. Если кратко, то SpaCy может примерно всё то же самое, что и NLTK и аналоги (токенизация, лемматизация, POS-тэггинг, построение деревьев зависимостей и NER), но быстрее и точнее (как минимум, для английского).\n",
        "\n",
        "В целом, сейчас скорее самая популярная для разных задач.\n",
        "\n",
        "Подробнее можно почитать статьи на Хабре:\n",
        "* [покороче](https://habr.com/ru/articles/504680/), но 20-го года, поэтому инфа, например, про отсутствие официальных моделей русского языка устарела;\n",
        "* [подлиннее](https://habr.com/ru/articles/531940/).\n",
        "\n",
        "Можно даже пройти [курс](https://course.spacy.io/en/) от создателей."
      ]
    },
    {
      "cell_type": "code",
      "execution_count": null,
      "metadata": {
        "colab": {
          "base_uri": "https://localhost:8080/"
        },
        "id": "a3MUtPtX5Fv6",
        "outputId": "6e2b0a49-b2d6-4efc-f6a4-2fe2a3908e95"
      },
      "outputs": [
        {
          "name": "stdout",
          "output_type": "stream",
          "text": [
            "\u001b[2K     \u001b[90m━━━━━━━━━━━━━━━━━━━━━━━━━━━━━━━━━━━━━━━━\u001b[0m \u001b[32m15.3/15.3 MB\u001b[0m \u001b[31m43.1 MB/s\u001b[0m eta \u001b[36m0:00:00\u001b[0m\n",
            "\u001b[?25h\u001b[38;5;2m✔ Download and installation successful\u001b[0m\n",
            "You can now load the package via spacy.load('ru_core_news_sm')\n",
            "\u001b[38;5;3m⚠ Restart to reload dependencies\u001b[0m\n",
            "If you are in a Jupyter or Colab notebook, you may need to restart Python in\n",
            "order to load all the package's dependencies. You can do this by selecting the\n",
            "'Restart kernel' or 'Restart runtime' option.\n"
          ]
        }
      ],
      "source": [
        "!pip install typing_extensions==4.7.1 --upgrade --q\n",
        "!python -m spacy download ru_core_news_sm --q"
      ]
    },
    {
      "cell_type": "code",
      "execution_count": null,
      "metadata": {
        "id": "LayEDWReJPyR"
      },
      "outputs": [],
      "source": [
        "import spacy\n",
        "from spacy.lang.ru.examples import sentences\n",
        "from spacy import displacy\n",
        "\n",
        "nlp = spacy.load(\"ru_core_news_sm\")"
      ]
    },
    {
      "cell_type": "markdown",
      "metadata": {
        "id": "7xjZHrV0Rkqi"
      },
      "source": [
        "Например, для каждого слова в предложении можно указать часть речи, а также роль в синтаксической структуре предложения. Вспомним структуру зависимостей между словами, как раз роли каждого слова можно вывести с помощью свойства `dep_`. Помимо этого структуру зависимостей предложения можно вывести с помощью функции `displacy.render`."
      ]
    },
    {
      "cell_type": "code",
      "execution_count": null,
      "metadata": {
        "colab": {
          "base_uri": "https://localhost:8080/",
          "height": 963
        },
        "id": "2WdH1g-25Fv6",
        "outputId": "7d0c27e3-aa0a-48a4-fb81-ad57cbf1a5ed"
      },
      "outputs": [
        {
          "name": "stdout",
          "output_type": "stream",
          "text": [
            "Apple рассматривает возможность покупки стартапа из Соединённого Королевства за $1 млрд Беспилотные автомобили перекладывают страховую ответственность на производителя\n",
            "Apple PROPN nsubj\n",
            "рассматривает VERB ROOT\n",
            "возможность NOUN obj\n",
            "покупки NOUN nmod\n",
            "стартапа NOUN nmod\n",
            "из ADP case\n",
            "Соединённого ADJ amod\n",
            "Королевства PROPN nmod\n",
            "за ADP case\n",
            "$ NOUN nmod\n",
            "1 NUM nummod\n",
            "млрд NOUN nmod\n",
            "Беспилотные ADJ amod\n",
            "автомобили NOUN nsubj\n",
            "перекладывают VERB conj\n",
            "страховую ADJ amod\n",
            "ответственность NOUN obj\n",
            "на ADP case\n",
            "производителя NOUN obl\n"
          ]
        },
        {
          "data": {
            "text/html": [
              "<span class=\"tex2jax_ignore\"><svg xmlns=\"http://www.w3.org/2000/svg\" xmlns:xlink=\"http://www.w3.org/1999/xlink\" xml:lang=\"ru\" id=\"74a910aca4864deab1ca9ae3a8acbff0-0\" class=\"displacy\" width=\"3375\" height=\"574.5\" direction=\"ltr\" style=\"max-width: none; height: 574.5px; color: #000000; background: #ffffff; font-family: Arial; direction: ltr\">\n",
              "<text class=\"displacy-token\" fill=\"currentColor\" text-anchor=\"middle\" y=\"484.5\">\n",
              "    <tspan class=\"displacy-word\" fill=\"currentColor\" x=\"50\">Apple</tspan>\n",
              "    <tspan class=\"displacy-tag\" dy=\"2em\" fill=\"currentColor\" x=\"50\">PROPN</tspan>\n",
              "</text>\n",
              "\n",
              "<text class=\"displacy-token\" fill=\"currentColor\" text-anchor=\"middle\" y=\"484.5\">\n",
              "    <tspan class=\"displacy-word\" fill=\"currentColor\" x=\"225\">рассматривает</tspan>\n",
              "    <tspan class=\"displacy-tag\" dy=\"2em\" fill=\"currentColor\" x=\"225\">VERB</tspan>\n",
              "</text>\n",
              "\n",
              "<text class=\"displacy-token\" fill=\"currentColor\" text-anchor=\"middle\" y=\"484.5\">\n",
              "    <tspan class=\"displacy-word\" fill=\"currentColor\" x=\"400\">возможность</tspan>\n",
              "    <tspan class=\"displacy-tag\" dy=\"2em\" fill=\"currentColor\" x=\"400\">NOUN</tspan>\n",
              "</text>\n",
              "\n",
              "<text class=\"displacy-token\" fill=\"currentColor\" text-anchor=\"middle\" y=\"484.5\">\n",
              "    <tspan class=\"displacy-word\" fill=\"currentColor\" x=\"575\">покупки</tspan>\n",
              "    <tspan class=\"displacy-tag\" dy=\"2em\" fill=\"currentColor\" x=\"575\">NOUN</tspan>\n",
              "</text>\n",
              "\n",
              "<text class=\"displacy-token\" fill=\"currentColor\" text-anchor=\"middle\" y=\"484.5\">\n",
              "    <tspan class=\"displacy-word\" fill=\"currentColor\" x=\"750\">стартапа</tspan>\n",
              "    <tspan class=\"displacy-tag\" dy=\"2em\" fill=\"currentColor\" x=\"750\">NOUN</tspan>\n",
              "</text>\n",
              "\n",
              "<text class=\"displacy-token\" fill=\"currentColor\" text-anchor=\"middle\" y=\"484.5\">\n",
              "    <tspan class=\"displacy-word\" fill=\"currentColor\" x=\"925\">из</tspan>\n",
              "    <tspan class=\"displacy-tag\" dy=\"2em\" fill=\"currentColor\" x=\"925\">ADP</tspan>\n",
              "</text>\n",
              "\n",
              "<text class=\"displacy-token\" fill=\"currentColor\" text-anchor=\"middle\" y=\"484.5\">\n",
              "    <tspan class=\"displacy-word\" fill=\"currentColor\" x=\"1100\">Соединённого</tspan>\n",
              "    <tspan class=\"displacy-tag\" dy=\"2em\" fill=\"currentColor\" x=\"1100\">ADJ</tspan>\n",
              "</text>\n",
              "\n",
              "<text class=\"displacy-token\" fill=\"currentColor\" text-anchor=\"middle\" y=\"484.5\">\n",
              "    <tspan class=\"displacy-word\" fill=\"currentColor\" x=\"1275\">Королевства</tspan>\n",
              "    <tspan class=\"displacy-tag\" dy=\"2em\" fill=\"currentColor\" x=\"1275\">PROPN</tspan>\n",
              "</text>\n",
              "\n",
              "<text class=\"displacy-token\" fill=\"currentColor\" text-anchor=\"middle\" y=\"484.5\">\n",
              "    <tspan class=\"displacy-word\" fill=\"currentColor\" x=\"1450\">за</tspan>\n",
              "    <tspan class=\"displacy-tag\" dy=\"2em\" fill=\"currentColor\" x=\"1450\">ADP</tspan>\n",
              "</text>\n",
              "\n",
              "<text class=\"displacy-token\" fill=\"currentColor\" text-anchor=\"middle\" y=\"484.5\">\n",
              "    <tspan class=\"displacy-word\" fill=\"currentColor\" x=\"1625\">$</tspan>\n",
              "    <tspan class=\"displacy-tag\" dy=\"2em\" fill=\"currentColor\" x=\"1625\">NOUN</tspan>\n",
              "</text>\n",
              "\n",
              "<text class=\"displacy-token\" fill=\"currentColor\" text-anchor=\"middle\" y=\"484.5\">\n",
              "    <tspan class=\"displacy-word\" fill=\"currentColor\" x=\"1800\">1</tspan>\n",
              "    <tspan class=\"displacy-tag\" dy=\"2em\" fill=\"currentColor\" x=\"1800\">NUM</tspan>\n",
              "</text>\n",
              "\n",
              "<text class=\"displacy-token\" fill=\"currentColor\" text-anchor=\"middle\" y=\"484.5\">\n",
              "    <tspan class=\"displacy-word\" fill=\"currentColor\" x=\"1975\">млрд</tspan>\n",
              "    <tspan class=\"displacy-tag\" dy=\"2em\" fill=\"currentColor\" x=\"1975\">NOUN</tspan>\n",
              "</text>\n",
              "\n",
              "<text class=\"displacy-token\" fill=\"currentColor\" text-anchor=\"middle\" y=\"484.5\">\n",
              "    <tspan class=\"displacy-word\" fill=\"currentColor\" x=\"2150\">Беспилотные</tspan>\n",
              "    <tspan class=\"displacy-tag\" dy=\"2em\" fill=\"currentColor\" x=\"2150\">ADJ</tspan>\n",
              "</text>\n",
              "\n",
              "<text class=\"displacy-token\" fill=\"currentColor\" text-anchor=\"middle\" y=\"484.5\">\n",
              "    <tspan class=\"displacy-word\" fill=\"currentColor\" x=\"2325\">автомобили</tspan>\n",
              "    <tspan class=\"displacy-tag\" dy=\"2em\" fill=\"currentColor\" x=\"2325\">NOUN</tspan>\n",
              "</text>\n",
              "\n",
              "<text class=\"displacy-token\" fill=\"currentColor\" text-anchor=\"middle\" y=\"484.5\">\n",
              "    <tspan class=\"displacy-word\" fill=\"currentColor\" x=\"2500\">перекладывают</tspan>\n",
              "    <tspan class=\"displacy-tag\" dy=\"2em\" fill=\"currentColor\" x=\"2500\">VERB</tspan>\n",
              "</text>\n",
              "\n",
              "<text class=\"displacy-token\" fill=\"currentColor\" text-anchor=\"middle\" y=\"484.5\">\n",
              "    <tspan class=\"displacy-word\" fill=\"currentColor\" x=\"2675\">страховую</tspan>\n",
              "    <tspan class=\"displacy-tag\" dy=\"2em\" fill=\"currentColor\" x=\"2675\">ADJ</tspan>\n",
              "</text>\n",
              "\n",
              "<text class=\"displacy-token\" fill=\"currentColor\" text-anchor=\"middle\" y=\"484.5\">\n",
              "    <tspan class=\"displacy-word\" fill=\"currentColor\" x=\"2850\">ответственность</tspan>\n",
              "    <tspan class=\"displacy-tag\" dy=\"2em\" fill=\"currentColor\" x=\"2850\">NOUN</tspan>\n",
              "</text>\n",
              "\n",
              "<text class=\"displacy-token\" fill=\"currentColor\" text-anchor=\"middle\" y=\"484.5\">\n",
              "    <tspan class=\"displacy-word\" fill=\"currentColor\" x=\"3025\">на</tspan>\n",
              "    <tspan class=\"displacy-tag\" dy=\"2em\" fill=\"currentColor\" x=\"3025\">ADP</tspan>\n",
              "</text>\n",
              "\n",
              "<text class=\"displacy-token\" fill=\"currentColor\" text-anchor=\"middle\" y=\"484.5\">\n",
              "    <tspan class=\"displacy-word\" fill=\"currentColor\" x=\"3200\">производителя</tspan>\n",
              "    <tspan class=\"displacy-tag\" dy=\"2em\" fill=\"currentColor\" x=\"3200\">NOUN</tspan>\n",
              "</text>\n",
              "\n",
              "<g class=\"displacy-arrow\">\n",
              "    <path class=\"displacy-arc\" id=\"arrow-74a910aca4864deab1ca9ae3a8acbff0-0-0\" stroke-width=\"2px\" d=\"M70,439.5 C70,352.0 205.0,352.0 205.0,439.5\" fill=\"none\" stroke=\"currentColor\"/>\n",
              "    <text dy=\"1.25em\" style=\"font-size: 0.8em; letter-spacing: 1px\">\n",
              "        <textPath xlink:href=\"#arrow-74a910aca4864deab1ca9ae3a8acbff0-0-0\" class=\"displacy-label\" startOffset=\"50%\" side=\"left\" fill=\"currentColor\" text-anchor=\"middle\">nsubj</textPath>\n",
              "    </text>\n",
              "    <path class=\"displacy-arrowhead\" d=\"M70,441.5 L62,429.5 78,429.5\" fill=\"currentColor\"/>\n",
              "</g>\n",
              "\n",
              "<g class=\"displacy-arrow\">\n",
              "    <path class=\"displacy-arc\" id=\"arrow-74a910aca4864deab1ca9ae3a8acbff0-0-1\" stroke-width=\"2px\" d=\"M245,439.5 C245,352.0 380.0,352.0 380.0,439.5\" fill=\"none\" stroke=\"currentColor\"/>\n",
              "    <text dy=\"1.25em\" style=\"font-size: 0.8em; letter-spacing: 1px\">\n",
              "        <textPath xlink:href=\"#arrow-74a910aca4864deab1ca9ae3a8acbff0-0-1\" class=\"displacy-label\" startOffset=\"50%\" side=\"left\" fill=\"currentColor\" text-anchor=\"middle\">obj</textPath>\n",
              "    </text>\n",
              "    <path class=\"displacy-arrowhead\" d=\"M380.0,441.5 L388.0,429.5 372.0,429.5\" fill=\"currentColor\"/>\n",
              "</g>\n",
              "\n",
              "<g class=\"displacy-arrow\">\n",
              "    <path class=\"displacy-arc\" id=\"arrow-74a910aca4864deab1ca9ae3a8acbff0-0-2\" stroke-width=\"2px\" d=\"M420,439.5 C420,352.0 555.0,352.0 555.0,439.5\" fill=\"none\" stroke=\"currentColor\"/>\n",
              "    <text dy=\"1.25em\" style=\"font-size: 0.8em; letter-spacing: 1px\">\n",
              "        <textPath xlink:href=\"#arrow-74a910aca4864deab1ca9ae3a8acbff0-0-2\" class=\"displacy-label\" startOffset=\"50%\" side=\"left\" fill=\"currentColor\" text-anchor=\"middle\">nmod</textPath>\n",
              "    </text>\n",
              "    <path class=\"displacy-arrowhead\" d=\"M555.0,441.5 L563.0,429.5 547.0,429.5\" fill=\"currentColor\"/>\n",
              "</g>\n",
              "\n",
              "<g class=\"displacy-arrow\">\n",
              "    <path class=\"displacy-arc\" id=\"arrow-74a910aca4864deab1ca9ae3a8acbff0-0-3\" stroke-width=\"2px\" d=\"M595,439.5 C595,352.0 730.0,352.0 730.0,439.5\" fill=\"none\" stroke=\"currentColor\"/>\n",
              "    <text dy=\"1.25em\" style=\"font-size: 0.8em; letter-spacing: 1px\">\n",
              "        <textPath xlink:href=\"#arrow-74a910aca4864deab1ca9ae3a8acbff0-0-3\" class=\"displacy-label\" startOffset=\"50%\" side=\"left\" fill=\"currentColor\" text-anchor=\"middle\">nmod</textPath>\n",
              "    </text>\n",
              "    <path class=\"displacy-arrowhead\" d=\"M730.0,441.5 L738.0,429.5 722.0,429.5\" fill=\"currentColor\"/>\n",
              "</g>\n",
              "\n",
              "<g class=\"displacy-arrow\">\n",
              "    <path class=\"displacy-arc\" id=\"arrow-74a910aca4864deab1ca9ae3a8acbff0-0-4\" stroke-width=\"2px\" d=\"M945,439.5 C945,264.5 1260.0,264.5 1260.0,439.5\" fill=\"none\" stroke=\"currentColor\"/>\n",
              "    <text dy=\"1.25em\" style=\"font-size: 0.8em; letter-spacing: 1px\">\n",
              "        <textPath xlink:href=\"#arrow-74a910aca4864deab1ca9ae3a8acbff0-0-4\" class=\"displacy-label\" startOffset=\"50%\" side=\"left\" fill=\"currentColor\" text-anchor=\"middle\">case</textPath>\n",
              "    </text>\n",
              "    <path class=\"displacy-arrowhead\" d=\"M945,441.5 L937,429.5 953,429.5\" fill=\"currentColor\"/>\n",
              "</g>\n",
              "\n",
              "<g class=\"displacy-arrow\">\n",
              "    <path class=\"displacy-arc\" id=\"arrow-74a910aca4864deab1ca9ae3a8acbff0-0-5\" stroke-width=\"2px\" d=\"M1120,439.5 C1120,352.0 1255.0,352.0 1255.0,439.5\" fill=\"none\" stroke=\"currentColor\"/>\n",
              "    <text dy=\"1.25em\" style=\"font-size: 0.8em; letter-spacing: 1px\">\n",
              "        <textPath xlink:href=\"#arrow-74a910aca4864deab1ca9ae3a8acbff0-0-5\" class=\"displacy-label\" startOffset=\"50%\" side=\"left\" fill=\"currentColor\" text-anchor=\"middle\">amod</textPath>\n",
              "    </text>\n",
              "    <path class=\"displacy-arrowhead\" d=\"M1120,441.5 L1112,429.5 1128,429.5\" fill=\"currentColor\"/>\n",
              "</g>\n",
              "\n",
              "<g class=\"displacy-arrow\">\n",
              "    <path class=\"displacy-arc\" id=\"arrow-74a910aca4864deab1ca9ae3a8acbff0-0-6\" stroke-width=\"2px\" d=\"M595,439.5 C595,177.0 1265.0,177.0 1265.0,439.5\" fill=\"none\" stroke=\"currentColor\"/>\n",
              "    <text dy=\"1.25em\" style=\"font-size: 0.8em; letter-spacing: 1px\">\n",
              "        <textPath xlink:href=\"#arrow-74a910aca4864deab1ca9ae3a8acbff0-0-6\" class=\"displacy-label\" startOffset=\"50%\" side=\"left\" fill=\"currentColor\" text-anchor=\"middle\">nmod</textPath>\n",
              "    </text>\n",
              "    <path class=\"displacy-arrowhead\" d=\"M1265.0,441.5 L1273.0,429.5 1257.0,429.5\" fill=\"currentColor\"/>\n",
              "</g>\n",
              "\n",
              "<g class=\"displacy-arrow\">\n",
              "    <path class=\"displacy-arc\" id=\"arrow-74a910aca4864deab1ca9ae3a8acbff0-0-7\" stroke-width=\"2px\" d=\"M1470,439.5 C1470,352.0 1605.0,352.0 1605.0,439.5\" fill=\"none\" stroke=\"currentColor\"/>\n",
              "    <text dy=\"1.25em\" style=\"font-size: 0.8em; letter-spacing: 1px\">\n",
              "        <textPath xlink:href=\"#arrow-74a910aca4864deab1ca9ae3a8acbff0-0-7\" class=\"displacy-label\" startOffset=\"50%\" side=\"left\" fill=\"currentColor\" text-anchor=\"middle\">case</textPath>\n",
              "    </text>\n",
              "    <path class=\"displacy-arrowhead\" d=\"M1470,441.5 L1462,429.5 1478,429.5\" fill=\"currentColor\"/>\n",
              "</g>\n",
              "\n",
              "<g class=\"displacy-arrow\">\n",
              "    <path class=\"displacy-arc\" id=\"arrow-74a910aca4864deab1ca9ae3a8acbff0-0-8\" stroke-width=\"2px\" d=\"M595,439.5 C595,89.5 1620.0,89.5 1620.0,439.5\" fill=\"none\" stroke=\"currentColor\"/>\n",
              "    <text dy=\"1.25em\" style=\"font-size: 0.8em; letter-spacing: 1px\">\n",
              "        <textPath xlink:href=\"#arrow-74a910aca4864deab1ca9ae3a8acbff0-0-8\" class=\"displacy-label\" startOffset=\"50%\" side=\"left\" fill=\"currentColor\" text-anchor=\"middle\">nmod</textPath>\n",
              "    </text>\n",
              "    <path class=\"displacy-arrowhead\" d=\"M1620.0,441.5 L1628.0,429.5 1612.0,429.5\" fill=\"currentColor\"/>\n",
              "</g>\n",
              "\n",
              "<g class=\"displacy-arrow\">\n",
              "    <path class=\"displacy-arc\" id=\"arrow-74a910aca4864deab1ca9ae3a8acbff0-0-9\" stroke-width=\"2px\" d=\"M1820,439.5 C1820,352.0 1955.0,352.0 1955.0,439.5\" fill=\"none\" stroke=\"currentColor\"/>\n",
              "    <text dy=\"1.25em\" style=\"font-size: 0.8em; letter-spacing: 1px\">\n",
              "        <textPath xlink:href=\"#arrow-74a910aca4864deab1ca9ae3a8acbff0-0-9\" class=\"displacy-label\" startOffset=\"50%\" side=\"left\" fill=\"currentColor\" text-anchor=\"middle\">nummod</textPath>\n",
              "    </text>\n",
              "    <path class=\"displacy-arrowhead\" d=\"M1820,441.5 L1812,429.5 1828,429.5\" fill=\"currentColor\"/>\n",
              "</g>\n",
              "\n",
              "<g class=\"displacy-arrow\">\n",
              "    <path class=\"displacy-arc\" id=\"arrow-74a910aca4864deab1ca9ae3a8acbff0-0-10\" stroke-width=\"2px\" d=\"M1645,439.5 C1645,264.5 1960.0,264.5 1960.0,439.5\" fill=\"none\" stroke=\"currentColor\"/>\n",
              "    <text dy=\"1.25em\" style=\"font-size: 0.8em; letter-spacing: 1px\">\n",
              "        <textPath xlink:href=\"#arrow-74a910aca4864deab1ca9ae3a8acbff0-0-10\" class=\"displacy-label\" startOffset=\"50%\" side=\"left\" fill=\"currentColor\" text-anchor=\"middle\">nmod</textPath>\n",
              "    </text>\n",
              "    <path class=\"displacy-arrowhead\" d=\"M1960.0,441.5 L1968.0,429.5 1952.0,429.5\" fill=\"currentColor\"/>\n",
              "</g>\n",
              "\n",
              "<g class=\"displacy-arrow\">\n",
              "    <path class=\"displacy-arc\" id=\"arrow-74a910aca4864deab1ca9ae3a8acbff0-0-11\" stroke-width=\"2px\" d=\"M2170,439.5 C2170,352.0 2305.0,352.0 2305.0,439.5\" fill=\"none\" stroke=\"currentColor\"/>\n",
              "    <text dy=\"1.25em\" style=\"font-size: 0.8em; letter-spacing: 1px\">\n",
              "        <textPath xlink:href=\"#arrow-74a910aca4864deab1ca9ae3a8acbff0-0-11\" class=\"displacy-label\" startOffset=\"50%\" side=\"left\" fill=\"currentColor\" text-anchor=\"middle\">amod</textPath>\n",
              "    </text>\n",
              "    <path class=\"displacy-arrowhead\" d=\"M2170,441.5 L2162,429.5 2178,429.5\" fill=\"currentColor\"/>\n",
              "</g>\n",
              "\n",
              "<g class=\"displacy-arrow\">\n",
              "    <path class=\"displacy-arc\" id=\"arrow-74a910aca4864deab1ca9ae3a8acbff0-0-12\" stroke-width=\"2px\" d=\"M2345,439.5 C2345,352.0 2480.0,352.0 2480.0,439.5\" fill=\"none\" stroke=\"currentColor\"/>\n",
              "    <text dy=\"1.25em\" style=\"font-size: 0.8em; letter-spacing: 1px\">\n",
              "        <textPath xlink:href=\"#arrow-74a910aca4864deab1ca9ae3a8acbff0-0-12\" class=\"displacy-label\" startOffset=\"50%\" side=\"left\" fill=\"currentColor\" text-anchor=\"middle\">nsubj</textPath>\n",
              "    </text>\n",
              "    <path class=\"displacy-arrowhead\" d=\"M2345,441.5 L2337,429.5 2353,429.5\" fill=\"currentColor\"/>\n",
              "</g>\n",
              "\n",
              "<g class=\"displacy-arrow\">\n",
              "    <path class=\"displacy-arc\" id=\"arrow-74a910aca4864deab1ca9ae3a8acbff0-0-13\" stroke-width=\"2px\" d=\"M245,439.5 C245,2.0 2500.0,2.0 2500.0,439.5\" fill=\"none\" stroke=\"currentColor\"/>\n",
              "    <text dy=\"1.25em\" style=\"font-size: 0.8em; letter-spacing: 1px\">\n",
              "        <textPath xlink:href=\"#arrow-74a910aca4864deab1ca9ae3a8acbff0-0-13\" class=\"displacy-label\" startOffset=\"50%\" side=\"left\" fill=\"currentColor\" text-anchor=\"middle\">conj</textPath>\n",
              "    </text>\n",
              "    <path class=\"displacy-arrowhead\" d=\"M2500.0,441.5 L2508.0,429.5 2492.0,429.5\" fill=\"currentColor\"/>\n",
              "</g>\n",
              "\n",
              "<g class=\"displacy-arrow\">\n",
              "    <path class=\"displacy-arc\" id=\"arrow-74a910aca4864deab1ca9ae3a8acbff0-0-14\" stroke-width=\"2px\" d=\"M2695,439.5 C2695,352.0 2830.0,352.0 2830.0,439.5\" fill=\"none\" stroke=\"currentColor\"/>\n",
              "    <text dy=\"1.25em\" style=\"font-size: 0.8em; letter-spacing: 1px\">\n",
              "        <textPath xlink:href=\"#arrow-74a910aca4864deab1ca9ae3a8acbff0-0-14\" class=\"displacy-label\" startOffset=\"50%\" side=\"left\" fill=\"currentColor\" text-anchor=\"middle\">amod</textPath>\n",
              "    </text>\n",
              "    <path class=\"displacy-arrowhead\" d=\"M2695,441.5 L2687,429.5 2703,429.5\" fill=\"currentColor\"/>\n",
              "</g>\n",
              "\n",
              "<g class=\"displacy-arrow\">\n",
              "    <path class=\"displacy-arc\" id=\"arrow-74a910aca4864deab1ca9ae3a8acbff0-0-15\" stroke-width=\"2px\" d=\"M2520,439.5 C2520,264.5 2835.0,264.5 2835.0,439.5\" fill=\"none\" stroke=\"currentColor\"/>\n",
              "    <text dy=\"1.25em\" style=\"font-size: 0.8em; letter-spacing: 1px\">\n",
              "        <textPath xlink:href=\"#arrow-74a910aca4864deab1ca9ae3a8acbff0-0-15\" class=\"displacy-label\" startOffset=\"50%\" side=\"left\" fill=\"currentColor\" text-anchor=\"middle\">obj</textPath>\n",
              "    </text>\n",
              "    <path class=\"displacy-arrowhead\" d=\"M2835.0,441.5 L2843.0,429.5 2827.0,429.5\" fill=\"currentColor\"/>\n",
              "</g>\n",
              "\n",
              "<g class=\"displacy-arrow\">\n",
              "    <path class=\"displacy-arc\" id=\"arrow-74a910aca4864deab1ca9ae3a8acbff0-0-16\" stroke-width=\"2px\" d=\"M3045,439.5 C3045,352.0 3180.0,352.0 3180.0,439.5\" fill=\"none\" stroke=\"currentColor\"/>\n",
              "    <text dy=\"1.25em\" style=\"font-size: 0.8em; letter-spacing: 1px\">\n",
              "        <textPath xlink:href=\"#arrow-74a910aca4864deab1ca9ae3a8acbff0-0-16\" class=\"displacy-label\" startOffset=\"50%\" side=\"left\" fill=\"currentColor\" text-anchor=\"middle\">case</textPath>\n",
              "    </text>\n",
              "    <path class=\"displacy-arrowhead\" d=\"M3045,441.5 L3037,429.5 3053,429.5\" fill=\"currentColor\"/>\n",
              "</g>\n",
              "\n",
              "<g class=\"displacy-arrow\">\n",
              "    <path class=\"displacy-arc\" id=\"arrow-74a910aca4864deab1ca9ae3a8acbff0-0-17\" stroke-width=\"2px\" d=\"M2520,439.5 C2520,177.0 3190.0,177.0 3190.0,439.5\" fill=\"none\" stroke=\"currentColor\"/>\n",
              "    <text dy=\"1.25em\" style=\"font-size: 0.8em; letter-spacing: 1px\">\n",
              "        <textPath xlink:href=\"#arrow-74a910aca4864deab1ca9ae3a8acbff0-0-17\" class=\"displacy-label\" startOffset=\"50%\" side=\"left\" fill=\"currentColor\" text-anchor=\"middle\">obl</textPath>\n",
              "    </text>\n",
              "    <path class=\"displacy-arrowhead\" d=\"M3190.0,441.5 L3198.0,429.5 3182.0,429.5\" fill=\"currentColor\"/>\n",
              "</g>\n",
              "</svg></span>"
            ],
            "text/plain": [
              "<IPython.core.display.HTML object>"
            ]
          },
          "metadata": {},
          "output_type": "display_data"
        }
      ],
      "source": [
        "doc = nlp(\" \".join(sentences[:2]))\n",
        "print(doc.text)\n",
        "for token in doc:\n",
        "    print(token.text, token.pos_, token.dep_)\n",
        "\n",
        "displacy.render(doc, style='dep', jupyter=True)"
      ]
    },
    {
      "cell_type": "markdown",
      "metadata": {
        "id": "JnW60rPvRHpq"
      },
      "source": [
        "SpaCy можно использовать для извлечения именованных сущностей — персон, мест, организаций, дат и прочего. Для этого можно воспользоваться свойством `ents` у нашего текста, а затем визуализировать лейблы с помощью той же функции `displacy.render`."
      ]
    },
    {
      "cell_type": "code",
      "execution_count": null,
      "metadata": {
        "colab": {
          "base_uri": "https://localhost:8080/",
          "height": 174
        },
        "id": "DkFN15clJhGW",
        "outputId": "5e44064f-b763-45b4-8bff-b0eb2c482f4d"
      },
      "outputs": [
        {
          "name": "stdout",
          "output_type": "stream",
          "text": [
            "Пушкин PER\n",
            "Москве LOC\n",
            "Немецкой слободе LOC\n",
            "Пушкин PER\n",
            "Императорском Царскосельском лицее ORG\n"
          ]
        },
        {
          "data": {
            "text/html": [
              "<span class=\"tex2jax_ignore\"><div class=\"entities\" style=\"line-height: 2.5; direction: ltr\">\n",
              "<mark class=\"entity\" style=\"background: #ddd; padding: 0.45em 0.6em; margin: 0 0.25em; line-height: 1; border-radius: 0.35em;\">\n",
              "    Пушкин\n",
              "    <span style=\"font-size: 0.8em; font-weight: bold; line-height: 1; border-radius: 0.35em; vertical-align: middle; margin-left: 0.5rem\">PER</span>\n",
              "</mark>\n",
              " родился 26 мая 1799 г. в \n",
              "<mark class=\"entity\" style=\"background: #ff9561; padding: 0.45em 0.6em; margin: 0 0.25em; line-height: 1; border-radius: 0.35em;\">\n",
              "    Москве\n",
              "    <span style=\"font-size: 0.8em; font-weight: bold; line-height: 1; border-radius: 0.35em; vertical-align: middle; margin-left: 0.5rem\">LOC</span>\n",
              "</mark>\n",
              ", в \n",
              "<mark class=\"entity\" style=\"background: #ff9561; padding: 0.45em 0.6em; margin: 0 0.25em; line-height: 1; border-radius: 0.35em;\">\n",
              "    Немецкой слободе\n",
              "    <span style=\"font-size: 0.8em; font-weight: bold; line-height: 1; border-radius: 0.35em; vertical-align: middle; margin-left: 0.5rem\">LOC</span>\n",
              "</mark>\n",
              ". Шесть лет (1811—1817) \n",
              "<mark class=\"entity\" style=\"background: #ddd; padding: 0.45em 0.6em; margin: 0 0.25em; line-height: 1; border-radius: 0.35em;\">\n",
              "    Пушкин\n",
              "    <span style=\"font-size: 0.8em; font-weight: bold; line-height: 1; border-radius: 0.35em; vertical-align: middle; margin-left: 0.5rem\">PER</span>\n",
              "</mark>\n",
              " провёл в \n",
              "<mark class=\"entity\" style=\"background: #7aecec; padding: 0.45em 0.6em; margin: 0 0.25em; line-height: 1; border-radius: 0.35em;\">\n",
              "    Императорском Царскосельском лицее\n",
              "    <span style=\"font-size: 0.8em; font-weight: bold; line-height: 1; border-radius: 0.35em; vertical-align: middle; margin-left: 0.5rem\">ORG</span>\n",
              "</mark>\n",
              ", открытом 19 октября 1811 года.</div></span>"
            ],
            "text/plain": [
              "<IPython.core.display.HTML object>"
            ]
          },
          "metadata": {},
          "output_type": "display_data"
        }
      ],
      "source": [
        "doc2 = nlp(\"Пушкин родился 26 мая 1799 г. в Москве, в Немецкой слободе. Шесть лет (1811—1817) Пушкин провёл в Императорском Царскосельском лицее, открытом 19 октября 1811 года.\")\n",
        "for ent in doc2.ents:\n",
        "    print(ent.text, ent.label_)\n",
        "\n",
        "displacy.render(doc2, style='ent', jupyter=True)"
      ]
    },
    {
      "cell_type": "markdown",
      "metadata": {
        "id": "FwfmuKjjQHko"
      },
      "source": [
        "Можно добавить свои именованные сущности для выделения в тексте, если они не учтены в словаре SpaCy. Для этого достаточно выделить `span` — отрезок предложения из слова или нескольких слов — и указать соответствующий лейбл."
      ]
    },
    {
      "cell_type": "code",
      "execution_count": null,
      "metadata": {
        "colab": {
          "base_uri": "https://localhost:8080/"
        },
        "id": "PckNzve7NVr3",
        "outputId": "bdfb2a94-7656-43b6-fe22-7d76964e914d"
      },
      "outputs": [
        {
          "name": "stdout",
          "output_type": "stream",
          "text": [
            "Before []\n",
            "After [('fb', 0, 1, 'ORG')]\n"
          ]
        }
      ],
      "source": [
        "from spacy.tokens import Span\n",
        "\n",
        "nlp = spacy.load(\"en_core_web_sm\")\n",
        "doc = nlp(\"fb is hiring a new vice president of global policy\")\n",
        "ents = [(e.text, e.start_char, e.end_char, e.label_) for e in doc.ents]\n",
        "print('Before', ents)\n",
        "# Модель не распознаёт \"fb\" как отдельную сущность :(\n",
        "\n",
        "# Создаём span с ней и лейбл для неё\n",
        "fb_ent = Span(doc, 0, 1, label=\"ORG\")\n",
        "orig_ents = list(doc.ents)\n",
        "\n",
        "# Вариант 2: Добавляем новую сущность к doc.ents\n",
        "doc.ents = orig_ents + [fb_ent]\n",
        "\n",
        "ents = [(e.text, e.start, e.end, e.label_) for e in doc.ents]\n",
        "print('After', ents)\n",
        "# [('fb', 0, 1, 'ORG')] 🎉\n"
      ]
    },
    {
      "cell_type": "markdown",
      "metadata": {
        "id": "Emc3LD1Z5Fv-"
      },
      "source": [
        "## Задание 1\n",
        "\n",
        "Текст $-$ первая глава произведения \"Дар\" Набокова. Файл `nabokov.txt` у нас в [репозитории](https://raw.githubusercontent.com/anastasie57/compling_57/refs/heads/main/nabokov.txt).\n",
        "\n",
        "1. Первое задание $-$ это небольшой эксперимент. Возьмите пять любых абзацев из текста и распарсите их двумя способами.\n",
        "    1. просто через pymystem (`.analyze`) и\n",
        "    2. через pymystem, предварительно почистив текст от пунктуации (тоже `.analyze`).<br>Замерить, что из этого быстрее с помощью line magic ``%time some_python_expression_here``\n",
        "2. Токенизируйте весь текст с помощью nltk.\n",
        "3. Почистите его от знаков препинания (тут пригодится список из первого задания), стоп-слов (с помощью nltk) и слов не на кириллице. Сделайте регистр `lower` у всх слов.\n",
        "4. Лемматизируйте с помощью pymorphy (`.normal_form`)\n",
        "5. Cоставьте частотный список слов. Выведите 20 самых частотных слов вообще.\n",
        "6. Найдите 20 самых частотных существительных.\n",
        "7. В тексте (списку слов), получившемся после пункта 3 (токенизированному и почищенному), поищите биграммы. Для этого нужно будет посмотреть nltk документацию про `nltk.bigrams()`. Выведите 10 самых частотных биграммов.\n",
        "\n",
        "Напоминание:\n",
        "\n",
        "**N-граммы** $-$ это сочетания из N элементов (слов, символов), идущих друг за другом. Одиночные элементы называются униграммами, сочетания из двух элементов $-$ биграммами, из трёх $-$ триграммами, а дальше все пишется цифрами: 4-граммы, 5-граммы и т.д."
      ]
    },
    {
      "cell_type": "code",
      "source": [
        "!pip install pymystem3 --q\n",
        "!pip install pymorphy2 --q\n",
        "!pip install typing_extensions==4.7.1 --upgrade --q\n",
        "!python -m spacy download ru_core_news_sm --q"
      ],
      "metadata": {
        "colab": {
          "base_uri": "https://localhost:8080/"
        },
        "id": "i8eOjyKuQyzd",
        "outputId": "5b2b6892-5681-4bed-80f0-f3716af90187"
      },
      "execution_count": 11,
      "outputs": [
        {
          "output_type": "stream",
          "name": "stdout",
          "text": [
            "\u001b[38;5;2m✔ Download and installation successful\u001b[0m\n",
            "You can now load the package via spacy.load('ru_core_news_sm')\n",
            "\u001b[38;5;3m⚠ Restart to reload dependencies\u001b[0m\n",
            "If you are in a Jupyter or Colab notebook, you may need to restart Python in\n",
            "order to load all the package's dependencies. You can do this by selecting the\n",
            "'Restart kernel' or 'Restart runtime' option.\n"
          ]
        }
      ]
    },
    {
      "cell_type": "code",
      "execution_count": 146,
      "metadata": {
        "collapsed": true,
        "id": "szJid2U58gST"
      },
      "outputs": [],
      "source": [
        "import base64\n",
        "import requests\n",
        "from pymystem3 import Mystem\n",
        "from pprint import pprint\n",
        "import string\n",
        "import nltk\n",
        "from nltk.tokenize import word_tokenize, sent_tokenize\n",
        "from nltk.tokenize.treebank import TreebankWordDetokenizer\n",
        "from nltk.corpus import stopwords\n",
        "from pymorphy2 import MorphAnalyzer\n",
        "from collections import Counter\n",
        "import re"
      ]
    },
    {
      "cell_type": "code",
      "execution_count": 13,
      "metadata": {
        "id": "zFwldMP_8Bzq",
        "colab": {
          "base_uri": "https://localhost:8080/"
        },
        "outputId": "c8817fbb-a2ca-4803-e29e-186c20c8e3d3"
      },
      "outputs": [
        {
          "output_type": "stream",
          "name": "stderr",
          "text": [
            "[nltk_data] Downloading package punkt to /root/nltk_data...\n",
            "[nltk_data]   Unzipping tokenizers/punkt.zip.\n"
          ]
        },
        {
          "output_type": "execute_result",
          "data": {
            "text/plain": [
              "True"
            ]
          },
          "metadata": {},
          "execution_count": 13
        }
      ],
      "source": [
        "m_stem = Mystem()\n",
        "morph = MorphAnalyzer()\n",
        "nltk.download('punkt')"
      ]
    },
    {
      "cell_type": "code",
      "execution_count": 58,
      "metadata": {
        "id": "RWncrR3DLnr7"
      },
      "outputs": [],
      "source": [
        "url =\\\n",
        "\"https://raw.githubusercontent.com/anastasie57/compling_57/refs/heads/main/nabokov.txt\"\n",
        "req = requests.get(url)\n",
        "text = req.text"
      ]
    },
    {
      "cell_type": "code",
      "execution_count": 59,
      "metadata": {
        "id": "7zWOFlOWKfSy"
      },
      "outputs": [],
      "source": [
        "text_punct_list = text.replace('\\r', '').split('\\n')[7::]"
      ]
    },
    {
      "cell_type": "code",
      "execution_count": 63,
      "metadata": {
        "colab": {
          "base_uri": "https://localhost:8080/"
        },
        "id": "PmukKF2t8z5V",
        "outputId": "9a9f0d90-88d7-4d11-e5f2-6a3ae341c28a"
      },
      "outputs": [
        {
          "output_type": "stream",
          "name": "stdout",
          "text": [
            "CPU times: user 5.37 ms, sys: 0 ns, total: 5.37 ms\n",
            "Wall time: 65.2 ms\n"
          ]
        }
      ],
      "source": [
        "%%time\n",
        "anals_1 = []\n",
        "for parag in text_punct_list[:5]:\n",
        "    anals_1.append(m_stem.analyze(parag))"
      ]
    },
    {
      "cell_type": "code",
      "execution_count": 61,
      "metadata": {
        "colab": {
          "base_uri": "https://localhost:8080/"
        },
        "id": "CT3Fm3ZaKDnS",
        "outputId": "e6658241-f4e5-4a06-92a4-457e7c7b0b65"
      },
      "outputs": [
        {
          "output_type": "stream",
          "name": "stdout",
          "text": [
            "CPU times: user 22.4 ms, sys: 1.74 ms, total: 24.1 ms\n",
            "Wall time: 87 ms\n"
          ]
        }
      ],
      "source": [
        "%%time\n",
        "text_no_punct = text.translate(str.maketrans('', '', string.punctuation))\n",
        "text_no_punct_list = text_no_punct.replace('\\r', '').split('\\n')[7::]\n",
        "anals_2 = []\n",
        "for parag in text_no_punct_list[:5]:\n",
        "    anals_2.append(m_stem.analyze(parag))"
      ]
    },
    {
      "cell_type": "code",
      "execution_count": 64,
      "metadata": {
        "id": "Z4ciVT2XI-vi"
      },
      "outputs": [],
      "source": [
        "tokenized = word_tokenize(text, language='russian')"
      ]
    },
    {
      "cell_type": "code",
      "execution_count": 65,
      "metadata": {
        "colab": {
          "base_uri": "https://localhost:8080/"
        },
        "id": "G8iU8XPjMgoM",
        "outputId": "9b9d3993-eeec-4054-818a-566dd07d5673"
      },
      "outputs": [
        {
          "output_type": "stream",
          "name": "stderr",
          "text": [
            "[nltk_data] Downloading package stopwords to /root/nltk_data...\n",
            "[nltk_data]   Package stopwords is already up-to-date!\n"
          ]
        }
      ],
      "source": [
        "nltk.download('stopwords')\n",
        "sw = stopwords.words('russian')"
      ]
    },
    {
      "cell_type": "code",
      "execution_count": 68,
      "metadata": {
        "id": "YVVU-Y3YMr-V"
      },
      "outputs": [],
      "source": [
        "words = [w.lower() for w in word_tokenize(\n",
        "    text_no_punct, language='russian'\n",
        "    ) if w not in sw and bool(re.search('[Ёёа-яА-Я]', w))]"
      ]
    },
    {
      "cell_type": "code",
      "execution_count": 69,
      "metadata": {
        "id": "uUunVQ1sOCUF"
      },
      "outputs": [],
      "source": [
        "normal_forms = [morph.parse(w)[0].normal_form for w in words]"
      ]
    },
    {
      "cell_type": "code",
      "execution_count": 70,
      "metadata": {
        "colab": {
          "base_uri": "https://localhost:8080/"
        },
        "id": "wpaZafFPVH6F",
        "outputId": "c8d36760-e91f-41e9-f5d6-26b4d086ef01"
      },
      "outputs": [
        {
          "output_type": "execute_result",
          "data": {
            "text/plain": [
              "[('который', 147),\n",
              " ('это', 110),\n",
              " ('всј', 76),\n",
              " ('свой', 67),\n",
              " ('константинович', 51),\n",
              " ('знать', 50),\n",
              " ('он', 48),\n",
              " ('стих', 47),\n",
              " ('тот', 46),\n",
              " ('фёдор', 46),\n",
              " ('я', 45),\n",
              " ('мой', 40),\n",
              " ('один', 39),\n",
              " ('сам', 37),\n",
              " ('рука', 35),\n",
              " ('такой', 34),\n",
              " ('сказать', 34),\n",
              " ('год', 33),\n",
              " ('комната', 33),\n",
              " ('яковлевич', 32)]"
            ]
          },
          "metadata": {},
          "execution_count": 70
        }
      ],
      "source": [
        "cnt = Counter(normal_forms)\n",
        "cnt.most_common(20)"
      ]
    },
    {
      "cell_type": "code",
      "execution_count": 71,
      "metadata": {
        "id": "7H2C4vlQXEv7"
      },
      "outputs": [],
      "source": [
        "nouns = [morph.parse(w)[0].normal_form for w in words if 'NOUN' in morph.parse(w)[0].tag]"
      ]
    },
    {
      "cell_type": "code",
      "execution_count": 72,
      "metadata": {
        "colab": {
          "base_uri": "https://localhost:8080/"
        },
        "id": "TsMBk79XXoPB",
        "outputId": "8e75370f-5382-46dd-f93f-27ea3a9c7a60"
      },
      "outputs": [
        {
          "output_type": "execute_result",
          "data": {
            "text/plain": [
              "[('константинович', 51),\n",
              " ('стих', 47),\n",
              " ('фёдор', 46),\n",
              " ('рука', 35),\n",
              " ('год', 33),\n",
              " ('комната', 33),\n",
              " ('яковлевич', 32),\n",
              " ('лицо', 28),\n",
              " ('александр', 28),\n",
              " ('нога', 27),\n",
              " ('глаз', 27),\n",
              " ('угол', 26),\n",
              " ('яша', 26),\n",
              " ('день', 25),\n",
              " ('васильев', 25),\n",
              " ('улица', 24),\n",
              " ('слово', 24),\n",
              " ('время', 24),\n",
              " ('человек', 23),\n",
              " ('рудольф', 23)]"
            ]
          },
          "metadata": {},
          "execution_count": 72
        }
      ],
      "source": [
        "cnt_nouns = Counter(nouns)\n",
        "cnt_nouns.most_common(20)"
      ]
    },
    {
      "cell_type": "code",
      "execution_count": 73,
      "metadata": {
        "id": "bSEkNH5hWlGS"
      },
      "outputs": [],
      "source": [
        "bigrams_all = list(nltk.bigrams(words))\n",
        "bigrams_syms = list(nltk.bigrams(list(''.join(words))))\n",
        "bigrams_all.extend(bigrams_syms)"
      ]
    },
    {
      "cell_type": "code",
      "execution_count": 74,
      "metadata": {
        "colab": {
          "base_uri": "https://localhost:8080/"
        },
        "id": "OPYWg3bMaqAV",
        "outputId": "0a5d2ba8-dbc9-45ee-c331-a9aa9591d07b"
      },
      "outputs": [
        {
          "output_type": "execute_result",
          "data": {
            "text/plain": [
              "[(('с', 'т'), 1546),\n",
              " (('н', 'о'), 1459),\n",
              " (('к', 'о'), 1139),\n",
              " (('о', 'в'), 1094),\n",
              " (('т', 'о'), 1091),\n",
              " (('е', 'н'), 1026),\n",
              " (('а', 'л'), 998),\n",
              " (('о', 'с'), 997),\n",
              " (('р', 'а'), 986),\n",
              " (('р', 'о'), 922),\n",
              " (('п', 'о'), 895),\n",
              " (('н', 'а'), 890),\n",
              " (('е', 'р'), 850),\n",
              " (('н', 'и'), 850),\n",
              " (('о', 'р'), 821),\n",
              " (('в', 'о'), 771),\n",
              " (('о', 'м'), 769),\n",
              " (('к', 'а'), 761),\n",
              " (('о', 'л'), 751),\n",
              " (('г', 'о'), 747),\n",
              " (('л', 'о'), 732),\n",
              " (('р', 'е'), 727),\n",
              " (('о', 'т'), 714),\n",
              " (('л', 'и'), 714),\n",
              " (('п', 'р'), 711),\n",
              " (('н', 'е'), 703),\n",
              " (('в', 'а'), 700),\n",
              " (('а', 'н'), 687),\n",
              " (('е', 'л'), 657),\n",
              " (('л', 'а'), 652),\n",
              " (('т', 'а'), 648),\n",
              " (('о', 'д'), 646),\n",
              " (('е', 'с'), 643),\n",
              " (('е', 'т'), 642),\n",
              " (('о', 'й'), 639),\n",
              " (('л', 'е'), 627),\n",
              " (('т', 'е'), 627),\n",
              " (('а', 'с'), 610),\n",
              " (('в', 'е'), 609),\n",
              " (('а', 'т'), 607),\n",
              " (('н', 'ы'), 593),\n",
              " (('с', 'к'), 572),\n",
              " (('и', 'н'), 546),\n",
              " (('т', 'ь'), 535),\n",
              " (('л', 'ь'), 534),\n",
              " (('о', 'б'), 514),\n",
              " (('о', 'г'), 508),\n",
              " (('и', 'с'), 504),\n",
              " (('н', 'н'), 498),\n",
              " (('т', 'и'), 496),\n",
              " (('о', 'н'), 493),\n",
              " (('и', 'л'), 491),\n",
              " (('р', 'и'), 488),\n",
              " (('а', 'в'), 487),\n",
              " (('е', 'м'), 485),\n",
              " (('е', 'д'), 484),\n",
              " (('и', 'т'), 465),\n",
              " (('д', 'о'), 461),\n",
              " (('а', 'м'), 455),\n",
              " (('и', 'в'), 453),\n",
              " (('з', 'а'), 450),\n",
              " (('м', 'о'), 443),\n",
              " (('с', 'я'), 437),\n",
              " (('а', 'к'), 431),\n",
              " (('к', 'и'), 430),\n",
              " (('е', 'в'), 426),\n",
              " (('ч', 'е'), 423),\n",
              " (('д', 'е'), 412),\n",
              " (('м', 'е'), 411),\n",
              " (('о', 'п'), 406),\n",
              " (('т', 'р'), 403),\n",
              " (('а', 'з'), 400),\n",
              " (('д', 'а'), 397),\n",
              " (('м', 'и'), 387),\n",
              " (('и', 'м'), 383),\n",
              " (('в', 'и'), 376),\n",
              " (('а', 'я'), 375),\n",
              " (('а', 'р'), 362),\n",
              " (('и', 'к'), 354),\n",
              " (('о', 'к'), 352),\n",
              " (('с', 'ь'), 351),\n",
              " (('м', 'а'), 347),\n",
              " (('т', 'в'), 338),\n",
              " (('с', 'о'), 327),\n",
              " (('и', 'е'), 326),\n",
              " (('в', 'ы'), 320),\n",
              " (('а', 'п'), 316),\n",
              " (('п', 'е'), 316),\n",
              " (('ш', 'е'), 310),\n",
              " (('р', 'у'), 307),\n",
              " (('в', 'с'), 301),\n",
              " (('с', 'л'), 298),\n",
              " (('ь', 'н'), 292),\n",
              " (('н', 'у'), 292),\n",
              " (('ы', 'й'), 291),\n",
              " (('б', 'о'), 284),\n",
              " (('а', 'д'), 277),\n",
              " (('е', 'п'), 271),\n",
              " (('ч', 'а'), 267),\n",
              " (('д', 'н'), 263)]"
            ]
          },
          "metadata": {},
          "execution_count": 74
        }
      ],
      "source": [
        "Counter(bigrams_all).most_common(100)"
      ]
    },
    {
      "cell_type": "markdown",
      "metadata": {
        "id": "Gva2P0-mUdVV"
      },
      "source": [
        "## Задание 2\n",
        "\n",
        "Выберите любое произведение на русском языке.\n",
        "\n",
        "1. Возьмите любой абзац из выбранного произведения (минимум 7 предложений).\n",
        "2. Замените форму всех существительных и прилагательных на форму множественного числа.\n",
        "3. Замените форму всех глаголов на форму множественного числа, прошедшего времени.\n",
        "4. Верните абзац с изменёнными формами слов и исходной пунктуацией."
      ]
    },
    {
      "cell_type": "code",
      "source": [
        "with open('fns.txt', 'r', encoding='utf-8') as f:\n",
        "    text = f.read()"
      ],
      "metadata": {
        "id": "L1KP3SMHaLCj"
      },
      "execution_count": 101,
      "outputs": []
    },
    {
      "cell_type": "code",
      "source": [
        "text = text.split('\\n')"
      ],
      "metadata": {
        "id": "60IQlTWLa11n"
      },
      "execution_count": 102,
      "outputs": []
    },
    {
      "cell_type": "code",
      "source": [
        "par_start = 'Зовут его Николаем Петровичем Кирсановым'"
      ],
      "metadata": {
        "id": "qJ4t8IO2cP_v"
      },
      "execution_count": 91,
      "outputs": []
    },
    {
      "cell_type": "code",
      "source": [
        "par = [sent for sent in text if par_start in sent][0]"
      ],
      "metadata": {
        "id": "ZbkELhK0dJLM"
      },
      "execution_count": 107,
      "outputs": []
    },
    {
      "cell_type": "code",
      "source": [
        "sents = sent_tokenize(par, language='russian')\n",
        "print(len(sents)) # proof that it has more than 6 sent"
      ],
      "metadata": {
        "colab": {
          "base_uri": "https://localhost:8080/"
        },
        "id": "T1Muk7_RfBpu",
        "outputId": "ac0e79f9-4e31-40ab-feb0-84690a1a6343"
      },
      "execution_count": 113,
      "outputs": [
        {
          "output_type": "stream",
          "name": "stdout",
          "text": [
            "22\n"
          ]
        }
      ]
    },
    {
      "cell_type": "code",
      "source": [
        "words = word_tokenize(par, language='russian')"
      ],
      "metadata": {
        "id": "KJ01in4-fPWv"
      },
      "execution_count": 114,
      "outputs": []
    },
    {
      "cell_type": "code",
      "source": [
        "words_changed = []\n",
        "for w in words:\n",
        "    parsed = morph.parse(w)[0]\n",
        "    if 'NOUN' in parsed.tag or 'ADJF' in parsed.tag:\n",
        "        try:\n",
        "            words_changed.append(parsed.inflect({'plur'}).word)\n",
        "        except AttributeError:\n",
        "            pass\n",
        "    elif 'VERB' in parsed.tag:\n",
        "        try:\n",
        "            words_changed.append(parsed.inflect({'plur', 'past'}).word)\n",
        "        except AttributeError:\n",
        "            pass\n",
        "    else:\n",
        "        words_changed.append(w)\n"
      ],
      "metadata": {
        "id": "b-Svu8HCftc6"
      },
      "execution_count": 147,
      "outputs": []
    },
    {
      "cell_type": "code",
      "source": [
        "TreebankWordDetokenizer().detokenize(words_changed)"
      ],
      "metadata": {
        "colab": {
          "base_uri": "https://localhost:8080/",
          "height": 105
        },
        "id": "1oySlyo5gQt8",
        "outputId": "7e65ccd6-38a1-4e5b-bc6e-3ddc5233b9b7"
      },
      "execution_count": 150,
      "outputs": [
        {
          "output_type": "execute_result",
          "data": {
            "text/plain": [
              "'звали его николаями петровичами кирсановыми . У него в пятнадцати вёрстах от постоялых двориков хороших имения в двести душ, или, как он выражались с тех пор, как размежевались с крестьянами и завели « фермы », – в две тысяч десятин земель . отцы его, боевых генералы 1812 годов, полуграмотные, грубые, но не злые русские люди, все жизни свои тянули лямки, командовали сперва бригадами, потом дивизиями и постоянно жили в провинциях, где в силы своих чинов играли довольно значительных роли . николаи петровичи родились на югах, подобно старшим своим братьям павлам, о которых речи впереди, и воспитывались до четырнадцатилетних возрастов домов, окруженный дешёвыми гувернёрами, развязными, но подобострастными адъютантами и прочими полковыми и штабными личностями . родительницы его, из фамилий колязиных, в девицах Agathe, а в генеральшах Агафоклея Кузьминишна кирсановов, принадлежали к числам « матушек-командирш », носили пышные и шумные шелковые платья, в церквей подходили первые ко крестам, говорили громко и много, допускали детей утром к ручкам, на ночи их благословляли, – словами, жили в свои удовольствия . В качествах генеральских сыновей николаи петровичи – хотя не только не отличались храбростями, но даже заслужили прозвища трусишек – должен были, подобно братьям павлам, поступить в военных службы; но он переломили себе ноги в самые те дни, когда уже прибыли известия об его определениях, и, пролежав два месяцев в постелях, на все жизни остались « хроменькими » . отцы махнули на него руками и пустили его по штатских . Он повезли его в петербурги, как только ему минули восемнадцатые годы, и поместили его в университеты . Кстати, братья его о те поры вышли офицерами в гвардейские полк. молодые люди стали жить вдвоем, на одних квартирах, под отдаленным надзорами двоюродных дядей с материнским сторон, колязины, важных чиновников . отцы их вернулись к своих дивизий и к своих супругам и лишь изредка присылали сыновьям большие четвертушек серых бумаг, испещренные размашистыми писарскими почерками . На концах этих четвертушек красовались старательно окруженные « выкрутасами » слов: « пиотры кирсанофы, генерал-майоры » . В 1835 годы николаи петровичи вышли из университетов кандидатами, [1] и в тех же годы генералы кирсанов, уволенный в отставки за неудачные смотры, приехали в петербурги с жёнами на житья . Он наняли были дома у таврических садов и записались в английские клубы, [2] но внезапно умерли от ударов . Агафоклея Кузьминишна скоро за ним последовали: она не могли привыкнуть к глухих столичных жизней; отставных существований ее загрызли . Между тем николаи петровичи успели, еще при жизней родителей и к немалым их огорчениям, влюбиться в дочек чиновников преполовенских, бывших хозяев его квартир, миловидных и, как говорились, развитых девиц: она в журналах читали серьёзные статей в отделах « наук » . Он женились на ней, как только минули сроки трауров, и, покинув министерства уделов, куда по протекциям отцы его записали, блаженствовали со своими машами сперва на дачах около лесных институтов, потом в городах, в маленьких и хорошенькими квартирах, с чистыми лестницами и холодноватыми гостиных, наконец – в деревнях, где он поселились окончательно и где у него в скорых времён родились сыновья аркадии . супруги жили очень хорошо и тихо: они почти никогда не расставались, читали вместе, играли в четыре руки на фортепьяно, пели дуэты; она сажали цветки и наблюдали за птичными дворами, он изредка ездили на охоты и занимались хозяйствами, а аркадии росли да росли – тоже хорошо и тихо . Десять годов прошли как сны . В 47-м годы жёны кирсановов скончались . Он едва вынесли эти удары, поседел в несколько недель; собрались были за границы, чтобы хотя немного рассеяться… но тут настали 48-е год. [3] Он поневоле вернулись в деревни и после довольно продолжительных бездействий занялись хозяйственными преобразованиями . В 55-м годы он повезли сыновей в университеты; прожили с ним три зим в петербургах, почти никуда не выходя и стараясь заводить знакомств с молодыми товарищами аркадиев . На последних зимы он приехать не могли, – и вот мы видели его в месяцах 1859 годов, уже совсем седых, пухленьких и немного сгорбленного: он ждали сыновей, получившего, как некогда он сами, звания кандидатов.'"
            ],
            "application/vnd.google.colaboratory.intrinsic+json": {
              "type": "string"
            }
          },
          "metadata": {},
          "execution_count": 150
        }
      ]
    },
    {
      "cell_type": "markdown",
      "metadata": {
        "id": "y7IGT3PxW2fR"
      },
      "source": [
        "## Задание 3*\n",
        "\n",
        "Попробуйте запустить ячейку с разбором именованных сущностей в русском тексте с помощью SpaCy после запуска ячейки с подключением английского корпуса текстов. Вы увидите, что добавились обозначения дат, хотя всё остальное стало распознаваться не так корректно. Насколько корректно распознаются даты? Проверьте, насколько отличается распознавание дат в английском языке? Попробуйте добавить паттерн распознавания дат для русского языка."
      ]
    }
  ],
  "metadata": {
    "colab": {
      "provenance": []
    },
    "kernelspec": {
      "display_name": "Python 3 (ipykernel)",
      "language": "python",
      "name": "python3"
    },
    "language_info": {
      "codemirror_mode": {
        "name": "ipython",
        "version": 3
      },
      "file_extension": ".py",
      "mimetype": "text/x-python",
      "name": "python",
      "nbconvert_exporter": "python",
      "pygments_lexer": "ipython3",
      "version": "3.11.5"
    }
  },
  "nbformat": 4,
  "nbformat_minor": 0
}