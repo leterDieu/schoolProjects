{
  "cells": [
    {
      "cell_type": "markdown",
      "metadata": {
        "id": "6ku6EsUID248"
      },
      "source": [
        "# Grouping data"
      ]
    },
    {
      "cell_type": "markdown",
      "metadata": {
        "id": "z80W31fED25B"
      },
      "source": [
        "### Шаг 1. Импортируйте необходимые библиотеки"
      ]
    },
    {
      "cell_type": "code",
      "execution_count": 1,
      "metadata": {
        "id": "dgCm61V2D25D"
      },
      "outputs": [],
      "source": [
        "import pandas as pd"
      ]
    },
    {
      "cell_type": "markdown",
      "metadata": {
        "id": "G3h2_BcCD25F"
      },
      "source": [
        "### Шаг 2. Создайте датафрейм со следующими значениями:"
      ]
    },
    {
      "cell_type": "code",
      "execution_count": 2,
      "metadata": {
        "collapsed": true,
        "id": "ghz6NZoGD25G"
      },
      "outputs": [],
      "source": [
        "raw_data = {'regiment': ['Nighthawks', 'Nighthawks', 'Nighthawks', 'Nighthawks', 'Dragoons', 'Dragoons', 'Dragoons', 'Dragoons', 'Scouts', 'Scouts', 'Scouts', 'Scouts'],\n",
        "        'company': ['1st', '1st', '2nd', '2nd', '1st', '1st', '2nd', '2nd','1st', '1st', '2nd', '2nd'],\n",
        "        'name': ['Miller', 'Jacobson', 'Ali', 'Milner', 'Cooze', 'Jacon', 'Ryaner', 'Sone', 'Sloan', 'Piger', 'Riani', 'Ali'],\n",
        "        'preTestScore': [4, 24, 31, 2, 3, 4, 24, 31, 2, 3, 2, 3],\n",
        "        'postTestScore': [25, 94, 57, 62, 70, 25, 94, 57, 62, 70, 62, 70]}"
      ]
    },
    {
      "cell_type": "markdown",
      "metadata": {
        "id": "_MaqCuoUD25K"
      },
      "source": [
        "### Шаг 3. Сохраните в перменную regiment."
      ]
    },
    {
      "cell_type": "code",
      "execution_count": 39,
      "metadata": {
        "id": "wGPWo1ZJD25L"
      },
      "outputs": [],
      "source": [
        "regiment = pd.DataFrame(raw_data)"
      ]
    },
    {
      "cell_type": "markdown",
      "metadata": {
        "id": "RuZClqs3D25L"
      },
      "source": [
        "### Шаг 4. Какое среднее значение у пременной preTestScore в строках где значение regiment равно Nighthawks?  "
      ]
    },
    {
      "cell_type": "code",
      "execution_count": 7,
      "metadata": {
        "colab": {
          "base_uri": "https://localhost:8080/"
        },
        "id": "pCZAbOa5D25N",
        "outputId": "f4a18219-07bc-4297-8a9e-2422538eab51"
      },
      "outputs": [
        {
          "output_type": "execute_result",
          "data": {
            "text/plain": [
              "15.25"
            ]
          },
          "metadata": {},
          "execution_count": 7
        }
      ],
      "source": [
        "regiment[regiment.regiment == 'Nighthawks'].preTestScore.mean()"
      ]
    },
    {
      "cell_type": "markdown",
      "metadata": {
        "id": "RWcrTYHmD25O"
      },
      "source": [
        "### Шаг 6. Какое значение preTestScore для каждой компании?"
      ]
    },
    {
      "cell_type": "code",
      "execution_count": 22,
      "metadata": {
        "colab": {
          "base_uri": "https://localhost:8080/",
          "height": 178
        },
        "id": "moEv3iMuD25P",
        "outputId": "595ebfc3-bb5a-4200-d550-2fa76fed54f6"
      },
      "outputs": [
        {
          "output_type": "execute_result",
          "data": {
            "text/plain": [
              "company\n",
              "1st    40\n",
              "2nd    93\n",
              "Name: preTestScore, dtype: int64"
            ],
            "text/html": [
              "<div>\n",
              "<style scoped>\n",
              "    .dataframe tbody tr th:only-of-type {\n",
              "        vertical-align: middle;\n",
              "    }\n",
              "\n",
              "    .dataframe tbody tr th {\n",
              "        vertical-align: top;\n",
              "    }\n",
              "\n",
              "    .dataframe thead th {\n",
              "        text-align: right;\n",
              "    }\n",
              "</style>\n",
              "<table border=\"1\" class=\"dataframe\">\n",
              "  <thead>\n",
              "    <tr style=\"text-align: right;\">\n",
              "      <th></th>\n",
              "      <th>preTestScore</th>\n",
              "    </tr>\n",
              "    <tr>\n",
              "      <th>company</th>\n",
              "      <th></th>\n",
              "    </tr>\n",
              "  </thead>\n",
              "  <tbody>\n",
              "    <tr>\n",
              "      <th>1st</th>\n",
              "      <td>40</td>\n",
              "    </tr>\n",
              "    <tr>\n",
              "      <th>2nd</th>\n",
              "      <td>93</td>\n",
              "    </tr>\n",
              "  </tbody>\n",
              "</table>\n",
              "</div><br><label><b>dtype:</b> int64</label>"
            ]
          },
          "metadata": {},
          "execution_count": 22
        }
      ],
      "source": [
        "regiment.groupby(['company']).preTestScore.sum()"
      ]
    },
    {
      "cell_type": "markdown",
      "metadata": {
        "id": "AfqR5Kw5D25P"
      },
      "source": [
        "### Шаг 7. Выведите средние значения preTestScores, сгруппированные по переменным regiment и company"
      ]
    },
    {
      "cell_type": "code",
      "execution_count": 25,
      "metadata": {
        "colab": {
          "base_uri": "https://localhost:8080/",
          "height": 304
        },
        "id": "SKdREvPoD25Q",
        "outputId": "ffbc9858-683b-4eb5-ca1d-a636e083e6de"
      },
      "outputs": [
        {
          "output_type": "execute_result",
          "data": {
            "text/plain": [
              "regiment    company\n",
              "Dragoons    1st         3.5\n",
              "            2nd        27.5\n",
              "Nighthawks  1st        14.0\n",
              "            2nd        16.5\n",
              "Scouts      1st         2.5\n",
              "            2nd         2.5\n",
              "Name: preTestScore, dtype: float64"
            ],
            "text/html": [
              "<div>\n",
              "<style scoped>\n",
              "    .dataframe tbody tr th:only-of-type {\n",
              "        vertical-align: middle;\n",
              "    }\n",
              "\n",
              "    .dataframe tbody tr th {\n",
              "        vertical-align: top;\n",
              "    }\n",
              "\n",
              "    .dataframe thead th {\n",
              "        text-align: right;\n",
              "    }\n",
              "</style>\n",
              "<table border=\"1\" class=\"dataframe\">\n",
              "  <thead>\n",
              "    <tr style=\"text-align: right;\">\n",
              "      <th></th>\n",
              "      <th></th>\n",
              "      <th>preTestScore</th>\n",
              "    </tr>\n",
              "    <tr>\n",
              "      <th>regiment</th>\n",
              "      <th>company</th>\n",
              "      <th></th>\n",
              "    </tr>\n",
              "  </thead>\n",
              "  <tbody>\n",
              "    <tr>\n",
              "      <th rowspan=\"2\" valign=\"top\">Dragoons</th>\n",
              "      <th>1st</th>\n",
              "      <td>3.5</td>\n",
              "    </tr>\n",
              "    <tr>\n",
              "      <th>2nd</th>\n",
              "      <td>27.5</td>\n",
              "    </tr>\n",
              "    <tr>\n",
              "      <th rowspan=\"2\" valign=\"top\">Nighthawks</th>\n",
              "      <th>1st</th>\n",
              "      <td>14.0</td>\n",
              "    </tr>\n",
              "    <tr>\n",
              "      <th>2nd</th>\n",
              "      <td>16.5</td>\n",
              "    </tr>\n",
              "    <tr>\n",
              "      <th rowspan=\"2\" valign=\"top\">Scouts</th>\n",
              "      <th>1st</th>\n",
              "      <td>2.5</td>\n",
              "    </tr>\n",
              "    <tr>\n",
              "      <th>2nd</th>\n",
              "      <td>2.5</td>\n",
              "    </tr>\n",
              "  </tbody>\n",
              "</table>\n",
              "</div><br><label><b>dtype:</b> float64</label>"
            ]
          },
          "metadata": {},
          "execution_count": 25
        }
      ],
      "source": [
        "regiment.groupby(by=['regiment', 'company']).preTestScore.mean()"
      ]
    },
    {
      "cell_type": "markdown",
      "metadata": {
        "id": "xYe52SMvD25Q"
      },
      "source": [
        "### Шаг 8. Выведите средние значения preTestScores, сгруппированные по переменным regiment и company без иерархической индексации"
      ]
    },
    {
      "cell_type": "code",
      "execution_count": 26,
      "metadata": {
        "colab": {
          "base_uri": "https://localhost:8080/",
          "height": 34
        },
        "id": "yota92PoD25Q",
        "outputId": "2eb45972-e4d3-4f0c-8da0-b9c2f8546a0e"
      },
      "outputs": [
        {
          "output_type": "execute_result",
          "data": {
            "text/plain": [
              "'regiment    company\\n 3.5\\n27.5\\n14.0\\n16.5\\n 2.5\\n 2.5'"
            ],
            "application/vnd.google.colaboratory.intrinsic+json": {
              "type": "string"
            }
          },
          "metadata": {},
          "execution_count": 26
        }
      ],
      "source": [
        "regiment.groupby(by=['regiment', 'company']).preTestScore.mean().to_string(index=False)"
      ]
    },
    {
      "cell_type": "markdown",
      "metadata": {
        "id": "vRj8cyefD25R"
      },
      "source": [
        "### Шаг 9. Сгруппируйте датафрейм по переменным regiment и company"
      ]
    },
    {
      "cell_type": "code",
      "execution_count": 27,
      "metadata": {
        "colab": {
          "base_uri": "https://localhost:8080/"
        },
        "id": "HcRU0AUsD25S",
        "outputId": "ef7decf6-34f6-4d4f-eb71-a1f21572c7be"
      },
      "outputs": [
        {
          "output_type": "execute_result",
          "data": {
            "text/plain": [
              "<pandas.core.groupby.generic.DataFrameGroupBy object at 0x7926fde5e620>"
            ]
          },
          "metadata": {},
          "execution_count": 27
        }
      ],
      "source": [
        "regiment.groupby(by=['regiment', 'company'])"
      ]
    },
    {
      "cell_type": "markdown",
      "metadata": {
        "id": "p1_BqRm7D25S"
      },
      "source": [
        "### Шаг 10. Сколько наблюдений для каждого уникального значения переменных regiment и company"
      ]
    },
    {
      "cell_type": "code",
      "execution_count": 43,
      "metadata": {
        "colab": {
          "base_uri": "https://localhost:8080/"
        },
        "id": "OyKjkRyxD25T",
        "outputId": "5da8131f-1970-469c-c93c-f154c5c5ad7d"
      },
      "outputs": [
        {
          "output_type": "execute_result",
          "data": {
            "text/plain": [
              "6"
            ]
          },
          "metadata": {},
          "execution_count": 43
        }
      ],
      "source": [
        "len(regiment.groupby(by=['regiment', 'company']))"
      ]
    },
    {
      "cell_type": "markdown",
      "metadata": {
        "id": "lg7ev8wpD25T"
      },
      "source": [
        "### Шаг 11. Сгруппируйте данные по переменной regiment, проитерируйтесь по группе и выведите название и информацию в каждой группе"
      ]
    },
    {
      "cell_type": "code",
      "execution_count": 54,
      "metadata": {
        "colab": {
          "base_uri": "https://localhost:8080/"
        },
        "id": "kWwh2gKwD25T",
        "outputId": "36729647-ba4d-4b9e-df49-2f2c145da6de"
      },
      "outputs": [
        {
          "output_type": "stream",
          "name": "stdout",
          "text": [
            "Dragoons    regiment company    name  preTestScore  postTestScore\n",
            "4  Dragoons     1st   Cooze             3             70\n",
            "5  Dragoons     1st   Jacon             4             25\n",
            "6  Dragoons     2nd  Ryaner            24             94\n",
            "7  Dragoons     2nd    Sone            31             57\n",
            "Nighthawks      regiment company      name  preTestScore  postTestScore\n",
            "0  Nighthawks     1st    Miller             4             25\n",
            "1  Nighthawks     1st  Jacobson            24             94\n",
            "2  Nighthawks     2nd       Ali            31             57\n",
            "3  Nighthawks     2nd    Milner             2             62\n",
            "Scouts    regiment company   name  preTestScore  postTestScore\n",
            "8    Scouts     1st  Sloan             2             62\n",
            "9    Scouts     1st  Piger             3             70\n",
            "10   Scouts     2nd  Riani             2             62\n",
            "11   Scouts     2nd    Ali             3             70\n"
          ]
        }
      ],
      "source": [
        "for i, j in regiment.groupby('regiment'):\n",
        "  print(i, j)"
      ]
    }
  ],
  "metadata": {
    "kernelspec": {
      "display_name": "Python 2",
      "language": "python",
      "name": "python2"
    },
    "language_info": {
      "codemirror_mode": {
        "name": "ipython",
        "version": 2
      },
      "file_extension": ".py",
      "mimetype": "text/x-python",
      "name": "python",
      "nbconvert_exporter": "python",
      "pygments_lexer": "ipython2",
      "version": "2.7.11"
    },
    "colab": {
      "provenance": []
    }
  },
  "nbformat": 4,
  "nbformat_minor": 0
}