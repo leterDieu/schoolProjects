{
  "cells": [
    {
      "cell_type": "code",
      "execution_count": 1,
      "id": "d5c7a868",
      "metadata": {
        "id": "d5c7a868",
        "run_control": {
          "frozen": false,
          "read_only": false
        }
      },
      "outputs": [],
      "source": [
        "import numpy as np"
      ]
    },
    {
      "cell_type": "markdown",
      "id": "c26daf4d",
      "metadata": {
        "id": "c26daf4d",
        "run_control": {
          "frozen": false,
          "read_only": false
        }
      },
      "source": [
        "### Задачи 1-6 (13 баллов).\n",
        "\n",
        "Для каждой из задач ниже приведите 2 реализации: одна без использования numpy, а вторая полностью векторизованная (**без использования циклов/map/list comprehension**)."
      ]
    },
    {
      "cell_type": "markdown",
      "id": "48a2eb57",
      "metadata": {
        "id": "48a2eb57",
        "run_control": {
          "frozen": false,
          "read_only": false
        }
      },
      "source": [
        "* __Задача 1__: Посчитать  сумму неотрицательных элементов на диагонали прямоугольной матрицы X. Если неотрицательных элементов на диагонали нет, то вернуть -1.\n",
        "\n",
        "  **Пример:**\n",
        "  \n",
        "      Input: X = np.array([[-1, 0, 1], [2, 0, 2], [3, 0, 3], [4, 4, 4]])\n",
        "      Output: 3\n",
        "\n",
        "\n",
        "* __Задача 2__: Даны два вектора x и y. Проверить, задают ли они одно и то же мультимножество.\n",
        "\n",
        "   **Пример:**\n",
        "      Input: x = [1, 2, 2, 4], y = [4, 2, 1, 2]\n",
        "      Output: True\n",
        "  \n",
        "\n",
        "* __Задача 3__: Найти максимальное прозведение соседних элементов в массиве x, таких что хотя бы один множитель в произведении делится на 3. Если таких произведений нет, то вернуть -1.\n",
        "\n",
        "  **Пример**\n",
        "  \n",
        "      Input: x = [6, 2, 0, 3, 0, 0, 5, 7, 0]\n",
        "      Output: 12\n",
        "\n",
        "\n",
        "* __Задача 4__: Дан трёхмерный массив image, содержащий изображение, размера (height, width, num_channels), а также вектор весов weights длины num_channels. Сложить каналы изображения с указанными весами, и вернуть результат в виде матрицы размера (height, width). ***Обратите внимание, что в изображении может быть не три канала!***\n",
        "\n",
        "  **Пример:**\n",
        "  \n",
        "      Input: image = [[[1, 1, 1], [2, 2, 2], [3, 3, 3]], [[4, 4, 4], [5, 5, 5], [6, 6, 6]], [[7, 7, 7], [8, 8, 8], [9, 9, 9]]], weights= [1, 2, 3]\n",
        "      Output: [[6, 12, 18], [24, 30, 36], [42, 48, 54]]\n",
        "\n",
        "  **Комментарий**:\n",
        "  - В примере исходное изображение с тремя каналами, где по всем каналам значения равны [[1, 2, 3], [4, 5, 6], [7, 8, 9]].\n",
        "  - После умножения первого канала на вес 1 получим значения для первого канала [[1, 2, 3], [4, 5, 6], [7, 8, 9]].\n",
        "  - После умножения второго канала на вес 2 получим значения для второго канала [[2, 4, 6], [8, 10, 12], [14, 16, 18]].\n",
        "  - После умножения третьего канала на вес 3 получим значения для третьего канала [[3, 6, 9], [12, 15, 18], [21, 24, 27]].\n",
        "  - Если сложить полученное изображение поканально получим [[6, 12, 18], [24, 30, 36], [42, 48, 54]].\n",
        "\n",
        "\n",
        "\n",
        "* __Задача 5__: Найти скалярное произведение между векторами x и y, заданными в формате RLE (Run-length encoding, кодирование длин серий). Каждый закодированный вектор представлен двумерным массивом, каждая строка которого имеет размерность 2, где первое число - элемент, а второе число - сколько раз элемент нужно повторить. Например, [[1,2], [2, 3], [3, 1]] соответствует веткору [1, 1, 2, 2, 2, 3]. В случае несовпадения длин исходных векторов вернуть -1.\n",
        "\n",
        "  **Пример:**\n",
        "  \n",
        "      Input: x = [[1, 2], [2, 3], [3, 1]], y = [[1, 1], [0, 5]].\n",
        "      Output: 1"
      ]
    },
    {
      "cell_type": "markdown",
      "id": "50991826",
      "metadata": {
        "id": "50991826",
        "run_control": {
          "frozen": false,
          "read_only": false
        }
      },
      "source": [
        "### Задача 6.\n",
        "\n",
        "*  Для каждой задачи сравните скорость работы невекторизованной и векторизованной реализации. Код генерации данных разных размеров и функция для замера времени работы функций уже написаны.\n",
        "*  Сделайте выводы о времени работы функций."
      ]
    },
    {
      "cell_type": "code",
      "execution_count": 10,
      "id": "6a680127",
      "metadata": {
        "id": "6a680127",
        "run_control": {
          "frozen": false,
          "read_only": false
        }
      },
      "outputs": [],
      "source": [
        "import time\n",
        "import numpy as np\n",
        "\n",
        "import functions_vectorised\n",
        "import functions"
      ]
    },
    {
      "cell_type": "code",
      "execution_count": 3,
      "id": "Klhpq6urrIaE",
      "metadata": {
        "id": "Klhpq6urrIaE"
      },
      "outputs": [],
      "source": [
        "data_1 = []\n",
        "for n in [10, 100, 1000, 10000]:\n",
        "    x = np.random.randint(0, 3, (n, n))\n",
        "    data_1 += [x]\n",
        "\n",
        "data_2 = []\n",
        "for n in [10, 100, 1000, 10000]:\n",
        "    x = np.random.randint(0, 2, n)\n",
        "    y = np.random.randint(0, 2, n)\n",
        "    data_2 += [(x, y)]\n",
        "\n",
        "data_3 = []\n",
        "for n in [10, 100, 1000, 10000]:\n",
        "    x = np.random.randint(1, 100, n)\n",
        "    data_3 += [x]\n",
        "\n",
        "data_4 = []\n",
        "for n in [10, 100, 1000]:\n",
        "    image = np.random.random((n, n, 10))\n",
        "    weights = np.random.random(10)\n",
        "    data_4 += [(image, weights)]\n",
        "\n",
        "data_5 = []\n",
        "for n in [10, 100, 1000, 10000]:\n",
        "    x = np.random.randint(1, 3, (n, 2))\n",
        "    y = np.random.randint(1, 3, (n, 2))\n",
        "    shapes = np.random.randint(1, 3, n)\n",
        "    x[:, 1] = shapes\n",
        "    y[:, 1] = shapes\n",
        "    data_5 += [(x, y)]\n"
      ]
    },
    {
      "cell_type": "code",
      "execution_count": 4,
      "id": "ab234c9f",
      "metadata": {
        "id": "ab234c9f",
        "run_control": {
          "frozen": false,
          "read_only": false
        }
      },
      "outputs": [],
      "source": [
        "def count_time(func, *data):\n",
        "    tick = time.perf_counter()\n",
        "    func(*data)\n",
        "    return time.perf_counter() - tick"
      ]
    },
    {
      "cell_type": "code",
      "execution_count": 21,
      "id": "96e6a1e0",
      "metadata": {
        "id": "96e6a1e0",
        "run_control": {
          "frozen": false,
          "read_only": false
        }
      },
      "outputs": [],
      "source": [
        "times = {'func': [], 'performance': [], 'type': ['default', 'vectorised'] * 5}\n",
        "\n",
        "funcs = {'default_1': functions.default_1,\n",
        "         'default_2': functions.default_2,\n",
        "         'default_3': functions.default_3,\n",
        "         'default_4': functions.default_4,\n",
        "         'default_5': functions.default_5,\n",
        "         'vectorised_1': functions_vectorised.vectorised_1,\n",
        "         'vectorised_2': functions_vectorised.vectorised_2,\n",
        "         'vectorised_3': functions_vectorised.vectorised_3,\n",
        "         'vectorised_4': functions_vectorised.vectorised_4,\n",
        "         'vectorised_5': functions_vectorised.vectorised_5}\n",
        "\n",
        "criteria = ['ints',\n",
        "            'tuples',\n",
        "            'ints',\n",
        "            'tuples',\n",
        "            'tuples']\n",
        "\n",
        "data = [data_1,\n",
        "        data_2,\n",
        "        data_3,\n",
        "        data_4,\n",
        "        data_5]\n",
        "\n",
        "for i in range(5):\n",
        "    times['func'] += [f'function_{i + 1}'] * 2\n",
        "    temp_default = 0\n",
        "    temp_vectorised = 0\n",
        "    data_length = len(data[i])\n",
        "    for dt in data[i]:\n",
        "        if criteria[i] == 'ints':\n",
        "            temp_default += (count_time(funcs[f'default_{i+1}'], dt))\n",
        "            temp_vectorised += (count_time(funcs[f'vectorised_{i+1}'], dt))\n",
        "        else:\n",
        "            temp_default += (count_time(funcs[f'default_{i+1}'], dt[0], dt[1]))\n",
        "            temp_vectorised += (count_time(funcs[f'vectorised_{i+1}'], dt[0], dt[1]))\n",
        "\n",
        "    times['performance'].append(temp_default / data_length)\n",
        "    times['performance'].append(temp_vectorised / data_length)\n"
      ]
    },
    {
      "cell_type": "code",
      "source": [
        "print(times)"
      ],
      "metadata": {
        "colab": {
          "base_uri": "https://localhost:8080/"
        },
        "id": "MsV4AHZOTNHP",
        "outputId": "8e79709a-9e48-4a97-a2ec-a51625a42239"
      },
      "id": "MsV4AHZOTNHP",
      "execution_count": 22,
      "outputs": [
        {
          "output_type": "stream",
          "name": "stdout",
          "text": [
            "{'func': ['function_1', 'function_1', 'function_2', 'function_2', 'function_3', 'function_3', 'function_4', 'function_4', 'function_5', 'function_5'], 'performance': [0.001705513249987689, 0.0001283807499703471, 0.001106969499915067, 0.00017238349994386226, 0.0010694515000295723, 0.00013524000002007597, 1.521103927333267, 0.02380282033338214, 0.004022044249950341, 0.00012953024997841567], 'type': ['default', 'vectorised', 'default', 'vectorised', 'default', 'vectorised', 'default', 'vectorised', 'default', 'vectorised']}\n"
          ]
        }
      ]
    },
    {
      "cell_type": "code",
      "source": [
        "import seaborn as sns\n",
        "import matplotlib.pyplot as plt\n",
        "\n",
        "sns.set_theme()\n",
        "\n",
        "sns.barplot(data = times, x = 'func', y = 'performance', hue = 'type', palette = 'crest')\n",
        "\n",
        "plt.show()"
      ],
      "metadata": {
        "id": "3Z7dXEAsN8yu",
        "colab": {
          "base_uri": "https://localhost:8080/",
          "height": 548
        },
        "outputId": "2dcee9db-b74b-4115-97fb-5915fa7ffcdf"
      },
      "id": "3Z7dXEAsN8yu",
      "execution_count": 24,
      "outputs": [
        {
          "output_type": "stream",
          "name": "stderr",
          "text": [
            "/usr/local/lib/python3.10/dist-packages/seaborn/_base.py:949: FutureWarning: When grouping with a length-1 list-like, you will need to pass a length-1 tuple to get_group in a future version of pandas. Pass `(name,)` instead of `name` to silence this warning.\n",
            "  data_subset = grouped_data.get_group(pd_key)\n",
            "/usr/local/lib/python3.10/dist-packages/seaborn/_base.py:949: FutureWarning: When grouping with a length-1 list-like, you will need to pass a length-1 tuple to get_group in a future version of pandas. Pass `(name,)` instead of `name` to silence this warning.\n",
            "  data_subset = grouped_data.get_group(pd_key)\n"
          ]
        },
        {
          "output_type": "display_data",
          "data": {
            "text/plain": [
              "<Figure size 640x480 with 1 Axes>"
            ],
            "image/png": "[encoded data removed]"
          },
          "metadata": {}
        }
      ]
    },
    {
      "cell_type": "markdown",
      "id": "9c241dae",
      "metadata": {
        "id": "9c241dae",
        "run_control": {
          "frozen": false,
          "read_only": false
        }
      },
      "source": [
        "**Выводы**: Нифига себе (график все говорит за себя). Ну а вообще, время практически не отличается, если решение линейное. а если куб, как в 4-ой, то с numpy гораздо быстрее.\n",
        "\n",
        "---\n",
        "\n"
      ]
    }
  ],
  "metadata": {
    "colab": {
      "provenance": []
    },
    "hide_input": false,
    "kernelspec": {
      "display_name": "Python 3 (ipykernel)",
      "language": "python",
      "name": "python3"
    },
    "language_info": {
      "codemirror_mode": {
        "name": "ipython",
        "version": 3
      },
      "file_extension": ".py",
      "mimetype": "text/x-python",
      "name": "python",
      "nbconvert_exporter": "python",
      "pygments_lexer": "ipython3",
      "version": "3.10.2"
    }
  },
  "nbformat": 4,
  "nbformat_minor": 5
}